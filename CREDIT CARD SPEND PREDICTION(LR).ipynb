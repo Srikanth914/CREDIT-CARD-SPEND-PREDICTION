{
 "cells": [
  {
   "cell_type": "markdown",
   "metadata": {},
   "source": [
    "###### CREDIT CARD SPEND PREDICTION & IDENTIFY DRIVERS FOR SPEND"
   ]
  },
  {
   "cell_type": "code",
   "execution_count": 1,
   "metadata": {},
   "outputs": [
    {
     "name": "stderr",
     "output_type": "stream",
     "text": [
      "C:\\ProgramData\\Anaconda3\\lib\\site-packages\\sklearn\\externals\\joblib\\__init__.py:15: DeprecationWarning: sklearn.externals.joblib is deprecated in 0.21 and will be removed in 0.23. Please import this functionality directly from joblib, which can be installed with: pip install joblib. If this warning is raised when loading pickled models, you may need to re-serialize those models with scikit-learn 0.21+.\n",
      "  warnings.warn(msg, category=DeprecationWarning)\n"
     ]
    },
    {
     "data": {
      "text/plain": [
       "<Figure size 432x216 with 0 Axes>"
      ]
     },
     "metadata": {},
     "output_type": "display_data"
    }
   ],
   "source": [
    "#Packages related to general operating system & warnings\n",
    "import os \n",
    "import warnings\n",
    "warnings.filterwarnings('ignore')\n",
    "import math\n",
    "from sklearn.metrics import mean_squared_error\n",
    "\n",
    "#Packages related to data importing, manipulation, exploratory data analysis, data understanding\n",
    "import numpy as np\n",
    "import pandas as pd\n",
    "from pandas import Series, DataFrame\n",
    "import pandas_profiling\n",
    "import scipy.stats as stats\n",
    "\n",
    "#Packages related to data visualizaiton\n",
    "import seaborn as sns\n",
    "import matplotlib.pyplot as plt\n",
    "%matplotlib inline\n",
    "\n",
    "#Setting plot sizes and type of plot\n",
    "plt.rc(\"font\", size=14)\n",
    "plt.rcParams['axes.grid'] = True\n",
    "plt.figure(figsize=(6,3))\n",
    "plt.gray()\n",
    "\n",
    "from matplotlib.backends.backend_pdf import PdfPages\n",
    "\n",
    "#Modules related to split the data & gridsearch\n",
    "from sklearn.model_selection import train_test_split, GridSearchCV\n",
    "\n",
    "#Module related to calculation of metrics\n",
    "from sklearn import metrics\n",
    "\n",
    "#Module related to VIF \n",
    "from statsmodels.stats.outliers_influence import variance_inflation_factor\n",
    "\n",
    "#Modules related to preprocessing (Imputation of missings, standardiszation, new features creation, converting categorical to numerical)\n",
    "from sklearn.impute import MissingIndicator, SimpleImputer\n",
    "from sklearn.preprocessing import Imputer, PolynomialFeatures, KBinsDiscretizer, FunctionTransformer\n",
    "from sklearn.preprocessing import StandardScaler, MinMaxScaler, MaxAbsScaler\n",
    "from sklearn.preprocessing import LabelEncoder, OneHotEncoder, LabelBinarizer, OrdinalEncoder\n",
    "\n",
    "#Moudles related to feature selection\n",
    "from sklearn.feature_selection import RFE, RFECV, SelectKBest, chi2, SelectPercentile, f_classif, mutual_info_classif, f_regression, VarianceThreshold, SelectFromModel, mutual_info_classif, mutual_info_regression, SelectFpr, SelectFdr, SelectFwe\n",
    "\n",
    "\n",
    "#Modules related to pipe line creation for faster processing\n",
    "from sklearn.pipeline import Pipeline\n",
    "from sklearn.pipeline import FeatureUnion\n",
    "#from sklearn.features.transformers import DataFrameSelector\n",
    "\n",
    "#Modules related to saving python objects permanantly\n",
    "from sklearn.externals import joblib\n",
    "\n",
    "#Dumping model into current directory: joblib.dump(model_xg,\"my_model.pkl\") \n",
    "#Loading model: my_model_loaded=joblib.load(\"my_model.pkl\")\n",
    "\n",
    "#Modules related key techniques of supervised learning \n",
    "import statsmodels.formula.api as smf\n",
    "\n",
    "from sklearn.linear_model import LogisticRegression, LinearRegression, ElasticNet, Lasso, Ridge\n",
    "from sklearn.neighbors import KNeighborsClassifier, KNeighborsRegressor\n",
    "from sklearn.tree import DecisionTreeClassifier, DecisionTreeRegressor, export_graphviz, export\n",
    "from sklearn.ensemble import BaggingClassifier, BaggingRegressor,RandomForestClassifier,RandomForestRegressor\n",
    "from sklearn.ensemble import GradientBoostingClassifier,GradientBoostingRegressor, AdaBoostClassifier, AdaBoostRegressor \n",
    "#from xgboost import XGBClassifier, XGBRegressor\n",
    "from sklearn.naive_bayes import BernoulliNB, MultinomialNB, GaussianNB\n",
    "from sklearn.svm import LinearSVC, LinearSVR, SVC, SVR\n",
    "from sklearn.neural_network import MLPClassifier, MLPRegressor"
   ]
  },
  {
   "cell_type": "code",
   "execution_count": 2,
   "metadata": {},
   "outputs": [],
   "source": [
    "data = pd.read_excel('Data Set.xlsx',sep=';')"
   ]
  },
  {
   "cell_type": "code",
   "execution_count": 3,
   "metadata": {},
   "outputs": [
    {
     "data": {
      "text/html": [
       "<div>\n",
       "<style scoped>\n",
       "    .dataframe tbody tr th:only-of-type {\n",
       "        vertical-align: middle;\n",
       "    }\n",
       "\n",
       "    .dataframe tbody tr th {\n",
       "        vertical-align: top;\n",
       "    }\n",
       "\n",
       "    .dataframe thead th {\n",
       "        text-align: right;\n",
       "    }\n",
       "</style>\n",
       "<table border=\"1\" class=\"dataframe\">\n",
       "  <thead>\n",
       "    <tr style=\"text-align: right;\">\n",
       "      <th></th>\n",
       "      <th>custid</th>\n",
       "      <th>region</th>\n",
       "      <th>townsize</th>\n",
       "      <th>gender</th>\n",
       "      <th>age</th>\n",
       "      <th>agecat</th>\n",
       "      <th>birthmonth</th>\n",
       "      <th>ed</th>\n",
       "      <th>edcat</th>\n",
       "      <th>jobcat</th>\n",
       "      <th>...</th>\n",
       "      <th>owncd</th>\n",
       "      <th>ownpda</th>\n",
       "      <th>ownpc</th>\n",
       "      <th>ownipod</th>\n",
       "      <th>owngame</th>\n",
       "      <th>ownfax</th>\n",
       "      <th>news</th>\n",
       "      <th>response_01</th>\n",
       "      <th>response_02</th>\n",
       "      <th>response_03</th>\n",
       "    </tr>\n",
       "  </thead>\n",
       "  <tbody>\n",
       "    <tr>\n",
       "      <td>0</td>\n",
       "      <td>3964-QJWTRG-NPN</td>\n",
       "      <td>1</td>\n",
       "      <td>2.0</td>\n",
       "      <td>1</td>\n",
       "      <td>20</td>\n",
       "      <td>2</td>\n",
       "      <td>September</td>\n",
       "      <td>15</td>\n",
       "      <td>3</td>\n",
       "      <td>1</td>\n",
       "      <td>...</td>\n",
       "      <td>0</td>\n",
       "      <td>0</td>\n",
       "      <td>0</td>\n",
       "      <td>1</td>\n",
       "      <td>1</td>\n",
       "      <td>0</td>\n",
       "      <td>0</td>\n",
       "      <td>0</td>\n",
       "      <td>1</td>\n",
       "      <td>0</td>\n",
       "    </tr>\n",
       "    <tr>\n",
       "      <td>1</td>\n",
       "      <td>0648-AIPJSP-UVM</td>\n",
       "      <td>5</td>\n",
       "      <td>5.0</td>\n",
       "      <td>0</td>\n",
       "      <td>22</td>\n",
       "      <td>2</td>\n",
       "      <td>May</td>\n",
       "      <td>17</td>\n",
       "      <td>4</td>\n",
       "      <td>2</td>\n",
       "      <td>...</td>\n",
       "      <td>1</td>\n",
       "      <td>1</td>\n",
       "      <td>1</td>\n",
       "      <td>1</td>\n",
       "      <td>1</td>\n",
       "      <td>1</td>\n",
       "      <td>1</td>\n",
       "      <td>0</td>\n",
       "      <td>0</td>\n",
       "      <td>0</td>\n",
       "    </tr>\n",
       "  </tbody>\n",
       "</table>\n",
       "<p>2 rows × 130 columns</p>\n",
       "</div>"
      ],
      "text/plain": [
       "            custid  region  townsize  gender  age  agecat birthmonth  ed  \\\n",
       "0  3964-QJWTRG-NPN       1       2.0       1   20       2  September  15   \n",
       "1  0648-AIPJSP-UVM       5       5.0       0   22       2        May  17   \n",
       "\n",
       "   edcat  jobcat  ...  owncd  ownpda  ownpc  ownipod  owngame  ownfax  news  \\\n",
       "0      3       1  ...      0       0      0        1        1       0     0   \n",
       "1      4       2  ...      1       1      1        1        1       1     1   \n",
       "\n",
       "   response_01  response_02  response_03  \n",
       "0            0            1            0  \n",
       "1            0            0            0  \n",
       "\n",
       "[2 rows x 130 columns]"
      ]
     },
     "execution_count": 3,
     "metadata": {},
     "output_type": "execute_result"
    }
   ],
   "source": [
    "data.head(2)"
   ]
  },
  {
   "cell_type": "code",
   "execution_count": 4,
   "metadata": {},
   "outputs": [],
   "source": [
    "#profile_report = pandas_profiling.ProfileReport(data)"
   ]
  },
  {
   "cell_type": "code",
   "execution_count": 5,
   "metadata": {},
   "outputs": [],
   "source": [
    "#profile_report.to_file('profile_report.html')"
   ]
  },
  {
   "cell_type": "code",
   "execution_count": 6,
   "metadata": {},
   "outputs": [
    {
     "data": {
      "text/plain": [
       "22003"
      ]
     },
     "execution_count": 6,
     "metadata": {},
     "output_type": "execute_result"
    }
   ],
   "source": [
    "#checking missing values \n",
    "sum(data.isnull().sum())"
   ]
  },
  {
   "cell_type": "code",
   "execution_count": 7,
   "metadata": {},
   "outputs": [
    {
     "name": "stdout",
     "output_type": "stream",
     "text": [
      "<class 'pandas.core.frame.DataFrame'>\n",
      "RangeIndex: 5000 entries, 0 to 4999\n",
      "Columns: 130 entries, custid to response_03\n",
      "dtypes: float64(31), int64(97), object(2)\n",
      "memory usage: 5.0+ MB\n"
     ]
    }
   ],
   "source": [
    "#checking cloumns and dtypes\n",
    "data.info()"
   ]
  },
  {
   "cell_type": "code",
   "execution_count": 8,
   "metadata": {},
   "outputs": [
    {
     "data": {
      "text/plain": [
       "(5000, 130)"
      ]
     },
     "execution_count": 8,
     "metadata": {},
     "output_type": "execute_result"
    }
   ],
   "source": [
    "data.shape"
   ]
  },
  {
   "cell_type": "markdown",
   "metadata": {},
   "source": [
    "## Data Analysis"
   ]
  },
  {
   "cell_type": "code",
   "execution_count": 9,
   "metadata": {
    "scrolled": true
   },
   "outputs": [
    {
     "data": {
      "text/plain": [
       "Index(['custid', 'region', 'townsize', 'gender', 'age', 'agecat', 'birthmonth',\n",
       "       'ed', 'edcat', 'jobcat',\n",
       "       ...\n",
       "       'owncd', 'ownpda', 'ownpc', 'ownipod', 'owngame', 'ownfax', 'news',\n",
       "       'response_01', 'response_02', 'response_03'],\n",
       "      dtype='object', length=130)"
      ]
     },
     "execution_count": 9,
     "metadata": {},
     "output_type": "execute_result"
    }
   ],
   "source": [
    "# printing all cloumns data set \n",
    "data.columns"
   ]
  },
  {
   "cell_type": "code",
   "execution_count": 10,
   "metadata": {},
   "outputs": [
    {
     "data": {
      "text/plain": [
       "False    115\n",
       "True      15\n",
       "dtype: int64"
      ]
     },
     "execution_count": 10,
     "metadata": {},
     "output_type": "execute_result"
    }
   ],
   "source": [
    "data.isnull().any().value_counts()"
   ]
  },
  {
   "cell_type": "code",
   "execution_count": 11,
   "metadata": {},
   "outputs": [
    {
     "data": {
      "text/plain": [
       "False    5000\n",
       "dtype: int64"
      ]
     },
     "execution_count": 11,
     "metadata": {},
     "output_type": "execute_result"
    }
   ],
   "source": [
    "data.duplicated().value_counts()"
   ]
  },
  {
   "cell_type": "code",
   "execution_count": 12,
   "metadata": {
    "scrolled": true
   },
   "outputs": [
    {
     "data": {
      "text/plain": [
       "0     81.66\n",
       "1     42.60\n",
       "2    184.22\n",
       "3    340.99\n",
       "4    255.10\n",
       "Name: cardspent, dtype: float64"
      ]
     },
     "execution_count": 12,
     "metadata": {},
     "output_type": "execute_result"
    }
   ],
   "source": [
    "data.cardspent.head()"
   ]
  },
  {
   "cell_type": "code",
   "execution_count": 13,
   "metadata": {},
   "outputs": [
    {
     "data": {
      "text/plain": [
       "0     67.80\n",
       "1     34.94\n",
       "2    175.75\n",
       "3     18.42\n",
       "4    252.73\n",
       "Name: card2spent, dtype: float64"
      ]
     },
     "execution_count": 13,
     "metadata": {},
     "output_type": "execute_result"
    }
   ],
   "source": [
    "data.card2spent.head()"
   ]
  },
  {
   "cell_type": "code",
   "execution_count": 14,
   "metadata": {},
   "outputs": [],
   "source": [
    "# Adding a new column total spend & dropping the summarised columns\n",
    "data['Total_spend']=data.cardspent+data.card2spent"
   ]
  },
  {
   "cell_type": "code",
   "execution_count": 15,
   "metadata": {},
   "outputs": [],
   "source": [
    "del data['cardspent']"
   ]
  },
  {
   "cell_type": "code",
   "execution_count": 16,
   "metadata": {},
   "outputs": [],
   "source": [
    "del data['card2spent']"
   ]
  },
  {
   "cell_type": "code",
   "execution_count": 17,
   "metadata": {},
   "outputs": [
    {
     "data": {
      "text/html": [
       "<div>\n",
       "<style scoped>\n",
       "    .dataframe tbody tr th:only-of-type {\n",
       "        vertical-align: middle;\n",
       "    }\n",
       "\n",
       "    .dataframe tbody tr th {\n",
       "        vertical-align: top;\n",
       "    }\n",
       "\n",
       "    .dataframe thead th {\n",
       "        text-align: right;\n",
       "    }\n",
       "</style>\n",
       "<table border=\"1\" class=\"dataframe\">\n",
       "  <thead>\n",
       "    <tr style=\"text-align: right;\">\n",
       "      <th></th>\n",
       "      <th>custid</th>\n",
       "      <th>region</th>\n",
       "      <th>townsize</th>\n",
       "      <th>gender</th>\n",
       "      <th>age</th>\n",
       "      <th>agecat</th>\n",
       "      <th>birthmonth</th>\n",
       "      <th>ed</th>\n",
       "      <th>edcat</th>\n",
       "      <th>jobcat</th>\n",
       "      <th>...</th>\n",
       "      <th>ownpda</th>\n",
       "      <th>ownpc</th>\n",
       "      <th>ownipod</th>\n",
       "      <th>owngame</th>\n",
       "      <th>ownfax</th>\n",
       "      <th>news</th>\n",
       "      <th>response_01</th>\n",
       "      <th>response_02</th>\n",
       "      <th>response_03</th>\n",
       "      <th>Total_spend</th>\n",
       "    </tr>\n",
       "  </thead>\n",
       "  <tbody>\n",
       "    <tr>\n",
       "      <td>0</td>\n",
       "      <td>3964-QJWTRG-NPN</td>\n",
       "      <td>1</td>\n",
       "      <td>2.0</td>\n",
       "      <td>1</td>\n",
       "      <td>20</td>\n",
       "      <td>2</td>\n",
       "      <td>September</td>\n",
       "      <td>15</td>\n",
       "      <td>3</td>\n",
       "      <td>1</td>\n",
       "      <td>...</td>\n",
       "      <td>0</td>\n",
       "      <td>0</td>\n",
       "      <td>1</td>\n",
       "      <td>1</td>\n",
       "      <td>0</td>\n",
       "      <td>0</td>\n",
       "      <td>0</td>\n",
       "      <td>1</td>\n",
       "      <td>0</td>\n",
       "      <td>149.46</td>\n",
       "    </tr>\n",
       "    <tr>\n",
       "      <td>1</td>\n",
       "      <td>0648-AIPJSP-UVM</td>\n",
       "      <td>5</td>\n",
       "      <td>5.0</td>\n",
       "      <td>0</td>\n",
       "      <td>22</td>\n",
       "      <td>2</td>\n",
       "      <td>May</td>\n",
       "      <td>17</td>\n",
       "      <td>4</td>\n",
       "      <td>2</td>\n",
       "      <td>...</td>\n",
       "      <td>1</td>\n",
       "      <td>1</td>\n",
       "      <td>1</td>\n",
       "      <td>1</td>\n",
       "      <td>1</td>\n",
       "      <td>1</td>\n",
       "      <td>0</td>\n",
       "      <td>0</td>\n",
       "      <td>0</td>\n",
       "      <td>77.54</td>\n",
       "    </tr>\n",
       "  </tbody>\n",
       "</table>\n",
       "<p>2 rows × 129 columns</p>\n",
       "</div>"
      ],
      "text/plain": [
       "            custid  region  townsize  gender  age  agecat birthmonth  ed  \\\n",
       "0  3964-QJWTRG-NPN       1       2.0       1   20       2  September  15   \n",
       "1  0648-AIPJSP-UVM       5       5.0       0   22       2        May  17   \n",
       "\n",
       "   edcat  jobcat  ...  ownpda  ownpc  ownipod  owngame  ownfax  news  \\\n",
       "0      3       1  ...       0      0        1        1       0     0   \n",
       "1      4       2  ...       1      1        1        1       1     1   \n",
       "\n",
       "   response_01  response_02  response_03  Total_spend  \n",
       "0            0            1            0       149.46  \n",
       "1            0            0            0        77.54  \n",
       "\n",
       "[2 rows x 129 columns]"
      ]
     },
     "execution_count": 17,
     "metadata": {},
     "output_type": "execute_result"
    }
   ],
   "source": [
    "data.head(2)"
   ]
  },
  {
   "cell_type": "code",
   "execution_count": 18,
   "metadata": {},
   "outputs": [
    {
     "data": {
      "text/plain": [
       "(5000, 129)"
      ]
     },
     "execution_count": 18,
     "metadata": {},
     "output_type": "execute_result"
    }
   ],
   "source": [
    "data.shape"
   ]
  },
  {
   "cell_type": "raw",
   "metadata": {},
   "source": [
    "its ourwish###############################"
   ]
  },
  {
   "cell_type": "code",
   "execution_count": 19,
   "metadata": {},
   "outputs": [],
   "source": [
    "# Univarite Analysis:"
   ]
  },
  {
   "cell_type": "raw",
   "metadata": {},
   "source": [
    "for i in data.columns:\n",
    "    data[i].hist()\n",
    "    plt.xlabel(str(i))\n",
    "    plt.show()"
   ]
  },
  {
   "cell_type": "code",
   "execution_count": 20,
   "metadata": {},
   "outputs": [],
   "source": [
    "# Bivariate Analysis:"
   ]
  },
  {
   "cell_type": "raw",
   "metadata": {},
   "source": [
    "plt.scatter(data.Credit_Amount,data.Duration_Months, alpha=0.5)\n",
    "plt.title('Scatter plot pythonspot.com')\n",
    "plt.xlabel('Credit Amount')\n",
    "plt.ylabel('Duration Months')\n",
    "plt.show()\n",
    "\n",
    "plt.scatter(data.Credit_Amount,data.Age, alpha=0.5)\n",
    "plt.title('Scatter plot pythonspot.com')\n",
    "plt.xlabel('Credit Amount')\n",
    "plt.ylabel('Age')\n",
    "plt.show()"
   ]
  },
  {
   "cell_type": "markdown",
   "metadata": {},
   "source": [
    "# Data Preparation 1"
   ]
  },
  {
   "cell_type": "code",
   "execution_count": 21,
   "metadata": {},
   "outputs": [],
   "source": [
    "#droping columns which are highly correlated\n",
    "data.drop(['addresscat','agecat','card2tenurecat','cardtenure','cardtenurecat','commutecat','edcat','equipmon','lncardmon','lnequipmon','lninc','lnlongten','lntollten','lnwireten','longten','spoused','spousedcat','tenure','tollmon','wiremon'],axis=1,inplace=True)"
   ]
  },
  {
   "cell_type": "code",
   "execution_count": 22,
   "metadata": {},
   "outputs": [
    {
     "data": {
      "text/plain": [
       "(5000, 109)"
      ]
     },
     "execution_count": 22,
     "metadata": {},
     "output_type": "execute_result"
    }
   ],
   "source": [
    "data.shape"
   ]
  },
  {
   "cell_type": "code",
   "execution_count": 23,
   "metadata": {},
   "outputs": [],
   "source": [
    "data.drop(['custid'],axis=1 ,inplace=True)"
   ]
  },
  {
   "cell_type": "code",
   "execution_count": 24,
   "metadata": {},
   "outputs": [
    {
     "data": {
      "text/plain": [
       "(5000, 108)"
      ]
     },
     "execution_count": 24,
     "metadata": {},
     "output_type": "execute_result"
    }
   ],
   "source": [
    "data.shape"
   ]
  },
  {
   "cell_type": "code",
   "execution_count": 25,
   "metadata": {},
   "outputs": [
    {
     "data": {
      "text/plain": [
       "array(['region', 'townsize', 'gender', 'age', 'birthmonth', 'ed',\n",
       "       'jobcat', 'union', 'employ', 'empcat', 'retire', 'income',\n",
       "       'inccat', 'debtinc', 'creddebt', 'lncreddebt', 'othdebt',\n",
       "       'lnothdebt', 'default', 'jobsat', 'marital', 'reside', 'pets',\n",
       "       'pets_cats', 'pets_dogs', 'pets_birds', 'pets_reptiles',\n",
       "       'pets_small', 'pets_saltfish', 'pets_freshfish', 'homeown',\n",
       "       'hometype', 'address', 'cars', 'carown', 'cartype', 'carvalue',\n",
       "       'carcatvalue', 'carbought', 'carbuy', 'commute', 'commutetime',\n",
       "       'commutecar', 'commutemotorcycle', 'commutecarpool', 'commutebus',\n",
       "       'commuterail', 'commutepublic', 'commutebike', 'commutewalk',\n",
       "       'commutenonmotor', 'telecommute', 'reason', 'polview', 'polparty',\n",
       "       'polcontrib', 'vote', 'card', 'cardtype', 'cardbenefit', 'cardfee',\n",
       "       'card2', 'card2type', 'card2benefit', 'card2fee', 'card2tenure',\n",
       "       'active', 'bfast', 'churn', 'longmon', 'lnlongmon', 'tollfree',\n",
       "       'lntollmon', 'tollten', 'equip', 'equipten', 'lnequipten',\n",
       "       'callcard', 'cardmon', 'cardten', 'lncardten', 'wireless',\n",
       "       'lnwiremon', 'wireten', 'multline', 'voice', 'pager', 'internet',\n",
       "       'callid', 'callwait', 'forward', 'confer', 'ebill', 'owntv',\n",
       "       'hourstv', 'ownvcr', 'owndvd', 'owncd', 'ownpda', 'ownpc',\n",
       "       'ownipod', 'owngame', 'ownfax', 'news', 'response_01',\n",
       "       'response_02', 'response_03', 'Total_spend'], dtype=object)"
      ]
     },
     "execution_count": 25,
     "metadata": {},
     "output_type": "execute_result"
    }
   ],
   "source": [
    "data.columns.values"
   ]
  },
  {
   "cell_type": "code",
   "execution_count": 26,
   "metadata": {},
   "outputs": [],
   "source": [
    "cat_var =['region',\n",
    "'townsize',\n",
    "'gender',\n",
    "'birthmonth',\n",
    "'jobcat',\n",
    "'union',\n",
    "'employ',\n",
    "'empcat',\n",
    "'retire',\n",
    "'inccat',\n",
    "'default',\n",
    "'jobsat',\n",
    "'marital',\n",
    "'homeown',\n",
    "'hometype',\n",
    "'address',\n",
    "'cars',\n",
    "'carown',\n",
    "'cartype',\n",
    "'carcatvalue',\n",
    "'carbought',\n",
    "'carbuy',\n",
    "'commute',\n",
    "'commutecar',\n",
    "'commutemotorcycle',\n",
    "'commutecarpool',\n",
    "'commutebus',\n",
    "'commuterail',\n",
    "'commutepublic',\n",
    "'commutebike',\n",
    "'commutewalk',\n",
    "'commutenonmotor',\n",
    "'telecommute',\n",
    "'reason',\n",
    "'polview',\n",
    "'polparty',\n",
    "'polcontrib',\n",
    "'vote',\n",
    "'card',\n",
    "'cardtype',\n",
    "'cardbenefit',\n",
    "'cardfee',\n",
    "'card2',\n",
    "'card2type',\n",
    "'card2benefit',\n",
    "'card2fee',\n",
    "'card2tenure',\n",
    "'active',\n",
    "'bfast',\n",
    "'churn',\n",
    "'tollfree',\n",
    "'equip',\n",
    "'callcard',\n",
    "'wireless',\n",
    "'multline',\n",
    "'voice',\n",
    "'pager',\n",
    "'internet',\n",
    "'callid',\n",
    "'callwait',\n",
    "'forward',\n",
    "'confer',\n",
    "'ebill',\n",
    "'owntv',\n",
    "'ownvcr',\n",
    "'owndvd',\n",
    "'owncd',\n",
    "'ownpda',\n",
    "'ownpc',\n",
    "'ownipod',\n",
    "'owngame',\n",
    "'ownfax',\n",
    "'news',\n",
    "'response_01',\n",
    "'response_02',\n",
    "'response_03',\n",
    "]"
   ]
  },
  {
   "cell_type": "code",
   "execution_count": 27,
   "metadata": {},
   "outputs": [],
   "source": [
    "num_var =['age','Total_spend',\n",
    "'ed',\n",
    "'income',\n",
    "'debtinc',\n",
    "'creddebt',\n",
    "'lncreddebt',\n",
    "'othdebt',\n",
    "'lnothdebt',\n",
    "'reside',\n",
    "'pets',\n",
    "'pets_cats',\n",
    "'pets_dogs',\n",
    "'pets_birds',\n",
    "'pets_reptiles',\n",
    "'pets_small',\n",
    "'pets_saltfish',\n",
    "'pets_freshfish',\n",
    "'carvalue',\n",
    "'commutetime',\n",
    "'longmon',\n",
    "'lnlongmon',\n",
    "'lntollmon',\n",
    "'tollten',\n",
    "'equipten',\n",
    "'lnequipten',\n",
    "'cardmon',\n",
    "'cardten',\n",
    "'lncardten',\n",
    "'lnwiremon',\n",
    "'wireten',\n",
    "'hourstv',\n",
    "]"
   ]
  },
  {
   "cell_type": "code",
   "execution_count": 28,
   "metadata": {},
   "outputs": [],
   "source": [
    "for i in cat_var:\n",
    "    data[i]=data[i].astype('object')"
   ]
  },
  {
   "cell_type": "code",
   "execution_count": 29,
   "metadata": {},
   "outputs": [
    {
     "data": {
      "text/plain": [
       "region          object\n",
       "townsize        object\n",
       "gender          object\n",
       "age              int64\n",
       "birthmonth      object\n",
       "                ...   \n",
       "news            object\n",
       "response_01     object\n",
       "response_02     object\n",
       "response_03     object\n",
       "Total_spend    float64\n",
       "Length: 108, dtype: object"
      ]
     },
     "execution_count": 29,
     "metadata": {},
     "output_type": "execute_result"
    }
   ],
   "source": [
    "data.dtypes"
   ]
  },
  {
   "cell_type": "code",
   "execution_count": 30,
   "metadata": {},
   "outputs": [],
   "source": [
    "data_num = data[num_var]\n",
    "data_cat = data[cat_var]"
   ]
  },
  {
   "cell_type": "markdown",
   "metadata": {},
   "source": [
    "#### Alternative method to split the numerical & categorical dynamically(if categarical is correct dtypes)"
   ]
  },
  {
   "cell_type": "raw",
   "metadata": {},
   "source": [
    "#Alternative method to split the numerical & categorical dynamically\n",
    "dict(data.dtypes)"
   ]
  },
  {
   "cell_type": "raw",
   "metadata": {},
   "source": [
    "numeric_var_names=[key for key in dict(data.dtypes) if dict(data.dtypes)[key] in ['float64', 'int64', 'float32', 'int32']]\n",
    "cat_var_names=[key for key in dict(data.dtypes) if dict(data.dtypes)[key] in ['object']]\n",
    "print(numeric_var_names)\n",
    "print(cat_var_names)"
   ]
  },
  {
   "cell_type": "raw",
   "metadata": {},
   "source": [
    "numeric_var_names"
   ]
  },
  {
   "cell_type": "raw",
   "metadata": {},
   "source": [
    "cat_var_names"
   ]
  },
  {
   "cell_type": "raw",
   "metadata": {},
   "source": [
    "data_num = data[numeric_var_names]\n",
    "data_cat = data[cat_var_names]"
   ]
  },
  {
   "cell_type": "code",
   "execution_count": 31,
   "metadata": {},
   "outputs": [],
   "source": [
    "#####################################################################################################################"
   ]
  },
  {
   "cell_type": "code",
   "execution_count": 32,
   "metadata": {},
   "outputs": [
    {
     "data": {
      "text/plain": [
       "(5000, 32)"
      ]
     },
     "execution_count": 32,
     "metadata": {},
     "output_type": "execute_result"
    }
   ],
   "source": [
    "data_num.shape"
   ]
  },
  {
   "cell_type": "code",
   "execution_count": 33,
   "metadata": {},
   "outputs": [
    {
     "data": {
      "text/plain": [
       "(5000, 76)"
      ]
     },
     "execution_count": 33,
     "metadata": {},
     "output_type": "execute_result"
    }
   ],
   "source": [
    "data_cat.shape"
   ]
  },
  {
   "cell_type": "code",
   "execution_count": 34,
   "metadata": {},
   "outputs": [
    {
     "data": {
      "text/plain": [
       "(5000, 108)"
      ]
     },
     "execution_count": 34,
     "metadata": {},
     "output_type": "execute_result"
    }
   ],
   "source": [
    "data.shape"
   ]
  },
  {
   "cell_type": "code",
   "execution_count": 35,
   "metadata": {},
   "outputs": [],
   "source": [
    "# Creating Data audit Report\n",
    "# Use a general function that returns multiple values\n",
    "def var_summary(x):\n",
    "    return pd.Series([x.count(), x.isnull().sum(), x.sum(), x.mean(), x.median(),  x.std(), x.var(), x.min(), x.dropna().quantile(0.01), x.dropna().quantile(0.05),x.dropna().quantile(0.10),x.dropna().quantile(0.25),x.dropna().quantile(0.50),x.dropna().quantile(0.75), x.dropna().quantile(0.90),x.dropna().quantile(0.95), x.dropna().quantile(0.99),x.max()], \n",
    "                  index=['N', 'NMISS', 'SUM', 'MEAN','MEDIAN', 'STD', 'VAR', 'MIN', 'P1' , 'P5' ,'P10' ,'P25' ,'P50' ,'P75' ,'P90' ,'P95' ,'P99' ,'MAX'])\n",
    "\n",
    "num_summary=data_num.apply(lambda x: var_summary(x)).T"
   ]
  },
  {
   "cell_type": "code",
   "execution_count": 36,
   "metadata": {
    "scrolled": true
   },
   "outputs": [
    {
     "data": {
      "text/html": [
       "<div>\n",
       "<style scoped>\n",
       "    .dataframe tbody tr th:only-of-type {\n",
       "        vertical-align: middle;\n",
       "    }\n",
       "\n",
       "    .dataframe tbody tr th {\n",
       "        vertical-align: top;\n",
       "    }\n",
       "\n",
       "    .dataframe thead th {\n",
       "        text-align: right;\n",
       "    }\n",
       "</style>\n",
       "<table border=\"1\" class=\"dataframe\">\n",
       "  <thead>\n",
       "    <tr style=\"text-align: right;\">\n",
       "      <th></th>\n",
       "      <th>N</th>\n",
       "      <th>NMISS</th>\n",
       "      <th>SUM</th>\n",
       "      <th>MEAN</th>\n",
       "      <th>MEDIAN</th>\n",
       "      <th>STD</th>\n",
       "      <th>VAR</th>\n",
       "      <th>MIN</th>\n",
       "      <th>P1</th>\n",
       "      <th>P5</th>\n",
       "      <th>P10</th>\n",
       "      <th>P25</th>\n",
       "      <th>P50</th>\n",
       "      <th>P75</th>\n",
       "      <th>P90</th>\n",
       "      <th>P95</th>\n",
       "      <th>P99</th>\n",
       "      <th>MAX</th>\n",
       "    </tr>\n",
       "  </thead>\n",
       "  <tbody>\n",
       "    <tr>\n",
       "      <td>age</td>\n",
       "      <td>5000.0</td>\n",
       "      <td>0.0</td>\n",
       "      <td>235128.00</td>\n",
       "      <td>47.02560</td>\n",
       "      <td>47.00</td>\n",
       "      <td>17.770338</td>\n",
       "      <td>315.784902</td>\n",
       "      <td>18.00</td>\n",
       "      <td>18.0000</td>\n",
       "      <td>20.000</td>\n",
       "      <td>23.000</td>\n",
       "      <td>31.0000</td>\n",
       "      <td>47.00</td>\n",
       "      <td>62.0000</td>\n",
       "      <td>72.000</td>\n",
       "      <td>76.0000</td>\n",
       "      <td>79.0000</td>\n",
       "      <td>79.00</td>\n",
       "    </tr>\n",
       "    <tr>\n",
       "      <td>Total_spend</td>\n",
       "      <td>5000.0</td>\n",
       "      <td>0.0</td>\n",
       "      <td>2490393.15</td>\n",
       "      <td>498.07863</td>\n",
       "      <td>414.25</td>\n",
       "      <td>351.529270</td>\n",
       "      <td>123572.827720</td>\n",
       "      <td>8.11</td>\n",
       "      <td>58.1976</td>\n",
       "      <td>133.106</td>\n",
       "      <td>184.033</td>\n",
       "      <td>276.2825</td>\n",
       "      <td>414.25</td>\n",
       "      <td>615.5625</td>\n",
       "      <td>908.125</td>\n",
       "      <td>1145.1465</td>\n",
       "      <td>1760.1024</td>\n",
       "      <td>4881.05</td>\n",
       "    </tr>\n",
       "    <tr>\n",
       "      <td>ed</td>\n",
       "      <td>5000.0</td>\n",
       "      <td>0.0</td>\n",
       "      <td>72715.00</td>\n",
       "      <td>14.54300</td>\n",
       "      <td>14.00</td>\n",
       "      <td>3.281083</td>\n",
       "      <td>10.765504</td>\n",
       "      <td>6.00</td>\n",
       "      <td>8.0000</td>\n",
       "      <td>9.000</td>\n",
       "      <td>10.000</td>\n",
       "      <td>12.0000</td>\n",
       "      <td>14.00</td>\n",
       "      <td>17.0000</td>\n",
       "      <td>19.000</td>\n",
       "      <td>20.0000</td>\n",
       "      <td>21.0000</td>\n",
       "      <td>23.00</td>\n",
       "    </tr>\n",
       "    <tr>\n",
       "      <td>income</td>\n",
       "      <td>5000.0</td>\n",
       "      <td>0.0</td>\n",
       "      <td>273798.00</td>\n",
       "      <td>54.75960</td>\n",
       "      <td>38.00</td>\n",
       "      <td>55.377511</td>\n",
       "      <td>3066.668742</td>\n",
       "      <td>9.00</td>\n",
       "      <td>9.0000</td>\n",
       "      <td>13.000</td>\n",
       "      <td>16.000</td>\n",
       "      <td>24.0000</td>\n",
       "      <td>38.00</td>\n",
       "      <td>67.0000</td>\n",
       "      <td>109.100</td>\n",
       "      <td>147.0000</td>\n",
       "      <td>272.0100</td>\n",
       "      <td>1073.00</td>\n",
       "    </tr>\n",
       "    <tr>\n",
       "      <td>debtinc</td>\n",
       "      <td>5000.0</td>\n",
       "      <td>0.0</td>\n",
       "      <td>49770.80</td>\n",
       "      <td>9.95416</td>\n",
       "      <td>8.80</td>\n",
       "      <td>6.399783</td>\n",
       "      <td>40.957226</td>\n",
       "      <td>0.00</td>\n",
       "      <td>0.7000</td>\n",
       "      <td>1.900</td>\n",
       "      <td>2.800</td>\n",
       "      <td>5.1000</td>\n",
       "      <td>8.80</td>\n",
       "      <td>13.6000</td>\n",
       "      <td>18.600</td>\n",
       "      <td>22.2000</td>\n",
       "      <td>29.2000</td>\n",
       "      <td>43.10</td>\n",
       "    </tr>\n",
       "  </tbody>\n",
       "</table>\n",
       "</div>"
      ],
      "text/plain": [
       "                  N  NMISS         SUM       MEAN  MEDIAN         STD  \\\n",
       "age          5000.0    0.0   235128.00   47.02560   47.00   17.770338   \n",
       "Total_spend  5000.0    0.0  2490393.15  498.07863  414.25  351.529270   \n",
       "ed           5000.0    0.0    72715.00   14.54300   14.00    3.281083   \n",
       "income       5000.0    0.0   273798.00   54.75960   38.00   55.377511   \n",
       "debtinc      5000.0    0.0    49770.80    9.95416    8.80    6.399783   \n",
       "\n",
       "                       VAR    MIN       P1       P5      P10       P25  \\\n",
       "age             315.784902  18.00  18.0000   20.000   23.000   31.0000   \n",
       "Total_spend  123572.827720   8.11  58.1976  133.106  184.033  276.2825   \n",
       "ed               10.765504   6.00   8.0000    9.000   10.000   12.0000   \n",
       "income         3066.668742   9.00   9.0000   13.000   16.000   24.0000   \n",
       "debtinc          40.957226   0.00   0.7000    1.900    2.800    5.1000   \n",
       "\n",
       "                P50       P75      P90        P95        P99      MAX  \n",
       "age           47.00   62.0000   72.000    76.0000    79.0000    79.00  \n",
       "Total_spend  414.25  615.5625  908.125  1145.1465  1760.1024  4881.05  \n",
       "ed            14.00   17.0000   19.000    20.0000    21.0000    23.00  \n",
       "income        38.00   67.0000  109.100   147.0000   272.0100  1073.00  \n",
       "debtinc        8.80   13.6000   18.600    22.2000    29.2000    43.10  "
      ]
     },
     "execution_count": 36,
     "metadata": {},
     "output_type": "execute_result"
    }
   ],
   "source": [
    "num_summary.head()"
   ]
  },
  {
   "cell_type": "code",
   "execution_count": 37,
   "metadata": {},
   "outputs": [],
   "source": [
    "def cat_summary(x):\n",
    "    return pd.Series([x.count(), x.isnull().sum(), x.value_counts()], \n",
    "                  index=['N', 'NMISS', 'ColumnsNames'])\n",
    "\n",
    "cat_summary=data_cat.apply(cat_summary)"
   ]
  },
  {
   "cell_type": "code",
   "execution_count": 38,
   "metadata": {
    "scrolled": false
   },
   "outputs": [
    {
     "data": {
      "text/html": [
       "<div>\n",
       "<style scoped>\n",
       "    .dataframe tbody tr th:only-of-type {\n",
       "        vertical-align: middle;\n",
       "    }\n",
       "\n",
       "    .dataframe tbody tr th {\n",
       "        vertical-align: top;\n",
       "    }\n",
       "\n",
       "    .dataframe thead th {\n",
       "        text-align: right;\n",
       "    }\n",
       "</style>\n",
       "<table border=\"1\" class=\"dataframe\">\n",
       "  <thead>\n",
       "    <tr style=\"text-align: right;\">\n",
       "      <th></th>\n",
       "      <th>region</th>\n",
       "      <th>townsize</th>\n",
       "      <th>gender</th>\n",
       "      <th>birthmonth</th>\n",
       "      <th>jobcat</th>\n",
       "      <th>union</th>\n",
       "      <th>employ</th>\n",
       "      <th>empcat</th>\n",
       "      <th>retire</th>\n",
       "      <th>inccat</th>\n",
       "      <th>...</th>\n",
       "      <th>owncd</th>\n",
       "      <th>ownpda</th>\n",
       "      <th>ownpc</th>\n",
       "      <th>ownipod</th>\n",
       "      <th>owngame</th>\n",
       "      <th>ownfax</th>\n",
       "      <th>news</th>\n",
       "      <th>response_01</th>\n",
       "      <th>response_02</th>\n",
       "      <th>response_03</th>\n",
       "    </tr>\n",
       "  </thead>\n",
       "  <tbody>\n",
       "    <tr>\n",
       "      <td>N</td>\n",
       "      <td>5000</td>\n",
       "      <td>4998</td>\n",
       "      <td>5000</td>\n",
       "      <td>5000</td>\n",
       "      <td>5000</td>\n",
       "      <td>5000</td>\n",
       "      <td>5000</td>\n",
       "      <td>5000</td>\n",
       "      <td>5000</td>\n",
       "      <td>5000</td>\n",
       "      <td>...</td>\n",
       "      <td>5000</td>\n",
       "      <td>5000</td>\n",
       "      <td>5000</td>\n",
       "      <td>5000</td>\n",
       "      <td>5000</td>\n",
       "      <td>5000</td>\n",
       "      <td>5000</td>\n",
       "      <td>5000</td>\n",
       "      <td>5000</td>\n",
       "      <td>5000</td>\n",
       "    </tr>\n",
       "    <tr>\n",
       "      <td>NMISS</td>\n",
       "      <td>0</td>\n",
       "      <td>2</td>\n",
       "      <td>0</td>\n",
       "      <td>0</td>\n",
       "      <td>0</td>\n",
       "      <td>0</td>\n",
       "      <td>0</td>\n",
       "      <td>0</td>\n",
       "      <td>0</td>\n",
       "      <td>0</td>\n",
       "      <td>...</td>\n",
       "      <td>0</td>\n",
       "      <td>0</td>\n",
       "      <td>0</td>\n",
       "      <td>0</td>\n",
       "      <td>0</td>\n",
       "      <td>0</td>\n",
       "      <td>0</td>\n",
       "      <td>0</td>\n",
       "      <td>0</td>\n",
       "      <td>0</td>\n",
       "    </tr>\n",
       "    <tr>\n",
       "      <td>ColumnsNames</td>\n",
       "      <td>5    1027\n",
       "1    1009\n",
       "3    1003\n",
       "2     995\n",
       "4     ...</td>\n",
       "      <td>1.0    1436\n",
       "2.0    1048\n",
       "3.0     907\n",
       "4.0     85...</td>\n",
       "      <td>1    2518\n",
       "0    2482\n",
       "Name: gender, dtype: int64</td>\n",
       "      <td>September    458\n",
       "May          451\n",
       "January     ...</td>\n",
       "      <td>2    1640\n",
       "1    1388\n",
       "6     688\n",
       "3     620\n",
       "5     ...</td>\n",
       "      <td>0    4244\n",
       "1     756\n",
       "Name: union, dtype: int64</td>\n",
       "      <td>0     659\n",
       "1     389\n",
       "2     318\n",
       "3     309\n",
       "4     ...</td>\n",
       "      <td>2    1180\n",
       "5    1135\n",
       "1    1048\n",
       "3     968\n",
       "4     ...</td>\n",
       "      <td>0    4262\n",
       "1     738\n",
       "Name: retire, dtype: int64</td>\n",
       "      <td>2    1797\n",
       "1    1330\n",
       "3     839\n",
       "4     650\n",
       "5     ...</td>\n",
       "      <td>...</td>\n",
       "      <td>1    4664\n",
       "0     336\n",
       "Name: owncd, dtype: int64</td>\n",
       "      <td>0    3995\n",
       "1    1005\n",
       "Name: ownpda, dtype: int64</td>\n",
       "      <td>1    3164\n",
       "0    1836\n",
       "Name: ownpc, dtype: int64</td>\n",
       "      <td>0    2604\n",
       "1    2396\n",
       "Name: ownipod, dtype: int64</td>\n",
       "      <td>0    2626\n",
       "1    2374\n",
       "Name: owngame, dtype: int64</td>\n",
       "      <td>0    4106\n",
       "1     894\n",
       "Name: ownfax, dtype: int64</td>\n",
       "      <td>0    2637\n",
       "1    2363\n",
       "Name: news, dtype: int64</td>\n",
       "      <td>0    4582\n",
       "1     418\n",
       "Name: response_01, dtype: ...</td>\n",
       "      <td>0    4351\n",
       "1     649\n",
       "Name: response_02, dtype: ...</td>\n",
       "      <td>0    4487\n",
       "1     513\n",
       "Name: response_03, dtype: ...</td>\n",
       "    </tr>\n",
       "  </tbody>\n",
       "</table>\n",
       "<p>3 rows × 76 columns</p>\n",
       "</div>"
      ],
      "text/plain": [
       "                                                         region  \\\n",
       "N                                                          5000   \n",
       "NMISS                                                         0   \n",
       "ColumnsNames  5    1027\n",
       "1    1009\n",
       "3    1003\n",
       "2     995\n",
       "4     ...   \n",
       "\n",
       "                                                       townsize  \\\n",
       "N                                                          4998   \n",
       "NMISS                                                         2   \n",
       "ColumnsNames  1.0    1436\n",
       "2.0    1048\n",
       "3.0     907\n",
       "4.0     85...   \n",
       "\n",
       "                                                      gender  \\\n",
       "N                                                       5000   \n",
       "NMISS                                                      0   \n",
       "ColumnsNames  1    2518\n",
       "0    2482\n",
       "Name: gender, dtype: int64   \n",
       "\n",
       "                                                     birthmonth  \\\n",
       "N                                                          5000   \n",
       "NMISS                                                         0   \n",
       "ColumnsNames  September    458\n",
       "May          451\n",
       "January     ...   \n",
       "\n",
       "                                                         jobcat  \\\n",
       "N                                                          5000   \n",
       "NMISS                                                         0   \n",
       "ColumnsNames  2    1640\n",
       "1    1388\n",
       "6     688\n",
       "3     620\n",
       "5     ...   \n",
       "\n",
       "                                                      union  \\\n",
       "N                                                      5000   \n",
       "NMISS                                                     0   \n",
       "ColumnsNames  0    4244\n",
       "1     756\n",
       "Name: union, dtype: int64   \n",
       "\n",
       "                                                         employ  \\\n",
       "N                                                          5000   \n",
       "NMISS                                                         0   \n",
       "ColumnsNames  0     659\n",
       "1     389\n",
       "2     318\n",
       "3     309\n",
       "4     ...   \n",
       "\n",
       "                                                         empcat  \\\n",
       "N                                                          5000   \n",
       "NMISS                                                         0   \n",
       "ColumnsNames  2    1180\n",
       "5    1135\n",
       "1    1048\n",
       "3     968\n",
       "4     ...   \n",
       "\n",
       "                                                      retire  \\\n",
       "N                                                       5000   \n",
       "NMISS                                                      0   \n",
       "ColumnsNames  0    4262\n",
       "1     738\n",
       "Name: retire, dtype: int64   \n",
       "\n",
       "                                                         inccat  ...  \\\n",
       "N                                                          5000  ...   \n",
       "NMISS                                                         0  ...   \n",
       "ColumnsNames  2    1797\n",
       "1    1330\n",
       "3     839\n",
       "4     650\n",
       "5     ...  ...   \n",
       "\n",
       "                                                      owncd  \\\n",
       "N                                                      5000   \n",
       "NMISS                                                     0   \n",
       "ColumnsNames  1    4664\n",
       "0     336\n",
       "Name: owncd, dtype: int64   \n",
       "\n",
       "                                                      ownpda  \\\n",
       "N                                                       5000   \n",
       "NMISS                                                      0   \n",
       "ColumnsNames  0    3995\n",
       "1    1005\n",
       "Name: ownpda, dtype: int64   \n",
       "\n",
       "                                                      ownpc  \\\n",
       "N                                                      5000   \n",
       "NMISS                                                     0   \n",
       "ColumnsNames  1    3164\n",
       "0    1836\n",
       "Name: ownpc, dtype: int64   \n",
       "\n",
       "                                                      ownipod  \\\n",
       "N                                                        5000   \n",
       "NMISS                                                       0   \n",
       "ColumnsNames  0    2604\n",
       "1    2396\n",
       "Name: ownipod, dtype: int64   \n",
       "\n",
       "                                                      owngame  \\\n",
       "N                                                        5000   \n",
       "NMISS                                                       0   \n",
       "ColumnsNames  0    2626\n",
       "1    2374\n",
       "Name: owngame, dtype: int64   \n",
       "\n",
       "                                                      ownfax  \\\n",
       "N                                                       5000   \n",
       "NMISS                                                      0   \n",
       "ColumnsNames  0    4106\n",
       "1     894\n",
       "Name: ownfax, dtype: int64   \n",
       "\n",
       "                                                      news  \\\n",
       "N                                                     5000   \n",
       "NMISS                                                    0   \n",
       "ColumnsNames  0    2637\n",
       "1    2363\n",
       "Name: news, dtype: int64   \n",
       "\n",
       "                                                    response_01  \\\n",
       "N                                                          5000   \n",
       "NMISS                                                         0   \n",
       "ColumnsNames  0    4582\n",
       "1     418\n",
       "Name: response_01, dtype: ...   \n",
       "\n",
       "                                                    response_02  \\\n",
       "N                                                          5000   \n",
       "NMISS                                                         0   \n",
       "ColumnsNames  0    4351\n",
       "1     649\n",
       "Name: response_02, dtype: ...   \n",
       "\n",
       "                                                    response_03  \n",
       "N                                                          5000  \n",
       "NMISS                                                         0  \n",
       "ColumnsNames  0    4487\n",
       "1     513\n",
       "Name: response_03, dtype: ...  \n",
       "\n",
       "[3 rows x 76 columns]"
      ]
     },
     "execution_count": 38,
     "metadata": {},
     "output_type": "execute_result"
    }
   ],
   "source": [
    "cat_summary"
   ]
  },
  {
   "cell_type": "code",
   "execution_count": 39,
   "metadata": {},
   "outputs": [],
   "source": [
    "#Handling Missings & Outliers"
   ]
  },
  {
   "cell_type": "code",
   "execution_count": 40,
   "metadata": {},
   "outputs": [],
   "source": [
    "def missing_cat(x):\n",
    "    t = x.value_counts()\n",
    "    x[x==-1] = t.index[0]\n",
    "    return x\n",
    "\n",
    "def missing_num(x):\n",
    "    x = x.fillna(x.median())\n",
    "    return x\n",
    "\n",
    "def outlier_capping(x):\n",
    "    x = x.clip_upper(x.quantile(0.99))\n",
    "    x = x.clip_lower(x.quantile(0.01))\n",
    "    return x"
   ]
  },
  {
   "cell_type": "code",
   "execution_count": 41,
   "metadata": {},
   "outputs": [],
   "source": [
    "data_cat_new=data_cat.apply(missing_cat)\n",
    "data_num_new=data_num.apply(missing_num)''\n",
    "data_num_new=data_num.apply(outlier_capping)"
   ]
  },
  {
   "cell_type": "code",
   "execution_count": 42,
   "metadata": {},
   "outputs": [],
   "source": [
    "#data_num_new.describe().T.to_csv('outlier countinous.csv')"
   ]
  },
  {
   "cell_type": "code",
   "execution_count": 43,
   "metadata": {},
   "outputs": [
    {
     "data": {
      "text/html": [
       "<div>\n",
       "<style scoped>\n",
       "    .dataframe tbody tr th:only-of-type {\n",
       "        vertical-align: middle;\n",
       "    }\n",
       "\n",
       "    .dataframe tbody tr th {\n",
       "        vertical-align: top;\n",
       "    }\n",
       "\n",
       "    .dataframe thead th {\n",
       "        text-align: right;\n",
       "    }\n",
       "</style>\n",
       "<table border=\"1\" class=\"dataframe\">\n",
       "  <thead>\n",
       "    <tr style=\"text-align: right;\">\n",
       "      <th></th>\n",
       "      <th>region</th>\n",
       "      <th>townsize</th>\n",
       "      <th>gender</th>\n",
       "      <th>birthmonth</th>\n",
       "      <th>jobcat</th>\n",
       "      <th>union</th>\n",
       "      <th>employ</th>\n",
       "      <th>empcat</th>\n",
       "      <th>retire</th>\n",
       "      <th>inccat</th>\n",
       "      <th>...</th>\n",
       "      <th>owncd</th>\n",
       "      <th>ownpda</th>\n",
       "      <th>ownpc</th>\n",
       "      <th>ownipod</th>\n",
       "      <th>owngame</th>\n",
       "      <th>ownfax</th>\n",
       "      <th>news</th>\n",
       "      <th>response_01</th>\n",
       "      <th>response_02</th>\n",
       "      <th>response_03</th>\n",
       "    </tr>\n",
       "  </thead>\n",
       "  <tbody>\n",
       "    <tr>\n",
       "      <td>0</td>\n",
       "      <td>1</td>\n",
       "      <td>2</td>\n",
       "      <td>1</td>\n",
       "      <td>September</td>\n",
       "      <td>1</td>\n",
       "      <td>1</td>\n",
       "      <td>0</td>\n",
       "      <td>1</td>\n",
       "      <td>0</td>\n",
       "      <td>2</td>\n",
       "      <td>...</td>\n",
       "      <td>0</td>\n",
       "      <td>0</td>\n",
       "      <td>0</td>\n",
       "      <td>1</td>\n",
       "      <td>1</td>\n",
       "      <td>0</td>\n",
       "      <td>0</td>\n",
       "      <td>0</td>\n",
       "      <td>1</td>\n",
       "      <td>0</td>\n",
       "    </tr>\n",
       "  </tbody>\n",
       "</table>\n",
       "<p>1 rows × 76 columns</p>\n",
       "</div>"
      ],
      "text/plain": [
       "  region townsize gender birthmonth jobcat union employ empcat retire inccat  \\\n",
       "0      1        2      1  September      1     1      0      1      0      2   \n",
       "\n",
       "   ... owncd ownpda ownpc ownipod owngame ownfax news response_01 response_02  \\\n",
       "0  ...     0      0     0       1       1      0    0           0           1   \n",
       "\n",
       "  response_03  \n",
       "0           0  \n",
       "\n",
       "[1 rows x 76 columns]"
      ]
     },
     "execution_count": 43,
     "metadata": {},
     "output_type": "execute_result"
    }
   ],
   "source": [
    "data_cat_new.head(1)"
   ]
  },
  {
   "cell_type": "code",
   "execution_count": 44,
   "metadata": {},
   "outputs": [],
   "source": [
    "# Now we should differentiate nominal and ordinal in categorical"
   ]
  },
  {
   "cell_type": "code",
   "execution_count": 45,
   "metadata": {},
   "outputs": [],
   "source": [
    "cat_ordinal=['townsize','jobcat','employ','empcat','inccat','jobsat','cars','carcatvalue',\n",
    "         'commute','card2tenure','cardtype','cardbenefit','card2type','card2benefit',]\n"
   ]
  },
  {
   "cell_type": "code",
   "execution_count": 46,
   "metadata": {},
   "outputs": [],
   "source": [
    "cat_ordinal_data=data_cat_new[cat_ordinal]"
   ]
  },
  {
   "cell_type": "code",
   "execution_count": 47,
   "metadata": {},
   "outputs": [],
   "source": [
    "for i in cat_ordinal:\n",
    "    cat_ordinal_data[i]=cat_ordinal_data[i].astype('object')"
   ]
  },
  {
   "cell_type": "code",
   "execution_count": 48,
   "metadata": {},
   "outputs": [
    {
     "data": {
      "text/plain": [
       "townsize        object\n",
       "jobcat          object\n",
       "employ          object\n",
       "empcat          object\n",
       "inccat          object\n",
       "jobsat          object\n",
       "cars            object\n",
       "carcatvalue     object\n",
       "commute         object\n",
       "card2tenure     object\n",
       "cardtype        object\n",
       "cardbenefit     object\n",
       "card2type       object\n",
       "card2benefit    object\n",
       "dtype: object"
      ]
     },
     "execution_count": 48,
     "metadata": {},
     "output_type": "execute_result"
    }
   ],
   "source": [
    "cat_ordinal_data.dtypes"
   ]
  },
  {
   "cell_type": "code",
   "execution_count": 49,
   "metadata": {},
   "outputs": [],
   "source": [
    "cat_nominal=['region',\n",
    "'gender',\n",
    "'birthmonth',\n",
    "'union',\n",
    "'retire',\n",
    "'default',\n",
    "'marital',\n",
    "'homeown',\n",
    "'hometype',\n",
    "'carown',\n",
    "'cartype',\n",
    "'carbought',\n",
    "'carbuy',\n",
    "'commutecar',\n",
    "'commutemotorcycle',\n",
    "'commutecarpool',\n",
    "'commutebus',\n",
    "'commuterail',\n",
    "'commutepublic',\n",
    "'commutebike',\n",
    "'commutewalk',\n",
    "'commutenonmotor',\n",
    "'telecommute',\n",
    "'reason',\n",
    "'polview',\n",
    "'polparty',\n",
    "'polcontrib',\n",
    "'vote',\n",
    "'card',\n",
    "'cardfee',\n",
    "'card2',\n",
    "'card2fee',\n",
    "'active',\n",
    "'bfast',\n",
    "'churn',\n",
    "'tollfree',\n",
    "'equip',\n",
    "'callcard',\n",
    "'wireless',\n",
    "'multline',\n",
    "'voice',\n",
    "'pager',\n",
    "'internet',\n",
    "'callid',\n",
    "'callwait',\n",
    "'forward',\n",
    "'confer',\n",
    "'ebill',\n",
    "'owntv',\n",
    "'ownvcr',\n",
    "'owndvd',\n",
    "'owncd',\n",
    "'ownpda',\n",
    "'ownpc',\n",
    "'ownipod',\n",
    "'owngame',\n",
    "'ownfax',\n",
    "'news',\n",
    "'response_01',\n",
    "'response_02',\n",
    "'response_03',\n",
    "]"
   ]
  },
  {
   "cell_type": "code",
   "execution_count": 50,
   "metadata": {},
   "outputs": [],
   "source": [
    "cat_nominal_data=data_cat_new[cat_nominal]"
   ]
  },
  {
   "cell_type": "code",
   "execution_count": 51,
   "metadata": {},
   "outputs": [],
   "source": [
    "for i in cat_nominal:\n",
    "    cat_nominal_data[i]=cat_nominal_data[i].astype('object')"
   ]
  },
  {
   "cell_type": "code",
   "execution_count": 52,
   "metadata": {},
   "outputs": [],
   "source": [
    "data_cat_nomi_dum = pd.get_dummies(cat_nominal_data, drop_first=True)"
   ]
  },
  {
   "cell_type": "code",
   "execution_count": 53,
   "metadata": {},
   "outputs": [],
   "source": [
    "final_data = pd.concat([data_num_new, data_cat_nomi_dum,cat_ordinal_data], axis=1)"
   ]
  },
  {
   "cell_type": "code",
   "execution_count": 54,
   "metadata": {},
   "outputs": [
    {
     "data": {
      "text/plain": [
       "(5000, 140)"
      ]
     },
     "execution_count": 54,
     "metadata": {},
     "output_type": "execute_result"
    }
   ],
   "source": [
    "final_data.shape"
   ]
  },
  {
   "cell_type": "code",
   "execution_count": 55,
   "metadata": {},
   "outputs": [
    {
     "data": {
      "text/plain": [
       "False    131\n",
       "True       9\n",
       "dtype: int64"
      ]
     },
     "execution_count": 55,
     "metadata": {},
     "output_type": "execute_result"
    }
   ],
   "source": [
    "final_data.isnull().any().value_counts()"
   ]
  },
  {
   "cell_type": "code",
   "execution_count": 56,
   "metadata": {},
   "outputs": [
    {
     "data": {
      "text/plain": [
       "lncreddebt        1\n",
       "lnothdebt         1\n",
       "commutetime       2\n",
       "lntollmon      2622\n",
       "lnequipten     3296\n",
       "cardten           2\n",
       "lncardten      1422\n",
       "lnwiremon      3656\n",
       "townsize          2\n",
       "dtype: int64"
      ]
     },
     "execution_count": 56,
     "metadata": {},
     "output_type": "execute_result"
    }
   ],
   "source": [
    "null_columns=final_data.columns[final_data.isnull().any()]\n",
    "final_data[null_columns].isnull().sum()"
   ]
  },
  {
   "cell_type": "code",
   "execution_count": 57,
   "metadata": {},
   "outputs": [
    {
     "data": {
      "text/plain": [
       "age             0\n",
       "Total_spend     0\n",
       "ed              0\n",
       "income          0\n",
       "debtinc         0\n",
       "               ..\n",
       "card2tenure     0\n",
       "cardtype        0\n",
       "cardbenefit     0\n",
       "card2type       0\n",
       "card2benefit    0\n",
       "Length: 140, dtype: int64"
      ]
     },
     "execution_count": 57,
     "metadata": {},
     "output_type": "execute_result"
    }
   ],
   "source": [
    "final_data.isnull().sum()"
   ]
  },
  {
   "cell_type": "code",
   "execution_count": 58,
   "metadata": {},
   "outputs": [],
   "source": [
    "def missing_num(x):\n",
    "    x = x.fillna(x.mean())\n",
    "    return x\n",
    "\n",
    "def missing_cat(x):\n",
    "    t = x.value_counts()\n",
    "    x[x==-1] = t.index[0]\n",
    "    return x\n"
   ]
  },
  {
   "cell_type": "code",
   "execution_count": 59,
   "metadata": {},
   "outputs": [],
   "source": [
    "final_data1 = final_data.apply(missing_num)"
   ]
  },
  {
   "cell_type": "code",
   "execution_count": 60,
   "metadata": {},
   "outputs": [
    {
     "data": {
      "text/plain": [
       "Series([], dtype: float64)"
      ]
     },
     "execution_count": 60,
     "metadata": {},
     "output_type": "execute_result"
    }
   ],
   "source": [
    "null_columns=final_data1.columns[final_data1.isnull().any()]\n",
    "final_data1[null_columns].isnull().sum()"
   ]
  },
  {
   "cell_type": "code",
   "execution_count": 61,
   "metadata": {},
   "outputs": [
    {
     "data": {
      "text/plain": [
       "(5000, 140)"
      ]
     },
     "execution_count": 61,
     "metadata": {},
     "output_type": "execute_result"
    }
   ],
   "source": [
    "final_data1.shape"
   ]
  },
  {
   "cell_type": "markdown",
   "metadata": {},
   "source": [
    "# Linear Regression"
   ]
  },
  {
   "cell_type": "markdown",
   "metadata": {},
   "source": [
    "#### Checking for 1st assumption Y is normal / not"
   ]
  },
  {
   "cell_type": "code",
   "execution_count": 62,
   "metadata": {},
   "outputs": [
    {
     "data": {
      "text/plain": [
       "<matplotlib.axes._subplots.AxesSubplot at 0x8105048>"
      ]
     },
     "execution_count": 62,
     "metadata": {},
     "output_type": "execute_result"
    },
    {
     "data": {
      "image/png": "[encoded data removed]",
      "text/plain": [
       "<Figure size 432x288 with 1 Axes>"
      ]
     },
     "metadata": {
      "needs_background": "light"
     },
     "output_type": "display_data"
    }
   ],
   "source": [
    "#Checking the Distribution of Credit_Amount\n",
    "# Target variable following Exponential distribution.\n",
    "final_data1.Total_spend.hist()"
   ]
  },
  {
   "cell_type": "code",
   "execution_count": 63,
   "metadata": {},
   "outputs": [
    {
     "data": {
      "text/plain": [
       "<matplotlib.axes._subplots.AxesSubplot at 0x7fd3348>"
      ]
     },
     "execution_count": 63,
     "metadata": {},
     "output_type": "execute_result"
    },
    {
     "data": {
      "image/png": "[encoded data removed]",
      "text/plain": [
       "<Figure size 432x288 with 1 Axes>"
      ]
     },
     "metadata": {
      "needs_background": "light"
     },
     "output_type": "display_data"
    }
   ],
   "source": [
    "#\n",
    "sns.distplot(final_data1.Total_spend)"
   ]
  },
  {
   "cell_type": "code",
   "execution_count": 64,
   "metadata": {},
   "outputs": [],
   "source": [
    "# Since the Y is skewed we shall go for log transformation\n",
    "final_data1['ln_Y'] = np.log(final_data1.Total_spend)"
   ]
  },
  {
   "cell_type": "code",
   "execution_count": 65,
   "metadata": {},
   "outputs": [
    {
     "data": {
      "text/plain": [
       "<matplotlib.axes._subplots.AxesSubplot at 0x8167e88>"
      ]
     },
     "execution_count": 65,
     "metadata": {},
     "output_type": "execute_result"
    },
    {
     "data": {
      "image/png": "[encoded data removed]",
      "text/plain": [
       "<Figure size 432x288 with 1 Axes>"
      ]
     },
     "metadata": {
      "needs_background": "light"
     },
     "output_type": "display_data"
    }
   ],
   "source": [
    "#Plotting transformed dependent variable\n",
    "sns.distplot(final_data1.ln_Y) # The distribution looks kkk"
   ]
  },
  {
   "cell_type": "code",
   "execution_count": 66,
   "metadata": {},
   "outputs": [
    {
     "data": {
      "text/html": [
       "<div>\n",
       "<style scoped>\n",
       "    .dataframe tbody tr th:only-of-type {\n",
       "        vertical-align: middle;\n",
       "    }\n",
       "\n",
       "    .dataframe tbody tr th {\n",
       "        vertical-align: top;\n",
       "    }\n",
       "\n",
       "    .dataframe thead th {\n",
       "        text-align: right;\n",
       "    }\n",
       "</style>\n",
       "<table border=\"1\" class=\"dataframe\">\n",
       "  <thead>\n",
       "    <tr style=\"text-align: right;\">\n",
       "      <th></th>\n",
       "      <th>age</th>\n",
       "      <th>Total_spend</th>\n",
       "      <th>ed</th>\n",
       "      <th>income</th>\n",
       "      <th>debtinc</th>\n",
       "      <th>creddebt</th>\n",
       "      <th>lncreddebt</th>\n",
       "      <th>othdebt</th>\n",
       "      <th>lnothdebt</th>\n",
       "      <th>reside</th>\n",
       "      <th>...</th>\n",
       "      <th>jobsat</th>\n",
       "      <th>cars</th>\n",
       "      <th>carcatvalue</th>\n",
       "      <th>commute</th>\n",
       "      <th>card2tenure</th>\n",
       "      <th>cardtype</th>\n",
       "      <th>cardbenefit</th>\n",
       "      <th>card2type</th>\n",
       "      <th>card2benefit</th>\n",
       "      <th>ln_Y</th>\n",
       "    </tr>\n",
       "  </thead>\n",
       "  <tbody>\n",
       "    <tr>\n",
       "      <td>0</td>\n",
       "      <td>20</td>\n",
       "      <td>149.46</td>\n",
       "      <td>15</td>\n",
       "      <td>31.0</td>\n",
       "      <td>11.1</td>\n",
       "      <td>1.200909</td>\n",
       "      <td>0.183079</td>\n",
       "      <td>2.240091</td>\n",
       "      <td>0.806516</td>\n",
       "      <td>3</td>\n",
       "      <td>...</td>\n",
       "      <td>1</td>\n",
       "      <td>2</td>\n",
       "      <td>1</td>\n",
       "      <td>8</td>\n",
       "      <td>3</td>\n",
       "      <td>1</td>\n",
       "      <td>1</td>\n",
       "      <td>3</td>\n",
       "      <td>1</td>\n",
       "      <td>5.007029</td>\n",
       "    </tr>\n",
       "    <tr>\n",
       "      <td>1</td>\n",
       "      <td>22</td>\n",
       "      <td>77.54</td>\n",
       "      <td>17</td>\n",
       "      <td>15.0</td>\n",
       "      <td>18.6</td>\n",
       "      <td>1.222020</td>\n",
       "      <td>0.200505</td>\n",
       "      <td>1.567980</td>\n",
       "      <td>0.449788</td>\n",
       "      <td>2</td>\n",
       "      <td>...</td>\n",
       "      <td>1</td>\n",
       "      <td>2</td>\n",
       "      <td>1</td>\n",
       "      <td>1</td>\n",
       "      <td>4</td>\n",
       "      <td>4</td>\n",
       "      <td>1</td>\n",
       "      <td>1</td>\n",
       "      <td>3</td>\n",
       "      <td>4.350794</td>\n",
       "    </tr>\n",
       "  </tbody>\n",
       "</table>\n",
       "<p>2 rows × 141 columns</p>\n",
       "</div>"
      ],
      "text/plain": [
       "   age  Total_spend  ed  income  debtinc  creddebt  lncreddebt   othdebt  \\\n",
       "0   20       149.46  15    31.0     11.1  1.200909    0.183079  2.240091   \n",
       "1   22        77.54  17    15.0     18.6  1.222020    0.200505  1.567980   \n",
       "\n",
       "   lnothdebt  reside  ...  jobsat  cars  carcatvalue  commute  card2tenure  \\\n",
       "0   0.806516       3  ...       1     2            1        8            3   \n",
       "1   0.449788       2  ...       1     2            1        1            4   \n",
       "\n",
       "   cardtype  cardbenefit  card2type  card2benefit      ln_Y  \n",
       "0         1            1          3             1  5.007029  \n",
       "1         4            1          1             3  4.350794  \n",
       "\n",
       "[2 rows x 141 columns]"
      ]
     },
     "execution_count": 66,
     "metadata": {},
     "output_type": "execute_result"
    }
   ],
   "source": [
    "final_data1.head(2)"
   ]
  },
  {
   "cell_type": "code",
   "execution_count": 67,
   "metadata": {},
   "outputs": [],
   "source": [
    "# Checking Co-relation of x-variables\n",
    "#corrm=data_num_new.corr()\n",
    "#corrm.to_csv('corrm.csv')"
   ]
  },
  {
   "cell_type": "code",
   "execution_count": 68,
   "metadata": {},
   "outputs": [
    {
     "data": {
      "text/plain": [
       "<matplotlib.axes._subplots.AxesSubplot at 0xef25648>"
      ]
     },
     "execution_count": 68,
     "metadata": {},
     "output_type": "execute_result"
    },
    {
     "data": {
      "image/png": "[encoded data removed]",
      "text/plain": [
       "<Figure size 432x288 with 2 Axes>"
      ]
     },
     "metadata": {
      "needs_background": "light"
     },
     "output_type": "display_data"
    }
   ],
   "source": [
    "sns.heatmap(data_num_new.corr())"
   ]
  },
  {
   "cell_type": "code",
   "execution_count": 69,
   "metadata": {},
   "outputs": [],
   "source": [
    "# From above its noted that there is very low co-relation between Y & X variables"
   ]
  },
  {
   "cell_type": "code",
   "execution_count": 70,
   "metadata": {},
   "outputs": [],
   "source": [
    "# To check co-relation of Y & X through dataframe & selecting the top 10\n",
    "column_names = pd.Series(list(data_num_new.corrwith(data_num_new.Total_spend).index),name='Column_Names')\n",
    "r_values =  pd.Series(list(data_num_new.corrwith(data_num_new.Total_spend)),name='r_values')\n",
    "corr = pd.concat([column_names,r_values],axis=1)\n",
    "corr['r_values_abs'] = np.abs(corr.r_values)\n",
    "corr = corr.sort_values(by=['r_values_abs'],ascending=False)\n"
   ]
  },
  {
   "cell_type": "code",
   "execution_count": 71,
   "metadata": {},
   "outputs": [
    {
     "data": {
      "text/html": [
       "<div>\n",
       "<style scoped>\n",
       "    .dataframe tbody tr th:only-of-type {\n",
       "        vertical-align: middle;\n",
       "    }\n",
       "\n",
       "    .dataframe tbody tr th {\n",
       "        vertical-align: top;\n",
       "    }\n",
       "\n",
       "    .dataframe thead th {\n",
       "        text-align: right;\n",
       "    }\n",
       "</style>\n",
       "<table border=\"1\" class=\"dataframe\">\n",
       "  <thead>\n",
       "    <tr style=\"text-align: right;\">\n",
       "      <th></th>\n",
       "      <th>Column_Names</th>\n",
       "      <th>r_values</th>\n",
       "      <th>r_values_abs</th>\n",
       "    </tr>\n",
       "  </thead>\n",
       "  <tbody>\n",
       "    <tr>\n",
       "      <td>1</td>\n",
       "      <td>Total_spend</td>\n",
       "      <td>1.000000</td>\n",
       "      <td>1.000000</td>\n",
       "    </tr>\n",
       "    <tr>\n",
       "      <td>3</td>\n",
       "      <td>income</td>\n",
       "      <td>0.377200</td>\n",
       "      <td>0.377200</td>\n",
       "    </tr>\n",
       "    <tr>\n",
       "      <td>18</td>\n",
       "      <td>carvalue</td>\n",
       "      <td>0.319367</td>\n",
       "      <td>0.319367</td>\n",
       "    </tr>\n",
       "    <tr>\n",
       "      <td>7</td>\n",
       "      <td>othdebt</td>\n",
       "      <td>0.272972</td>\n",
       "      <td>0.272972</td>\n",
       "    </tr>\n",
       "    <tr>\n",
       "      <td>8</td>\n",
       "      <td>lnothdebt</td>\n",
       "      <td>0.266647</td>\n",
       "      <td>0.266647</td>\n",
       "    </tr>\n",
       "    <tr>\n",
       "      <td>5</td>\n",
       "      <td>creddebt</td>\n",
       "      <td>0.248547</td>\n",
       "      <td>0.248547</td>\n",
       "    </tr>\n",
       "    <tr>\n",
       "      <td>6</td>\n",
       "      <td>lncreddebt</td>\n",
       "      <td>0.247869</td>\n",
       "      <td>0.247869</td>\n",
       "    </tr>\n",
       "    <tr>\n",
       "      <td>29</td>\n",
       "      <td>lnwiremon</td>\n",
       "      <td>0.105275</td>\n",
       "      <td>0.105275</td>\n",
       "    </tr>\n",
       "    <tr>\n",
       "      <td>2</td>\n",
       "      <td>ed</td>\n",
       "      <td>0.100943</td>\n",
       "      <td>0.100943</td>\n",
       "    </tr>\n",
       "    <tr>\n",
       "      <td>30</td>\n",
       "      <td>wireten</td>\n",
       "      <td>0.100014</td>\n",
       "      <td>0.100014</td>\n",
       "    </tr>\n",
       "  </tbody>\n",
       "</table>\n",
       "</div>"
      ],
      "text/plain": [
       "   Column_Names  r_values  r_values_abs\n",
       "1   Total_spend  1.000000      1.000000\n",
       "3        income  0.377200      0.377200\n",
       "18     carvalue  0.319367      0.319367\n",
       "7       othdebt  0.272972      0.272972\n",
       "8     lnothdebt  0.266647      0.266647\n",
       "5      creddebt  0.248547      0.248547\n",
       "6    lncreddebt  0.247869      0.247869\n",
       "29    lnwiremon  0.105275      0.105275\n",
       "2            ed  0.100943      0.100943\n",
       "30      wireten  0.100014      0.100014"
      ]
     },
     "execution_count": 71,
     "metadata": {},
     "output_type": "execute_result"
    }
   ],
   "source": [
    "corr.head(10)"
   ]
  },
  {
   "cell_type": "code",
   "execution_count": 72,
   "metadata": {},
   "outputs": [
    {
     "data": {
      "text/plain": [
       "1     Total_spend\n",
       "3          income\n",
       "18       carvalue\n",
       "7         othdebt\n",
       "8       lnothdebt\n",
       "5        creddebt\n",
       "6      lncreddebt\n",
       "Name: Column_Names, dtype: object"
      ]
     },
     "execution_count": 72,
     "metadata": {},
     "output_type": "execute_result"
    }
   ],
   "source": [
    "corr.Column_Names.head(7)# Selecting top  features having co-relation greater than 0.2 "
   ]
  },
  {
   "cell_type": "code",
   "execution_count": 73,
   "metadata": {},
   "outputs": [
    {
     "data": {
      "text/plain": [
       "(5000, 141)"
      ]
     },
     "execution_count": 73,
     "metadata": {},
     "output_type": "execute_result"
    }
   ],
   "source": [
    "final_data1.shape"
   ]
  },
  {
   "cell_type": "code",
   "execution_count": 74,
   "metadata": {},
   "outputs": [
    {
     "data": {
      "text/html": [
       "<div>\n",
       "<style scoped>\n",
       "    .dataframe tbody tr th:only-of-type {\n",
       "        vertical-align: middle;\n",
       "    }\n",
       "\n",
       "    .dataframe tbody tr th {\n",
       "        vertical-align: top;\n",
       "    }\n",
       "\n",
       "    .dataframe thead th {\n",
       "        text-align: right;\n",
       "    }\n",
       "</style>\n",
       "<table border=\"1\" class=\"dataframe\">\n",
       "  <thead>\n",
       "    <tr style=\"text-align: right;\">\n",
       "      <th></th>\n",
       "      <th>age</th>\n",
       "      <th>Total_spend</th>\n",
       "      <th>ed</th>\n",
       "      <th>income</th>\n",
       "      <th>debtinc</th>\n",
       "      <th>creddebt</th>\n",
       "      <th>lncreddebt</th>\n",
       "      <th>othdebt</th>\n",
       "      <th>lnothdebt</th>\n",
       "      <th>reside</th>\n",
       "      <th>...</th>\n",
       "      <th>jobsat</th>\n",
       "      <th>cars</th>\n",
       "      <th>carcatvalue</th>\n",
       "      <th>commute</th>\n",
       "      <th>card2tenure</th>\n",
       "      <th>cardtype</th>\n",
       "      <th>cardbenefit</th>\n",
       "      <th>card2type</th>\n",
       "      <th>card2benefit</th>\n",
       "      <th>ln_Y</th>\n",
       "    </tr>\n",
       "  </thead>\n",
       "  <tbody>\n",
       "    <tr>\n",
       "      <td>0</td>\n",
       "      <td>20</td>\n",
       "      <td>149.46</td>\n",
       "      <td>15</td>\n",
       "      <td>31.0</td>\n",
       "      <td>11.1</td>\n",
       "      <td>1.200909</td>\n",
       "      <td>0.183079</td>\n",
       "      <td>2.240091</td>\n",
       "      <td>0.806516</td>\n",
       "      <td>3</td>\n",
       "      <td>...</td>\n",
       "      <td>1</td>\n",
       "      <td>2</td>\n",
       "      <td>1</td>\n",
       "      <td>8</td>\n",
       "      <td>3</td>\n",
       "      <td>1</td>\n",
       "      <td>1</td>\n",
       "      <td>3</td>\n",
       "      <td>1</td>\n",
       "      <td>5.007029</td>\n",
       "    </tr>\n",
       "    <tr>\n",
       "      <td>1</td>\n",
       "      <td>22</td>\n",
       "      <td>77.54</td>\n",
       "      <td>17</td>\n",
       "      <td>15.0</td>\n",
       "      <td>18.6</td>\n",
       "      <td>1.222020</td>\n",
       "      <td>0.200505</td>\n",
       "      <td>1.567980</td>\n",
       "      <td>0.449788</td>\n",
       "      <td>2</td>\n",
       "      <td>...</td>\n",
       "      <td>1</td>\n",
       "      <td>2</td>\n",
       "      <td>1</td>\n",
       "      <td>1</td>\n",
       "      <td>4</td>\n",
       "      <td>4</td>\n",
       "      <td>1</td>\n",
       "      <td>1</td>\n",
       "      <td>3</td>\n",
       "      <td>4.350794</td>\n",
       "    </tr>\n",
       "    <tr>\n",
       "      <td>2</td>\n",
       "      <td>67</td>\n",
       "      <td>359.97</td>\n",
       "      <td>14</td>\n",
       "      <td>35.0</td>\n",
       "      <td>9.9</td>\n",
       "      <td>0.928620</td>\n",
       "      <td>-0.074056</td>\n",
       "      <td>2.536380</td>\n",
       "      <td>0.930738</td>\n",
       "      <td>3</td>\n",
       "      <td>...</td>\n",
       "      <td>4</td>\n",
       "      <td>3</td>\n",
       "      <td>1</td>\n",
       "      <td>4</td>\n",
       "      <td>25</td>\n",
       "      <td>1</td>\n",
       "      <td>4</td>\n",
       "      <td>1</td>\n",
       "      <td>3</td>\n",
       "      <td>5.886021</td>\n",
       "    </tr>\n",
       "    <tr>\n",
       "      <td>3</td>\n",
       "      <td>23</td>\n",
       "      <td>359.41</td>\n",
       "      <td>16</td>\n",
       "      <td>20.0</td>\n",
       "      <td>5.7</td>\n",
       "      <td>0.033160</td>\n",
       "      <td>-3.401690</td>\n",
       "      <td>1.117200</td>\n",
       "      <td>0.110826</td>\n",
       "      <td>5</td>\n",
       "      <td>...</td>\n",
       "      <td>2</td>\n",
       "      <td>3</td>\n",
       "      <td>1</td>\n",
       "      <td>1</td>\n",
       "      <td>5</td>\n",
       "      <td>1</td>\n",
       "      <td>4</td>\n",
       "      <td>2</td>\n",
       "      <td>4</td>\n",
       "      <td>5.884464</td>\n",
       "    </tr>\n",
       "    <tr>\n",
       "      <td>4</td>\n",
       "      <td>26</td>\n",
       "      <td>507.83</td>\n",
       "      <td>16</td>\n",
       "      <td>23.0</td>\n",
       "      <td>1.7</td>\n",
       "      <td>0.214659</td>\n",
       "      <td>-1.538705</td>\n",
       "      <td>0.176341</td>\n",
       "      <td>-1.735336</td>\n",
       "      <td>4</td>\n",
       "      <td>...</td>\n",
       "      <td>1</td>\n",
       "      <td>1</td>\n",
       "      <td>1</td>\n",
       "      <td>6</td>\n",
       "      <td>9</td>\n",
       "      <td>2</td>\n",
       "      <td>1</td>\n",
       "      <td>3</td>\n",
       "      <td>2</td>\n",
       "      <td>6.230147</td>\n",
       "    </tr>\n",
       "  </tbody>\n",
       "</table>\n",
       "<p>5 rows × 141 columns</p>\n",
       "</div>"
      ],
      "text/plain": [
       "   age  Total_spend  ed  income  debtinc  creddebt  lncreddebt   othdebt  \\\n",
       "0   20       149.46  15    31.0     11.1  1.200909    0.183079  2.240091   \n",
       "1   22        77.54  17    15.0     18.6  1.222020    0.200505  1.567980   \n",
       "2   67       359.97  14    35.0      9.9  0.928620   -0.074056  2.536380   \n",
       "3   23       359.41  16    20.0      5.7  0.033160   -3.401690  1.117200   \n",
       "4   26       507.83  16    23.0      1.7  0.214659   -1.538705  0.176341   \n",
       "\n",
       "   lnothdebt  reside  ...  jobsat  cars  carcatvalue  commute  card2tenure  \\\n",
       "0   0.806516       3  ...       1     2            1        8            3   \n",
       "1   0.449788       2  ...       1     2            1        1            4   \n",
       "2   0.930738       3  ...       4     3            1        4           25   \n",
       "3   0.110826       5  ...       2     3            1        1            5   \n",
       "4  -1.735336       4  ...       1     1            1        6            9   \n",
       "\n",
       "   cardtype  cardbenefit  card2type  card2benefit      ln_Y  \n",
       "0         1            1          3             1  5.007029  \n",
       "1         4            1          1             3  4.350794  \n",
       "2         1            4          1             3  5.886021  \n",
       "3         1            4          2             4  5.884464  \n",
       "4         2            1          3             2  6.230147  \n",
       "\n",
       "[5 rows x 141 columns]"
      ]
     },
     "execution_count": 74,
     "metadata": {},
     "output_type": "execute_result"
    }
   ],
   "source": [
    "final_data1.head()"
   ]
  },
  {
   "cell_type": "code",
   "execution_count": 75,
   "metadata": {},
   "outputs": [],
   "source": [
    "##############################################################################################################################"
   ]
  },
  {
   "cell_type": "code",
   "execution_count": 76,
   "metadata": {},
   "outputs": [],
   "source": [
    "# To check multicollinearity"
   ]
  },
  {
   "cell_type": "code",
   "execution_count": 77,
   "metadata": {},
   "outputs": [],
   "source": [
    "# from heat map there is not much high multicollinearity"
   ]
  },
  {
   "cell_type": "code",
   "execution_count": 78,
   "metadata": {
    "scrolled": true
   },
   "outputs": [
    {
     "data": {
      "text/html": [
       "<div>\n",
       "<style scoped>\n",
       "    .dataframe tbody tr th:only-of-type {\n",
       "        vertical-align: middle;\n",
       "    }\n",
       "\n",
       "    .dataframe tbody tr th {\n",
       "        vertical-align: top;\n",
       "    }\n",
       "\n",
       "    .dataframe thead th {\n",
       "        text-align: right;\n",
       "    }\n",
       "</style>\n",
       "<table border=\"1\" class=\"dataframe\">\n",
       "  <thead>\n",
       "    <tr style=\"text-align: right;\">\n",
       "      <th></th>\n",
       "      <th>age</th>\n",
       "      <th>Total_spend</th>\n",
       "      <th>ed</th>\n",
       "      <th>income</th>\n",
       "      <th>debtinc</th>\n",
       "      <th>creddebt</th>\n",
       "      <th>lncreddebt</th>\n",
       "      <th>othdebt</th>\n",
       "      <th>lnothdebt</th>\n",
       "      <th>reside</th>\n",
       "      <th>...</th>\n",
       "      <th>jobsat</th>\n",
       "      <th>cars</th>\n",
       "      <th>carcatvalue</th>\n",
       "      <th>commute</th>\n",
       "      <th>card2tenure</th>\n",
       "      <th>cardtype</th>\n",
       "      <th>cardbenefit</th>\n",
       "      <th>card2type</th>\n",
       "      <th>card2benefit</th>\n",
       "      <th>ln_Y</th>\n",
       "    </tr>\n",
       "  </thead>\n",
       "  <tbody>\n",
       "    <tr>\n",
       "      <td>0</td>\n",
       "      <td>20</td>\n",
       "      <td>149.46</td>\n",
       "      <td>15</td>\n",
       "      <td>31.0</td>\n",
       "      <td>11.1</td>\n",
       "      <td>1.200909</td>\n",
       "      <td>0.183079</td>\n",
       "      <td>2.240091</td>\n",
       "      <td>0.806516</td>\n",
       "      <td>3</td>\n",
       "      <td>...</td>\n",
       "      <td>1</td>\n",
       "      <td>2</td>\n",
       "      <td>1</td>\n",
       "      <td>8</td>\n",
       "      <td>3</td>\n",
       "      <td>1</td>\n",
       "      <td>1</td>\n",
       "      <td>3</td>\n",
       "      <td>1</td>\n",
       "      <td>5.007029</td>\n",
       "    </tr>\n",
       "    <tr>\n",
       "      <td>1</td>\n",
       "      <td>22</td>\n",
       "      <td>77.54</td>\n",
       "      <td>17</td>\n",
       "      <td>15.0</td>\n",
       "      <td>18.6</td>\n",
       "      <td>1.222020</td>\n",
       "      <td>0.200505</td>\n",
       "      <td>1.567980</td>\n",
       "      <td>0.449788</td>\n",
       "      <td>2</td>\n",
       "      <td>...</td>\n",
       "      <td>1</td>\n",
       "      <td>2</td>\n",
       "      <td>1</td>\n",
       "      <td>1</td>\n",
       "      <td>4</td>\n",
       "      <td>4</td>\n",
       "      <td>1</td>\n",
       "      <td>1</td>\n",
       "      <td>3</td>\n",
       "      <td>4.350794</td>\n",
       "    </tr>\n",
       "  </tbody>\n",
       "</table>\n",
       "<p>2 rows × 141 columns</p>\n",
       "</div>"
      ],
      "text/plain": [
       "   age  Total_spend  ed  income  debtinc  creddebt  lncreddebt   othdebt  \\\n",
       "0   20       149.46  15    31.0     11.1  1.200909    0.183079  2.240091   \n",
       "1   22        77.54  17    15.0     18.6  1.222020    0.200505  1.567980   \n",
       "\n",
       "   lnothdebt  reside  ...  jobsat  cars  carcatvalue  commute  card2tenure  \\\n",
       "0   0.806516       3  ...       1     2            1        8            3   \n",
       "1   0.449788       2  ...       1     2            1        1            4   \n",
       "\n",
       "   cardtype  cardbenefit  card2type  card2benefit      ln_Y  \n",
       "0         1            1          3             1  5.007029  \n",
       "1         4            1          1             3  4.350794  \n",
       "\n",
       "[2 rows x 141 columns]"
      ]
     },
     "execution_count": 78,
     "metadata": {},
     "output_type": "execute_result"
    }
   ],
   "source": [
    "final_data1.head(2)"
   ]
  },
  {
   "cell_type": "code",
   "execution_count": 79,
   "metadata": {},
   "outputs": [],
   "source": [
    "# Separating features(X-variables) & Y variable into 2 separate dataframe\n",
    "features = final_data1[final_data1.columns.difference( ['ln_Y', 'Total_spend'] )]\n",
    "target = final_data1['ln_Y']"
   ]
  },
  {
   "cell_type": "code",
   "execution_count": 80,
   "metadata": {},
   "outputs": [
    {
     "data": {
      "text/plain": [
       "False    139\n",
       "dtype: int64"
      ]
     },
     "execution_count": 80,
     "metadata": {},
     "output_type": "execute_result"
    }
   ],
   "source": [
    "features.isnull().any().value_counts()"
   ]
  },
  {
   "cell_type": "code",
   "execution_count": 81,
   "metadata": {},
   "outputs": [
    {
     "data": {
      "text/plain": [
       "0    5.007029\n",
       "1    4.350794\n",
       "2    5.886021\n",
       "3    5.884464\n",
       "4    6.230147\n",
       "Name: ln_Y, dtype: float64"
      ]
     },
     "execution_count": 81,
     "metadata": {},
     "output_type": "execute_result"
    }
   ],
   "source": [
    "target.head()"
   ]
  },
  {
   "cell_type": "markdown",
   "metadata": {},
   "source": [
    "## Variable Reduction"
   ]
  },
  {
   "cell_type": "markdown",
   "metadata": {},
   "source": [
    "### RFE"
   ]
  },
  {
   "cell_type": "code",
   "execution_count": 82,
   "metadata": {},
   "outputs": [
    {
     "data": {
      "text/plain": [
       "0     card2_2\n",
       "1     card2_3\n",
       "2     card2_4\n",
       "3     card2_5\n",
       "4      card_2\n",
       "5      card_3\n",
       "6      card_4\n",
       "7      card_5\n",
       "8      inccat\n",
       "9    reason_2\n",
       "dtype: object"
      ]
     },
     "execution_count": 82,
     "metadata": {},
     "output_type": "execute_result"
    }
   ],
   "source": [
    "import itertools\n",
    "\n",
    "#Checking RFE \n",
    "\n",
    "lm = LinearRegression()\n",
    "#create the RFE model and select 10 attributes\n",
    "rfe = RFE(lm, n_features_to_select=10)\n",
    "rfe = rfe.fit(features, target)\n",
    "select_cols = rfe.get_support()\n",
    "features1=features.columns[select_cols]\n",
    "pd.Series(features1)"
   ]
  },
  {
   "cell_type": "raw",
   "metadata": {},
   "source": [
    "#Alternative of capturing the important variables\n",
    "RFE_features=features.columns[rfe.get_support()]\n",
    "features1 = features[RFE_features]"
   ]
  },
  {
   "cell_type": "markdown",
   "metadata": {},
   "source": [
    "#### F - Regression"
   ]
  },
  {
   "cell_type": "code",
   "execution_count": 83,
   "metadata": {},
   "outputs": [],
   "source": [
    "# Feature Selection based on importance\n",
    "from sklearn.feature_selection import f_regression\n",
    "F_values, p_values  = f_regression(features, target )"
   ]
  },
  {
   "cell_type": "raw",
   "metadata": {},
   "source": [
    "import itertools\n",
    "f_reg_results = [(i, v, z) for i, v, z in itertools.zip_longest(features1.columns, F_values,  ['%.3f' % p for p in p_values])]\n",
    "f_reg_results=pd.DataFrame(f_reg_results, columns=['Variable','F_Value', 'P_Value'])"
   ]
  },
  {
   "cell_type": "code",
   "execution_count": 84,
   "metadata": {},
   "outputs": [
    {
     "data": {
      "text/plain": [
       "71          inccat\n",
       "72          income\n",
       "20     carcatvalue\n",
       "41        carvalue\n",
       "83       lnothdebt\n",
       "90         othdebt\n",
       "80      lncreddebt\n",
       "55        creddebt\n",
       "129       retire_1\n",
       "92        owndvd_1\n",
       "Name: col, dtype: object"
      ]
     },
     "execution_count": 84,
     "metadata": {},
     "output_type": "execute_result"
    }
   ],
   "source": [
    "F_values = pd.Series(F_values)\n",
    "p_values = pd.Series(p_values)\n",
    "cols = pd.Series(features.columns)\n",
    "f_vars = pd.concat([cols,F_values,p_values],axis=1)\n",
    "f_vars.columns = ['col','f_val','p_val']\n",
    "f_vars = f_vars.sort_values(by=['f_val'],ascending=False)\n",
    "f_vars = f_vars.sort_values(by=['f_val'],ascending=False)\n",
    "f_vars.head(10)\n",
    "f_vars.col.head(10)"
   ]
  },
  {
   "cell_type": "markdown",
   "metadata": {},
   "source": [
    "### Select K-Best"
   ]
  },
  {
   "cell_type": "code",
   "execution_count": 85,
   "metadata": {},
   "outputs": [
    {
     "data": {
      "text/plain": [
       "0    birthmonth_August\n",
       "1       birthmonth_May\n",
       "2              card2_5\n",
       "3               card_5\n",
       "4            default_1\n",
       "5               inccat\n",
       "6            lncardten\n",
       "7        pets_saltfish\n",
       "8             reason_2\n",
       "9        response_03_1\n",
       "dtype: object"
      ]
     },
     "execution_count": 85,
     "metadata": {},
     "output_type": "execute_result"
    }
   ],
   "source": [
    "selector = SelectKBest(f_classif, k=10)\n",
    "selector.fit(features, target)\n",
    "selector.get_support()\n",
    "K_Best = features.columns[selector.get_support()]\n",
    "pd.Series(K_Best)"
   ]
  },
  {
   "cell_type": "markdown",
   "metadata": {},
   "source": [
    "### VIF"
   ]
  },
  {
   "cell_type": "code",
   "execution_count": 86,
   "metadata": {},
   "outputs": [],
   "source": [
    "features2 = features.astype('float64')"
   ]
  },
  {
   "cell_type": "code",
   "execution_count": 87,
   "metadata": {},
   "outputs": [
    {
     "data": {
      "text/plain": [
       "0"
      ]
     },
     "execution_count": 87,
     "metadata": {},
     "output_type": "execute_result"
    }
   ],
   "source": [
    "features2.dtypes.isnull().sum()"
   ]
  },
  {
   "cell_type": "code",
   "execution_count": 88,
   "metadata": {},
   "outputs": [
    {
     "data": {
      "text/plain": [
       "48     commutemotorcycle_1\n",
       "50         commutepublic_1\n",
       "126          response_01_1\n",
       "118               reason_3\n",
       "128          response_03_1\n",
       "69              hometype_4\n",
       "127          response_02_1\n",
       "49       commutenonmotor_1\n",
       "134                union_1\n",
       "44           commutebike_1\n",
       "Name: Feature, dtype: object"
      ]
     },
     "execution_count": 88,
     "metadata": {},
     "output_type": "execute_result"
    }
   ],
   "source": [
    "VIF = [variance_inflation_factor(features2.values,i) for i in range(features2.shape[1])]\n",
    "VIF_results = pd.concat([pd.Series(features2.columns), pd.Series(VIF)],axis=1)\n",
    "VIF_results.columns = ['Feature','VIF']\n",
    "VIF_results = VIF_results.sort_values('VIF',ascending=False)\n",
    "VIF_results2 = VIF_results.sort_values('VIF',ascending=True)\n",
    "VIF_results2.Feature.head(10)"
   ]
  },
  {
   "cell_type": "code",
   "execution_count": 89,
   "metadata": {},
   "outputs": [],
   "source": [
    "my_vars={'card2_2',\n",
    "'card2_3',\n",
    "'card2_4',\n",
    "'card2_5',\n",
    "'card_2',\n",
    "'card_3',\n",
    "'card_4',\n",
    "'card_5',\n",
    "'inccat',\n",
    "'reason_2',\n",
    "'inccat',\n",
    "'income',\n",
    "'carcatvalue',\n",
    "'carvalue',\n",
    "'lnothdebt',\n",
    "'othdebt',\n",
    "'lncreddebt',\n",
    "'creddebt',\n",
    "'retire_1',\n",
    "'owndvd_1',\n",
    "'birthmonth_August',\n",
    "'birthmonth_May',\n",
    "'card2_5',\n",
    "'card_5',\n",
    "'default_1',\n",
    "'inccat',\n",
    "'lncardten',\n",
    "'pets_saltfish',\n",
    "'reason_2',\n",
    "'response_03_1',\n",
    "'commutemotorcycle_1',\n",
    "'commutepublic_1',\n",
    "'response_01_1',\n",
    "'reason_3',\n",
    "'response_03_1',\n",
    "'hometype_4',\n",
    "'response_02_1',\n",
    "'commutenonmotor_1',\n",
    "'union_1',\n",
    "'commutebike_1'}\n"
   ]
  },
  {
   "cell_type": "code",
   "execution_count": 90,
   "metadata": {},
   "outputs": [
    {
     "data": {
      "text/plain": [
       "34"
      ]
     },
     "execution_count": 90,
     "metadata": {},
     "output_type": "execute_result"
    }
   ],
   "source": [
    "my_vars = list(my_vars)\n",
    "len(my_vars)"
   ]
  },
  {
   "cell_type": "code",
   "execution_count": 91,
   "metadata": {},
   "outputs": [],
   "source": [
    "#### Data Preparation IV (Resampling data)\n",
    "#### Preparing final data\n",
    "All_Vars = my_vars + ['ln_Y']\n",
    "final_data_new = final_data1.loc[:,All_Vars]\n"
   ]
  },
  {
   "cell_type": "code",
   "execution_count": 92,
   "metadata": {},
   "outputs": [
    {
     "data": {
      "text/html": [
       "<div>\n",
       "<style scoped>\n",
       "    .dataframe tbody tr th:only-of-type {\n",
       "        vertical-align: middle;\n",
       "    }\n",
       "\n",
       "    .dataframe tbody tr th {\n",
       "        vertical-align: top;\n",
       "    }\n",
       "\n",
       "    .dataframe thead th {\n",
       "        text-align: right;\n",
       "    }\n",
       "</style>\n",
       "<table border=\"1\" class=\"dataframe\">\n",
       "  <thead>\n",
       "    <tr style=\"text-align: right;\">\n",
       "      <th></th>\n",
       "      <th>card2_3</th>\n",
       "      <th>card_4</th>\n",
       "      <th>union_1</th>\n",
       "      <th>card2_4</th>\n",
       "      <th>response_03_1</th>\n",
       "      <th>card_3</th>\n",
       "      <th>response_01_1</th>\n",
       "      <th>hometype_4</th>\n",
       "      <th>birthmonth_May</th>\n",
       "      <th>card2_5</th>\n",
       "      <th>...</th>\n",
       "      <th>lncardten</th>\n",
       "      <th>carvalue</th>\n",
       "      <th>response_02_1</th>\n",
       "      <th>birthmonth_August</th>\n",
       "      <th>card_5</th>\n",
       "      <th>reason_2</th>\n",
       "      <th>othdebt</th>\n",
       "      <th>owndvd_1</th>\n",
       "      <th>pets_saltfish</th>\n",
       "      <th>ln_Y</th>\n",
       "    </tr>\n",
       "  </thead>\n",
       "  <tbody>\n",
       "    <tr>\n",
       "      <td>0</td>\n",
       "      <td>0</td>\n",
       "      <td>0</td>\n",
       "      <td>1</td>\n",
       "      <td>0</td>\n",
       "      <td>0</td>\n",
       "      <td>1</td>\n",
       "      <td>0</td>\n",
       "      <td>0</td>\n",
       "      <td>0</td>\n",
       "      <td>1</td>\n",
       "      <td>...</td>\n",
       "      <td>4.094345</td>\n",
       "      <td>14.3</td>\n",
       "      <td>1</td>\n",
       "      <td>0</td>\n",
       "      <td>0</td>\n",
       "      <td>0</td>\n",
       "      <td>2.240091</td>\n",
       "      <td>1</td>\n",
       "      <td>0</td>\n",
       "      <td>5.007029</td>\n",
       "    </tr>\n",
       "    <tr>\n",
       "      <td>1</td>\n",
       "      <td>0</td>\n",
       "      <td>0</td>\n",
       "      <td>0</td>\n",
       "      <td>1</td>\n",
       "      <td>0</td>\n",
       "      <td>0</td>\n",
       "      <td>0</td>\n",
       "      <td>0</td>\n",
       "      <td>1</td>\n",
       "      <td>0</td>\n",
       "      <td>...</td>\n",
       "      <td>6.413459</td>\n",
       "      <td>6.8</td>\n",
       "      <td>0</td>\n",
       "      <td>0</td>\n",
       "      <td>0</td>\n",
       "      <td>0</td>\n",
       "      <td>1.567980</td>\n",
       "      <td>1</td>\n",
       "      <td>0</td>\n",
       "      <td>4.350794</td>\n",
       "    </tr>\n",
       "  </tbody>\n",
       "</table>\n",
       "<p>2 rows × 35 columns</p>\n",
       "</div>"
      ],
      "text/plain": [
       "   card2_3  card_4  union_1  card2_4  response_03_1  card_3  response_01_1  \\\n",
       "0        0       0        1        0              0       1              0   \n",
       "1        0       0        0        1              0       0              0   \n",
       "\n",
       "   hometype_4  birthmonth_May  card2_5  ...  lncardten  carvalue  \\\n",
       "0           0               0        1  ...   4.094345      14.3   \n",
       "1           0               1        0  ...   6.413459       6.8   \n",
       "\n",
       "   response_02_1  birthmonth_August  card_5  reason_2   othdebt  owndvd_1  \\\n",
       "0              1                  0       0         0  2.240091         1   \n",
       "1              0                  0       0         0  1.567980         1   \n",
       "\n",
       "   pets_saltfish      ln_Y  \n",
       "0              0  5.007029  \n",
       "1              0  4.350794  \n",
       "\n",
       "[2 rows x 35 columns]"
      ]
     },
     "execution_count": 92,
     "metadata": {},
     "output_type": "execute_result"
    }
   ],
   "source": [
    "final_data_new.head(2)"
   ]
  },
  {
   "cell_type": "code",
   "execution_count": 93,
   "metadata": {
    "scrolled": true
   },
   "outputs": [
    {
     "data": {
      "text/plain": [
       "(5000, 35)"
      ]
     },
     "execution_count": 93,
     "metadata": {},
     "output_type": "execute_result"
    }
   ],
   "source": [
    "final_data_new.shape"
   ]
  },
  {
   "cell_type": "markdown",
   "metadata": {},
   "source": [
    "#### Train and Test data"
   ]
  },
  {
   "cell_type": "code",
   "execution_count": 94,
   "metadata": {},
   "outputs": [],
   "source": [
    "#Splitting data into training and testing data sets\n",
    "train_reg, test_reg = train_test_split(final_data_new, test_size = 0.3,random_state = 1234 )\n"
   ]
  },
  {
   "cell_type": "code",
   "execution_count": 95,
   "metadata": {},
   "outputs": [
    {
     "data": {
      "text/plain": [
       "['card2_3',\n",
       " 'card_4',\n",
       " 'union_1',\n",
       " 'card2_4',\n",
       " 'response_03_1',\n",
       " 'card_3',\n",
       " 'response_01_1',\n",
       " 'hometype_4',\n",
       " 'birthmonth_May',\n",
       " 'card2_5',\n",
       " 'income',\n",
       " 'reason_3',\n",
       " 'commutenonmotor_1',\n",
       " 'commutebike_1',\n",
       " 'carcatvalue',\n",
       " 'lncreddebt',\n",
       " 'card2_2',\n",
       " 'creddebt',\n",
       " 'commutepublic_1',\n",
       " 'default_1',\n",
       " 'lnothdebt',\n",
       " 'card_2',\n",
       " 'commutemotorcycle_1',\n",
       " 'inccat',\n",
       " 'retire_1',\n",
       " 'lncardten',\n",
       " 'carvalue',\n",
       " 'response_02_1',\n",
       " 'birthmonth_August',\n",
       " 'card_5',\n",
       " 'reason_2',\n",
       " 'othdebt',\n",
       " 'owndvd_1',\n",
       " 'pets_saltfish']"
      ]
     },
     "execution_count": 95,
     "metadata": {},
     "output_type": "execute_result"
    }
   ],
   "source": [
    "my_vars"
   ]
  },
  {
   "cell_type": "markdown",
   "metadata": {},
   "source": [
    "### Modeling"
   ]
  },
  {
   "cell_type": "code",
   "execution_count": 96,
   "metadata": {},
   "outputs": [],
   "source": [
    "# this columns p_value is more than 0.05, so i didn't select this columns\n",
    "#lncreddebt+creddebt+birthmonth_August+birthmonth_May+commutepublic_1+response_01_1+lncardten+default_1+pets_saltfish+commutemotorcycle_1+carcatvalue+carvalue+303_1"
   ]
  },
  {
   "cell_type": "code",
   "execution_count": 97,
   "metadata": {},
   "outputs": [],
   "source": [
    "formula = 'ln_Y~card2_2+card2_3+card2_4+card2_5+card_2+card_3+card_4+card_5+inccat+reason_2+inccat+income+retire_1+owndvd_1+card2_5+card_5+inccat+reason_2'\n"
   ]
  },
  {
   "cell_type": "code",
   "execution_count": 98,
   "metadata": {},
   "outputs": [
    {
     "name": "stdout",
     "output_type": "stream",
     "text": [
      "                            OLS Regression Results                            \n",
      "==============================================================================\n",
      "Dep. Variable:                   ln_Y   R-squared:                       0.334\n",
      "Model:                            OLS   Adj. R-squared:                  0.331\n",
      "Method:                 Least Squares   F-statistic:                     134.3\n",
      "Date:                Mon, 03 Feb 2020   Prob (F-statistic):          2.46e-295\n",
      "Time:                        14:26:28   Log-Likelihood:                -2747.5\n",
      "No. Observations:                3500   AIC:                             5523.\n",
      "Df Residuals:                    3486   BIC:                             5609.\n",
      "Df Model:                          13                                         \n",
      "Covariance Type:            nonrobust                                         \n",
      "==============================================================================\n",
      "                 coef    std err          t      P>|t|      [0.025      0.975]\n",
      "------------------------------------------------------------------------------\n",
      "Intercept      6.3612      0.050    128.341      0.000       6.264       6.458\n",
      "card2_2       -0.3991      0.029    -13.559      0.000      -0.457      -0.341\n",
      "card2_3       -0.3890      0.029    -13.268      0.000      -0.446      -0.332\n",
      "card2_4       -0.4229      0.032    -13.233      0.000      -0.486      -0.360\n",
      "card2_5       -0.2957      0.043     -6.936      0.000      -0.379      -0.212\n",
      "card_2        -0.5641      0.029    -19.540      0.000      -0.621      -0.507\n",
      "card_3        -0.6075      0.029    -21.095      0.000      -0.664      -0.551\n",
      "card_4        -0.6904      0.030    -23.147      0.000      -0.749      -0.632\n",
      "card_5        -0.4993      0.048    -10.400      0.000      -0.593      -0.405\n",
      "inccat         0.1097      0.017      6.461      0.000       0.076       0.143\n",
      "reason_2       0.2328      0.036      6.486      0.000       0.162       0.303\n",
      "income         0.0018      0.000      4.283      0.000       0.001       0.003\n",
      "retire_1      -0.1365      0.027     -5.095      0.000      -0.189      -0.084\n",
      "owndvd_1       0.1233      0.033      3.719      0.000       0.058       0.188\n",
      "==============================================================================\n",
      "Omnibus:                       85.337   Durbin-Watson:                   1.968\n",
      "Prob(Omnibus):                  0.000   Jarque-Bera (JB):               92.425\n",
      "Skew:                          -0.370   Prob(JB):                     8.51e-21\n",
      "Kurtosis:                       3.294   Cond. No.                         561.\n",
      "==============================================================================\n",
      "\n",
      "Warnings:\n",
      "[1] Standard Errors assume that the covariance matrix of the errors is correctly specified.\n"
     ]
    }
   ],
   "source": [
    "model1_train = smf.ols(formula, data=train_reg).fit()\n",
    "print(model1_train.summary())"
   ]
  },
  {
   "cell_type": "code",
   "execution_count": 99,
   "metadata": {},
   "outputs": [],
   "source": [
    "# correaltion model -for excel \n",
    "data_corr_excel = train_reg[['ln_Y','card2_2',\n",
    "'card2_3',\n",
    "'card2_4',\n",
    "'card2_5',\n",
    "'card_2',\n",
    "'card_3',\n",
    "'card_4',\n",
    "'card_5',\n",
    "'inccat',\n",
    "'reason_2',\n",
    "'income',\n",
    "'retire_1',\n",
    "'owndvd_1',\n",
    "]]"
   ]
  },
  {
   "cell_type": "code",
   "execution_count": 100,
   "metadata": {},
   "outputs": [],
   "source": [
    "# correlation of x variables\n",
    "#excel_corre = data_corr_excel.corr()\n",
    "#excel_corre.to_csv('excel_corre.csv')"
   ]
  },
  {
   "cell_type": "code",
   "execution_count": 101,
   "metadata": {},
   "outputs": [],
   "source": [
    "#VIF_n.to_csv('VIF_n.csv')"
   ]
  },
  {
   "cell_type": "code",
   "execution_count": 102,
   "metadata": {
    "scrolled": true
   },
   "outputs": [],
   "source": [
    "#Transforming log values into actual values in both training and testing data sets\n",
    "train_reg['pred'] = pd.DataFrame(model1_train.predict(train_reg))\n",
    "test_reg['pred'] = pd.DataFrame(model1_train.predict(test_reg))\n",
    "\n",
    "### Including the Y Value to compare\n",
    "\n",
    "test_reg['Total_spend'] = np.exp(test_reg.ln_Y)\n",
    "\n",
    "train_reg['Total_spend'] = np.exp(train_reg.ln_Y)"
   ]
  },
  {
   "cell_type": "code",
   "execution_count": 103,
   "metadata": {},
   "outputs": [],
   "source": [
    "test_reg['actual_pred'] = np.exp(test_reg.pred)\n",
    "\n",
    "train_reg['actual_pred'] = np.exp(train_reg.pred)"
   ]
  },
  {
   "cell_type": "code",
   "execution_count": 104,
   "metadata": {},
   "outputs": [
    {
     "name": "stdout",
     "output_type": "stream",
     "text": [
      "MAPE for Training and testing data sets:\n",
      "0.07214013018432162\n",
      "0.07142664719666034\n",
      "\n",
      "MSE for Training and testing data sets:\n",
      "0.28142106168537223\n",
      "0.27627588766353\n",
      "\n",
      "RMSE for Training and testing data sets:\n",
      "0.530491339877827\n",
      "0.5256195274754639\n",
      "\n",
      "correlation for training and testing data sets:\n",
      "(0.5776818289571309, 8.871342527928e-311)\n",
      "(0.5574398634904691, 3.285295035445681e-123)\n"
     ]
    }
   ],
   "source": [
    "#Checking Metrics for both training and testing data sets\n",
    "\n",
    "print(\"MAPE for Training and testing data sets:\")\n",
    "MAPE_train = np.mean(np.abs(train_reg.ln_Y - train_reg.pred)/train_reg.ln_Y)\n",
    "print(MAPE_train)\n",
    "MAPE_test = np.mean(np.abs(test_reg.ln_Y - test_reg.pred)/test_reg.ln_Y)\n",
    "print(MAPE_test)\n",
    "\n",
    "print(\"\\nMSE for Training and testing data sets:\")\n",
    "#MSE for training and testing data sets                           \n",
    "print(metrics.mean_squared_error(train_reg.ln_Y,train_reg.pred)) \n",
    "print(metrics.mean_squared_error(test_reg.ln_Y,test_reg.pred))\n",
    "\n",
    "print(\"\\nRMSE for Training and testing data sets:\")\n",
    "#RMSE for training and testing data sets                           \n",
    "print(np.sqrt(metrics.mean_squared_error(train_reg.ln_Y,train_reg.pred)))\n",
    "print(np.sqrt(metrics.mean_squared_error(test_reg.ln_Y,test_reg.pred)))\n",
    "\n",
    "#correlation for training and testing sets\n",
    "print(\"\\ncorrelation for training and testing data sets:\")\n",
    "print(stats.stats.pearsonr(train_reg.ln_Y,train_reg.pred))\n",
    "print(stats.stats.pearsonr(test_reg.ln_Y,test_reg.pred))"
   ]
  },
  {
   "cell_type": "code",
   "execution_count": 105,
   "metadata": {},
   "outputs": [
    {
     "data": {
      "text/plain": [
       "<matplotlib.axes._subplots.AxesSubplot at 0xd3d2508>"
      ]
     },
     "execution_count": 105,
     "metadata": {},
     "output_type": "execute_result"
    },
    {
     "data": {
      "image/png": "[encoded data removed]",
      "text/plain": [
       "<Figure size 432x288 with 1 Axes>"
      ]
     },
     "metadata": {
      "needs_background": "light"
     },
     "output_type": "display_data"
    }
   ],
   "source": [
    "#Checking Errors distribution\n",
    "model1_train.resid.hist(bins=15)\n",
    "#model1_train.resid.to_csv(\"Residual.csv\")--------------------------\n",
    "# Residuals following Normal distribution. This is one of the Assumption in Linear Regression."
   ]
  },
  {
   "cell_type": "code",
   "execution_count": 106,
   "metadata": {},
   "outputs": [],
   "source": [
    "### Decile Analysis\n",
    "#Decile analysis for validation of models - Business validation\n",
    "\n",
    "train_reg['Deciles']=pd.qcut(train_reg['pred'],10, labels=False)\n",
    "test_reg['Deciles']=pd.qcut(test_reg['pred'],10, labels=False)"
   ]
  },
  {
   "cell_type": "code",
   "execution_count": 107,
   "metadata": {},
   "outputs": [
    {
     "data": {
      "text/html": [
       "<div>\n",
       "<style scoped>\n",
       "    .dataframe tbody tr th:only-of-type {\n",
       "        vertical-align: middle;\n",
       "    }\n",
       "\n",
       "    .dataframe tbody tr th {\n",
       "        vertical-align: top;\n",
       "    }\n",
       "\n",
       "    .dataframe thead th {\n",
       "        text-align: right;\n",
       "    }\n",
       "</style>\n",
       "<table border=\"1\" class=\"dataframe\">\n",
       "  <thead>\n",
       "    <tr style=\"text-align: right;\">\n",
       "      <th></th>\n",
       "      <th>pred</th>\n",
       "      <th>ln_Y</th>\n",
       "    </tr>\n",
       "    <tr>\n",
       "      <th>Deciles</th>\n",
       "      <th></th>\n",
       "      <th></th>\n",
       "    </tr>\n",
       "  </thead>\n",
       "  <tbody>\n",
       "    <tr>\n",
       "      <td>9</td>\n",
       "      <td>6.736726</td>\n",
       "      <td>6.718143</td>\n",
       "    </tr>\n",
       "    <tr>\n",
       "      <td>8</td>\n",
       "      <td>6.418675</td>\n",
       "      <td>6.410800</td>\n",
       "    </tr>\n",
       "    <tr>\n",
       "      <td>7</td>\n",
       "      <td>6.272955</td>\n",
       "      <td>6.291316</td>\n",
       "    </tr>\n",
       "    <tr>\n",
       "      <td>6</td>\n",
       "      <td>6.131500</td>\n",
       "      <td>6.139638</td>\n",
       "    </tr>\n",
       "    <tr>\n",
       "      <td>5</td>\n",
       "      <td>6.013507</td>\n",
       "      <td>6.020923</td>\n",
       "    </tr>\n",
       "    <tr>\n",
       "      <td>4</td>\n",
       "      <td>5.890848</td>\n",
       "      <td>5.934818</td>\n",
       "    </tr>\n",
       "    <tr>\n",
       "      <td>3</td>\n",
       "      <td>5.796235</td>\n",
       "      <td>5.788901</td>\n",
       "    </tr>\n",
       "    <tr>\n",
       "      <td>2</td>\n",
       "      <td>5.718705</td>\n",
       "      <td>5.716867</td>\n",
       "    </tr>\n",
       "    <tr>\n",
       "      <td>1</td>\n",
       "      <td>5.631873</td>\n",
       "      <td>5.629840</td>\n",
       "    </tr>\n",
       "    <tr>\n",
       "      <td>0</td>\n",
       "      <td>5.466047</td>\n",
       "      <td>5.425409</td>\n",
       "    </tr>\n",
       "  </tbody>\n",
       "</table>\n",
       "</div>"
      ],
      "text/plain": [
       "             pred      ln_Y\n",
       "Deciles                    \n",
       "9        6.736726  6.718143\n",
       "8        6.418675  6.410800\n",
       "7        6.272955  6.291316\n",
       "6        6.131500  6.139638\n",
       "5        6.013507  6.020923\n",
       "4        5.890848  5.934818\n",
       "3        5.796235  5.788901\n",
       "2        5.718705  5.716867\n",
       "1        5.631873  5.629840\n",
       "0        5.466047  5.425409"
      ]
     },
     "execution_count": 107,
     "metadata": {},
     "output_type": "execute_result"
    }
   ],
   "source": [
    "# Decile Analysis for train data\n",
    "Predicted_avg = train_reg[['Deciles','pred']].groupby(train_reg.Deciles).mean().sort_index(ascending=False)['pred']\n",
    "Actual_avg = train_reg[['Deciles','ln_Y']].groupby(train_reg.Deciles).mean().sort_index(ascending=False)['ln_Y']\n",
    "\n",
    "Decile_analysis_train = pd.concat([Predicted_avg, Actual_avg], axis=1)\n",
    "\n",
    "Decile_analysis_train"
   ]
  },
  {
   "cell_type": "code",
   "execution_count": 108,
   "metadata": {},
   "outputs": [
    {
     "data": {
      "text/html": [
       "<div>\n",
       "<style scoped>\n",
       "    .dataframe tbody tr th:only-of-type {\n",
       "        vertical-align: middle;\n",
       "    }\n",
       "\n",
       "    .dataframe tbody tr th {\n",
       "        vertical-align: top;\n",
       "    }\n",
       "\n",
       "    .dataframe thead th {\n",
       "        text-align: right;\n",
       "    }\n",
       "</style>\n",
       "<table border=\"1\" class=\"dataframe\">\n",
       "  <thead>\n",
       "    <tr style=\"text-align: right;\">\n",
       "      <th></th>\n",
       "      <th>pred</th>\n",
       "      <th>ln_Y</th>\n",
       "    </tr>\n",
       "    <tr>\n",
       "      <th>Deciles</th>\n",
       "      <th></th>\n",
       "      <th></th>\n",
       "    </tr>\n",
       "  </thead>\n",
       "  <tbody>\n",
       "    <tr>\n",
       "      <td>9</td>\n",
       "      <td>6.694072</td>\n",
       "      <td>6.660490</td>\n",
       "    </tr>\n",
       "    <tr>\n",
       "      <td>8</td>\n",
       "      <td>6.407976</td>\n",
       "      <td>6.420376</td>\n",
       "    </tr>\n",
       "    <tr>\n",
       "      <td>7</td>\n",
       "      <td>6.249883</td>\n",
       "      <td>6.186702</td>\n",
       "    </tr>\n",
       "    <tr>\n",
       "      <td>6</td>\n",
       "      <td>6.117307</td>\n",
       "      <td>6.105822</td>\n",
       "    </tr>\n",
       "    <tr>\n",
       "      <td>5</td>\n",
       "      <td>6.010883</td>\n",
       "      <td>6.048183</td>\n",
       "    </tr>\n",
       "    <tr>\n",
       "      <td>4</td>\n",
       "      <td>5.895029</td>\n",
       "      <td>5.920591</td>\n",
       "    </tr>\n",
       "    <tr>\n",
       "      <td>3</td>\n",
       "      <td>5.800641</td>\n",
       "      <td>5.849480</td>\n",
       "    </tr>\n",
       "    <tr>\n",
       "      <td>2</td>\n",
       "      <td>5.724845</td>\n",
       "      <td>5.724320</td>\n",
       "    </tr>\n",
       "    <tr>\n",
       "      <td>1</td>\n",
       "      <td>5.654285</td>\n",
       "      <td>5.668620</td>\n",
       "    </tr>\n",
       "    <tr>\n",
       "      <td>0</td>\n",
       "      <td>5.477888</td>\n",
       "      <td>5.414091</td>\n",
       "    </tr>\n",
       "  </tbody>\n",
       "</table>\n",
       "</div>"
      ],
      "text/plain": [
       "             pred      ln_Y\n",
       "Deciles                    \n",
       "9        6.694072  6.660490\n",
       "8        6.407976  6.420376\n",
       "7        6.249883  6.186702\n",
       "6        6.117307  6.105822\n",
       "5        6.010883  6.048183\n",
       "4        5.895029  5.920591\n",
       "3        5.800641  5.849480\n",
       "2        5.724845  5.724320\n",
       "1        5.654285  5.668620\n",
       "0        5.477888  5.414091"
      ]
     },
     "execution_count": 108,
     "metadata": {},
     "output_type": "execute_result"
    }
   ],
   "source": [
    "# Decile Analysis for test data\n",
    "Predicted_avg = test_reg[['Deciles','pred']].groupby(test_reg.Deciles).mean().sort_index(ascending=False)['pred']\n",
    "Actual_avg = test_reg[['Deciles','ln_Y']].groupby(test_reg.Deciles).mean().sort_index(ascending=False)['ln_Y']\n",
    "\n",
    "Decile_analysis_test = pd.concat([Predicted_avg, Actual_avg], axis=1)\n",
    "\n",
    "Decile_analysis_test\n"
   ]
  },
  {
   "cell_type": "code",
   "execution_count": 109,
   "metadata": {},
   "outputs": [],
   "source": [
    "#Exporting Decile analysis in csv formate\n",
    "#Decile_analysis_train.to_csv('Decile_analysis_train.csv')\n",
    "#Decile_analysis_test.to_csv('Decile_analysis_test.csv')"
   ]
  },
  {
   "cell_type": "code",
   "execution_count": 110,
   "metadata": {},
   "outputs": [
    {
     "data": {
      "text/html": [
       "<div>\n",
       "<style scoped>\n",
       "    .dataframe tbody tr th:only-of-type {\n",
       "        vertical-align: middle;\n",
       "    }\n",
       "\n",
       "    .dataframe tbody tr th {\n",
       "        vertical-align: top;\n",
       "    }\n",
       "\n",
       "    .dataframe thead th {\n",
       "        text-align: right;\n",
       "    }\n",
       "</style>\n",
       "<table border=\"1\" class=\"dataframe\">\n",
       "  <thead>\n",
       "    <tr style=\"text-align: right;\">\n",
       "      <th></th>\n",
       "      <th>actual_pred</th>\n",
       "      <th>Total_spend</th>\n",
       "    </tr>\n",
       "    <tr>\n",
       "      <th>Deciles</th>\n",
       "      <th></th>\n",
       "      <th></th>\n",
       "    </tr>\n",
       "  </thead>\n",
       "  <tbody>\n",
       "    <tr>\n",
       "      <td>9</td>\n",
       "      <td>856.415709</td>\n",
       "      <td>918.564478</td>\n",
       "    </tr>\n",
       "    <tr>\n",
       "      <td>8</td>\n",
       "      <td>614.220118</td>\n",
       "      <td>696.321166</td>\n",
       "    </tr>\n",
       "    <tr>\n",
       "      <td>7</td>\n",
       "      <td>530.694377</td>\n",
       "      <td>614.285126</td>\n",
       "    </tr>\n",
       "    <tr>\n",
       "      <td>6</td>\n",
       "      <td>460.547343</td>\n",
       "      <td>526.671530</td>\n",
       "    </tr>\n",
       "    <tr>\n",
       "      <td>5</td>\n",
       "      <td>409.255295</td>\n",
       "      <td>473.300456</td>\n",
       "    </tr>\n",
       "    <tr>\n",
       "      <td>4</td>\n",
       "      <td>361.872874</td>\n",
       "      <td>430.097998</td>\n",
       "    </tr>\n",
       "    <tr>\n",
       "      <td>3</td>\n",
       "      <td>329.145718</td>\n",
       "      <td>370.617776</td>\n",
       "    </tr>\n",
       "    <tr>\n",
       "      <td>2</td>\n",
       "      <td>304.616103</td>\n",
       "      <td>347.732952</td>\n",
       "    </tr>\n",
       "    <tr>\n",
       "      <td>1</td>\n",
       "      <td>279.362860</td>\n",
       "      <td>319.575383</td>\n",
       "    </tr>\n",
       "    <tr>\n",
       "      <td>0</td>\n",
       "      <td>237.110618</td>\n",
       "      <td>269.701878</td>\n",
       "    </tr>\n",
       "  </tbody>\n",
       "</table>\n",
       "</div>"
      ],
      "text/plain": [
       "         actual_pred  Total_spend\n",
       "Deciles                          \n",
       "9         856.415709   918.564478\n",
       "8         614.220118   696.321166\n",
       "7         530.694377   614.285126\n",
       "6         460.547343   526.671530\n",
       "5         409.255295   473.300456\n",
       "4         361.872874   430.097998\n",
       "3         329.145718   370.617776\n",
       "2         304.616103   347.732952\n",
       "1         279.362860   319.575383\n",
       "0         237.110618   269.701878"
      ]
     },
     "execution_count": 110,
     "metadata": {},
     "output_type": "execute_result"
    }
   ],
   "source": [
    "predicted_avg = train_reg[['Deciles','actual_pred']].groupby(train_reg.Deciles).mean().sort_index(ascending=False)['actual_pred']\n",
    "Actual_avg = train_reg[['Deciles','Total_spend']].groupby(train_reg.Deciles).mean().sort_index(ascending=False)['Total_spend']\n",
    "\n",
    "Dec_ana_train_AP_TS = pd.concat([predicted_avg, Actual_avg], axis=1)\n",
    "\n",
    "Dec_ana_train_AP_TS"
   ]
  },
  {
   "cell_type": "code",
   "execution_count": 111,
   "metadata": {},
   "outputs": [
    {
     "data": {
      "text/html": [
       "<div>\n",
       "<style scoped>\n",
       "    .dataframe tbody tr th:only-of-type {\n",
       "        vertical-align: middle;\n",
       "    }\n",
       "\n",
       "    .dataframe tbody tr th {\n",
       "        vertical-align: top;\n",
       "    }\n",
       "\n",
       "    .dataframe thead th {\n",
       "        text-align: right;\n",
       "    }\n",
       "</style>\n",
       "<table border=\"1\" class=\"dataframe\">\n",
       "  <thead>\n",
       "    <tr style=\"text-align: right;\">\n",
       "      <th></th>\n",
       "      <th>actual_pred</th>\n",
       "      <th>Total_spend</th>\n",
       "    </tr>\n",
       "    <tr>\n",
       "      <th>Deciles</th>\n",
       "      <th></th>\n",
       "      <th></th>\n",
       "    </tr>\n",
       "  </thead>\n",
       "  <tbody>\n",
       "    <tr>\n",
       "      <td>9</td>\n",
       "      <td>817.697457</td>\n",
       "      <td>866.390685</td>\n",
       "    </tr>\n",
       "    <tr>\n",
       "      <td>8</td>\n",
       "      <td>607.505194</td>\n",
       "      <td>692.048965</td>\n",
       "    </tr>\n",
       "    <tr>\n",
       "      <td>7</td>\n",
       "      <td>518.499098</td>\n",
       "      <td>546.061555</td>\n",
       "    </tr>\n",
       "    <tr>\n",
       "      <td>6</td>\n",
       "      <td>453.992732</td>\n",
       "      <td>515.750683</td>\n",
       "    </tr>\n",
       "    <tr>\n",
       "      <td>5</td>\n",
       "      <td>408.090076</td>\n",
       "      <td>480.509268</td>\n",
       "    </tr>\n",
       "    <tr>\n",
       "      <td>4</td>\n",
       "      <td>363.435928</td>\n",
       "      <td>416.658954</td>\n",
       "    </tr>\n",
       "    <tr>\n",
       "      <td>3</td>\n",
       "      <td>330.604416</td>\n",
       "      <td>399.131400</td>\n",
       "    </tr>\n",
       "    <tr>\n",
       "      <td>2</td>\n",
       "      <td>306.485806</td>\n",
       "      <td>350.519070</td>\n",
       "    </tr>\n",
       "    <tr>\n",
       "      <td>1</td>\n",
       "      <td>285.606513</td>\n",
       "      <td>332.497419</td>\n",
       "    </tr>\n",
       "    <tr>\n",
       "      <td>0</td>\n",
       "      <td>240.108976</td>\n",
       "      <td>269.091837</td>\n",
       "    </tr>\n",
       "  </tbody>\n",
       "</table>\n",
       "</div>"
      ],
      "text/plain": [
       "         actual_pred  Total_spend\n",
       "Deciles                          \n",
       "9         817.697457   866.390685\n",
       "8         607.505194   692.048965\n",
       "7         518.499098   546.061555\n",
       "6         453.992732   515.750683\n",
       "5         408.090076   480.509268\n",
       "4         363.435928   416.658954\n",
       "3         330.604416   399.131400\n",
       "2         306.485806   350.519070\n",
       "1         285.606513   332.497419\n",
       "0         240.108976   269.091837"
      ]
     },
     "execution_count": 111,
     "metadata": {},
     "output_type": "execute_result"
    }
   ],
   "source": [
    "predicted_avg = test_reg[['Deciles','actual_pred']].groupby(test_reg.Deciles).mean().sort_index(ascending=False)['actual_pred']\n",
    "Actual_avg = test_reg[['Deciles','Total_spend']].groupby(test_reg.Deciles).mean().sort_index(ascending=False)['Total_spend']\n",
    "\n",
    "Dec_ana_test_AP_TS = pd.concat([predicted_avg, Actual_avg], axis=1)\n",
    "\n",
    "Dec_ana_test_AP_TS"
   ]
  },
  {
   "cell_type": "code",
   "execution_count": 112,
   "metadata": {},
   "outputs": [],
   "source": [
    "#Dec_ana_train_AP_TS.to_csv('Dec_ana_train_AP_TS.csv')\n",
    "#Dec_ana_test_AP_TS.to_csv('Dec_ana_test_AP_TS.csv')"
   ]
  },
  {
   "cell_type": "code",
   "execution_count": 113,
   "metadata": {},
   "outputs": [
    {
     "data": {
      "text/html": [
       "<div>\n",
       "<style scoped>\n",
       "    .dataframe tbody tr th:only-of-type {\n",
       "        vertical-align: middle;\n",
       "    }\n",
       "\n",
       "    .dataframe tbody tr th {\n",
       "        vertical-align: top;\n",
       "    }\n",
       "\n",
       "    .dataframe thead th {\n",
       "        text-align: right;\n",
       "    }\n",
       "</style>\n",
       "<table border=\"1\" class=\"dataframe\">\n",
       "  <thead>\n",
       "    <tr style=\"text-align: right;\">\n",
       "      <th></th>\n",
       "      <th>card2_3</th>\n",
       "      <th>card_4</th>\n",
       "      <th>union_1</th>\n",
       "      <th>card2_4</th>\n",
       "      <th>response_03_1</th>\n",
       "      <th>card_3</th>\n",
       "      <th>response_01_1</th>\n",
       "      <th>hometype_4</th>\n",
       "      <th>birthmonth_May</th>\n",
       "      <th>card2_5</th>\n",
       "      <th>...</th>\n",
       "      <th>card_5</th>\n",
       "      <th>reason_2</th>\n",
       "      <th>othdebt</th>\n",
       "      <th>owndvd_1</th>\n",
       "      <th>pets_saltfish</th>\n",
       "      <th>ln_Y</th>\n",
       "      <th>pred</th>\n",
       "      <th>Total_spend</th>\n",
       "      <th>actual_pred</th>\n",
       "      <th>Deciles</th>\n",
       "    </tr>\n",
       "  </thead>\n",
       "  <tbody>\n",
       "    <tr>\n",
       "      <td>2706</td>\n",
       "      <td>0</td>\n",
       "      <td>0</td>\n",
       "      <td>0</td>\n",
       "      <td>1</td>\n",
       "      <td>0</td>\n",
       "      <td>0</td>\n",
       "      <td>0</td>\n",
       "      <td>0</td>\n",
       "      <td>0</td>\n",
       "      <td>0</td>\n",
       "      <td>...</td>\n",
       "      <td>0</td>\n",
       "      <td>0</td>\n",
       "      <td>0.97096</td>\n",
       "      <td>1</td>\n",
       "      <td>0</td>\n",
       "      <td>6.234509</td>\n",
       "      <td>5.922082</td>\n",
       "      <td>510.05</td>\n",
       "      <td>373.187808</td>\n",
       "      <td>4</td>\n",
       "    </tr>\n",
       "  </tbody>\n",
       "</table>\n",
       "<p>1 rows × 39 columns</p>\n",
       "</div>"
      ],
      "text/plain": [
       "      card2_3  card_4  union_1  card2_4  response_03_1  card_3  response_01_1  \\\n",
       "2706        0       0        0        1              0       0              0   \n",
       "\n",
       "      hometype_4  birthmonth_May  card2_5  ...  card_5  reason_2  othdebt  \\\n",
       "2706           0               0        0  ...       0         0  0.97096   \n",
       "\n",
       "      owndvd_1  pets_saltfish      ln_Y      pred  Total_spend  actual_pred  \\\n",
       "2706         1              0  6.234509  5.922082       510.05   373.187808   \n",
       "\n",
       "      Deciles  \n",
       "2706        4  \n",
       "\n",
       "[1 rows x 39 columns]"
      ]
     },
     "execution_count": 113,
     "metadata": {},
     "output_type": "execute_result"
    }
   ],
   "source": [
    "test_reg.head(1)"
   ]
  },
  {
   "cell_type": "code",
   "execution_count": null,
   "metadata": {},
   "outputs": [],
   "source": []
  },
  {
   "cell_type": "markdown",
   "metadata": {},
   "source": [
    "## Machine Learning "
   ]
  },
  {
   "cell_type": "code",
   "execution_count": 115,
   "metadata": {},
   "outputs": [
    {
     "data": {
      "text/plain": [
       "(5000, 35)"
      ]
     },
     "execution_count": 115,
     "metadata": {},
     "output_type": "execute_result"
    }
   ],
   "source": [
    "final_data_new.shape"
   ]
  },
  {
   "cell_type": "code",
   "execution_count": 118,
   "metadata": {},
   "outputs": [],
   "source": [
    "#Independent columns\n",
    "Ind_col = final_data_new.columns.difference(['ln_Y'])"
   ]
  },
  {
   "cell_type": "code",
   "execution_count": 120,
   "metadata": {},
   "outputs": [
    {
     "data": {
      "text/plain": [
       "(34,)"
      ]
     },
     "execution_count": 120,
     "metadata": {},
     "output_type": "execute_result"
    }
   ],
   "source": [
    "Ind_col.shape"
   ]
  },
  {
   "cell_type": "code",
   "execution_count": 124,
   "metadata": {},
   "outputs": [],
   "source": [
    "#Considering Significant Variables for Machine Learning algorithms\n",
    "train_x, test_x, train_y, test_y = train_test_split(final_data_new[Ind_col],final_data_new.ln_Y, test_size=0.3, random_state=6)"
   ]
  },
  {
   "cell_type": "code",
   "execution_count": 177,
   "metadata": {},
   "outputs": [
    {
     "data": {
      "text/html": [
       "<div>\n",
       "<style scoped>\n",
       "    .dataframe tbody tr th:only-of-type {\n",
       "        vertical-align: middle;\n",
       "    }\n",
       "\n",
       "    .dataframe tbody tr th {\n",
       "        vertical-align: top;\n",
       "    }\n",
       "\n",
       "    .dataframe thead th {\n",
       "        text-align: right;\n",
       "    }\n",
       "</style>\n",
       "<table border=\"1\" class=\"dataframe\">\n",
       "  <thead>\n",
       "    <tr style=\"text-align: right;\">\n",
       "      <th></th>\n",
       "      <th>birthmonth_August</th>\n",
       "      <th>birthmonth_May</th>\n",
       "      <th>carcatvalue</th>\n",
       "      <th>card2_2</th>\n",
       "      <th>card2_3</th>\n",
       "      <th>card2_4</th>\n",
       "      <th>card2_5</th>\n",
       "      <th>card_2</th>\n",
       "      <th>card_3</th>\n",
       "      <th>card_4</th>\n",
       "      <th>...</th>\n",
       "      <th>othdebt</th>\n",
       "      <th>owndvd_1</th>\n",
       "      <th>pets_saltfish</th>\n",
       "      <th>reason_2</th>\n",
       "      <th>reason_3</th>\n",
       "      <th>response_01_1</th>\n",
       "      <th>response_02_1</th>\n",
       "      <th>response_03_1</th>\n",
       "      <th>retire_1</th>\n",
       "      <th>union_1</th>\n",
       "    </tr>\n",
       "  </thead>\n",
       "  <tbody>\n",
       "    <tr>\n",
       "      <td>288</td>\n",
       "      <td>0</td>\n",
       "      <td>0</td>\n",
       "      <td>1</td>\n",
       "      <td>0</td>\n",
       "      <td>0</td>\n",
       "      <td>0</td>\n",
       "      <td>0</td>\n",
       "      <td>0</td>\n",
       "      <td>0</td>\n",
       "      <td>1</td>\n",
       "      <td>...</td>\n",
       "      <td>0.306590</td>\n",
       "      <td>1</td>\n",
       "      <td>0</td>\n",
       "      <td>0</td>\n",
       "      <td>0</td>\n",
       "      <td>0</td>\n",
       "      <td>0</td>\n",
       "      <td>0</td>\n",
       "      <td>0</td>\n",
       "      <td>0</td>\n",
       "    </tr>\n",
       "    <tr>\n",
       "      <td>1713</td>\n",
       "      <td>0</td>\n",
       "      <td>0</td>\n",
       "      <td>1</td>\n",
       "      <td>0</td>\n",
       "      <td>0</td>\n",
       "      <td>0</td>\n",
       "      <td>0</td>\n",
       "      <td>0</td>\n",
       "      <td>1</td>\n",
       "      <td>0</td>\n",
       "      <td>...</td>\n",
       "      <td>4.238976</td>\n",
       "      <td>1</td>\n",
       "      <td>0</td>\n",
       "      <td>0</td>\n",
       "      <td>0</td>\n",
       "      <td>0</td>\n",
       "      <td>0</td>\n",
       "      <td>0</td>\n",
       "      <td>0</td>\n",
       "      <td>0</td>\n",
       "    </tr>\n",
       "    <tr>\n",
       "      <td>4879</td>\n",
       "      <td>0</td>\n",
       "      <td>0</td>\n",
       "      <td>1</td>\n",
       "      <td>0</td>\n",
       "      <td>0</td>\n",
       "      <td>0</td>\n",
       "      <td>1</td>\n",
       "      <td>0</td>\n",
       "      <td>0</td>\n",
       "      <td>0</td>\n",
       "      <td>...</td>\n",
       "      <td>0.286452</td>\n",
       "      <td>0</td>\n",
       "      <td>0</td>\n",
       "      <td>0</td>\n",
       "      <td>0</td>\n",
       "      <td>0</td>\n",
       "      <td>0</td>\n",
       "      <td>0</td>\n",
       "      <td>1</td>\n",
       "      <td>0</td>\n",
       "    </tr>\n",
       "    <tr>\n",
       "      <td>2460</td>\n",
       "      <td>0</td>\n",
       "      <td>0</td>\n",
       "      <td>3</td>\n",
       "      <td>1</td>\n",
       "      <td>0</td>\n",
       "      <td>0</td>\n",
       "      <td>0</td>\n",
       "      <td>0</td>\n",
       "      <td>1</td>\n",
       "      <td>0</td>\n",
       "      <td>...</td>\n",
       "      <td>3.981920</td>\n",
       "      <td>1</td>\n",
       "      <td>0</td>\n",
       "      <td>0</td>\n",
       "      <td>0</td>\n",
       "      <td>0</td>\n",
       "      <td>0</td>\n",
       "      <td>0</td>\n",
       "      <td>1</td>\n",
       "      <td>1</td>\n",
       "    </tr>\n",
       "    <tr>\n",
       "      <td>142</td>\n",
       "      <td>0</td>\n",
       "      <td>1</td>\n",
       "      <td>3</td>\n",
       "      <td>0</td>\n",
       "      <td>0</td>\n",
       "      <td>0</td>\n",
       "      <td>0</td>\n",
       "      <td>0</td>\n",
       "      <td>0</td>\n",
       "      <td>1</td>\n",
       "      <td>...</td>\n",
       "      <td>3.797821</td>\n",
       "      <td>1</td>\n",
       "      <td>0</td>\n",
       "      <td>0</td>\n",
       "      <td>0</td>\n",
       "      <td>0</td>\n",
       "      <td>0</td>\n",
       "      <td>0</td>\n",
       "      <td>0</td>\n",
       "      <td>0</td>\n",
       "    </tr>\n",
       "    <tr>\n",
       "      <td>...</td>\n",
       "      <td>...</td>\n",
       "      <td>...</td>\n",
       "      <td>...</td>\n",
       "      <td>...</td>\n",
       "      <td>...</td>\n",
       "      <td>...</td>\n",
       "      <td>...</td>\n",
       "      <td>...</td>\n",
       "      <td>...</td>\n",
       "      <td>...</td>\n",
       "      <td>...</td>\n",
       "      <td>...</td>\n",
       "      <td>...</td>\n",
       "      <td>...</td>\n",
       "      <td>...</td>\n",
       "      <td>...</td>\n",
       "      <td>...</td>\n",
       "      <td>...</td>\n",
       "      <td>...</td>\n",
       "      <td>...</td>\n",
       "      <td>...</td>\n",
       "    </tr>\n",
       "    <tr>\n",
       "      <td>335</td>\n",
       "      <td>0</td>\n",
       "      <td>0</td>\n",
       "      <td>1</td>\n",
       "      <td>0</td>\n",
       "      <td>0</td>\n",
       "      <td>0</td>\n",
       "      <td>1</td>\n",
       "      <td>0</td>\n",
       "      <td>1</td>\n",
       "      <td>0</td>\n",
       "      <td>...</td>\n",
       "      <td>0.587517</td>\n",
       "      <td>1</td>\n",
       "      <td>0</td>\n",
       "      <td>0</td>\n",
       "      <td>0</td>\n",
       "      <td>0</td>\n",
       "      <td>0</td>\n",
       "      <td>0</td>\n",
       "      <td>1</td>\n",
       "      <td>0</td>\n",
       "    </tr>\n",
       "    <tr>\n",
       "      <td>4714</td>\n",
       "      <td>0</td>\n",
       "      <td>1</td>\n",
       "      <td>1</td>\n",
       "      <td>1</td>\n",
       "      <td>0</td>\n",
       "      <td>0</td>\n",
       "      <td>0</td>\n",
       "      <td>0</td>\n",
       "      <td>1</td>\n",
       "      <td>0</td>\n",
       "      <td>...</td>\n",
       "      <td>0.395234</td>\n",
       "      <td>0</td>\n",
       "      <td>0</td>\n",
       "      <td>0</td>\n",
       "      <td>1</td>\n",
       "      <td>0</td>\n",
       "      <td>0</td>\n",
       "      <td>0</td>\n",
       "      <td>0</td>\n",
       "      <td>0</td>\n",
       "    </tr>\n",
       "    <tr>\n",
       "      <td>2004</td>\n",
       "      <td>0</td>\n",
       "      <td>1</td>\n",
       "      <td>1</td>\n",
       "      <td>1</td>\n",
       "      <td>0</td>\n",
       "      <td>0</td>\n",
       "      <td>0</td>\n",
       "      <td>0</td>\n",
       "      <td>0</td>\n",
       "      <td>1</td>\n",
       "      <td>...</td>\n",
       "      <td>1.012480</td>\n",
       "      <td>1</td>\n",
       "      <td>0</td>\n",
       "      <td>0</td>\n",
       "      <td>0</td>\n",
       "      <td>0</td>\n",
       "      <td>0</td>\n",
       "      <td>0</td>\n",
       "      <td>1</td>\n",
       "      <td>1</td>\n",
       "    </tr>\n",
       "    <tr>\n",
       "      <td>227</td>\n",
       "      <td>0</td>\n",
       "      <td>0</td>\n",
       "      <td>1</td>\n",
       "      <td>0</td>\n",
       "      <td>0</td>\n",
       "      <td>0</td>\n",
       "      <td>0</td>\n",
       "      <td>0</td>\n",
       "      <td>0</td>\n",
       "      <td>1</td>\n",
       "      <td>...</td>\n",
       "      <td>2.160816</td>\n",
       "      <td>1</td>\n",
       "      <td>0</td>\n",
       "      <td>0</td>\n",
       "      <td>0</td>\n",
       "      <td>0</td>\n",
       "      <td>1</td>\n",
       "      <td>0</td>\n",
       "      <td>1</td>\n",
       "      <td>0</td>\n",
       "    </tr>\n",
       "    <tr>\n",
       "      <td>2761</td>\n",
       "      <td>0</td>\n",
       "      <td>0</td>\n",
       "      <td>1</td>\n",
       "      <td>0</td>\n",
       "      <td>0</td>\n",
       "      <td>1</td>\n",
       "      <td>0</td>\n",
       "      <td>0</td>\n",
       "      <td>0</td>\n",
       "      <td>0</td>\n",
       "      <td>...</td>\n",
       "      <td>3.742560</td>\n",
       "      <td>1</td>\n",
       "      <td>0</td>\n",
       "      <td>0</td>\n",
       "      <td>0</td>\n",
       "      <td>0</td>\n",
       "      <td>0</td>\n",
       "      <td>0</td>\n",
       "      <td>0</td>\n",
       "      <td>1</td>\n",
       "    </tr>\n",
       "  </tbody>\n",
       "</table>\n",
       "<p>3500 rows × 34 columns</p>\n",
       "</div>"
      ],
      "text/plain": [
       "      birthmonth_August  birthmonth_May  carcatvalue  card2_2  card2_3  \\\n",
       "288                   0               0            1        0        0   \n",
       "1713                  0               0            1        0        0   \n",
       "4879                  0               0            1        0        0   \n",
       "2460                  0               0            3        1        0   \n",
       "142                   0               1            3        0        0   \n",
       "...                 ...             ...          ...      ...      ...   \n",
       "335                   0               0            1        0        0   \n",
       "4714                  0               1            1        1        0   \n",
       "2004                  0               1            1        1        0   \n",
       "227                   0               0            1        0        0   \n",
       "2761                  0               0            1        0        0   \n",
       "\n",
       "      card2_4  card2_5  card_2  card_3  card_4  ...   othdebt  owndvd_1  \\\n",
       "288         0        0       0       0       1  ...  0.306590         1   \n",
       "1713        0        0       0       1       0  ...  4.238976         1   \n",
       "4879        0        1       0       0       0  ...  0.286452         0   \n",
       "2460        0        0       0       1       0  ...  3.981920         1   \n",
       "142         0        0       0       0       1  ...  3.797821         1   \n",
       "...       ...      ...     ...     ...     ...  ...       ...       ...   \n",
       "335         0        1       0       1       0  ...  0.587517         1   \n",
       "4714        0        0       0       1       0  ...  0.395234         0   \n",
       "2004        0        0       0       0       1  ...  1.012480         1   \n",
       "227         0        0       0       0       1  ...  2.160816         1   \n",
       "2761        1        0       0       0       0  ...  3.742560         1   \n",
       "\n",
       "      pets_saltfish  reason_2  reason_3  response_01_1  response_02_1  \\\n",
       "288               0         0         0              0              0   \n",
       "1713              0         0         0              0              0   \n",
       "4879              0         0         0              0              0   \n",
       "2460              0         0         0              0              0   \n",
       "142               0         0         0              0              0   \n",
       "...             ...       ...       ...            ...            ...   \n",
       "335               0         0         0              0              0   \n",
       "4714              0         0         1              0              0   \n",
       "2004              0         0         0              0              0   \n",
       "227               0         0         0              0              1   \n",
       "2761              0         0         0              0              0   \n",
       "\n",
       "      response_03_1  retire_1  union_1  \n",
       "288               0         0        0  \n",
       "1713              0         0        0  \n",
       "4879              0         1        0  \n",
       "2460              0         1        1  \n",
       "142               0         0        0  \n",
       "...             ...       ...      ...  \n",
       "335               0         1        0  \n",
       "4714              0         0        0  \n",
       "2004              0         1        1  \n",
       "227               0         1        0  \n",
       "2761              0         0        1  \n",
       "\n",
       "[3500 rows x 34 columns]"
      ]
     },
     "execution_count": 177,
     "metadata": {},
     "output_type": "execute_result"
    }
   ],
   "source": [
    "train_x"
   ]
  },
  {
   "cell_type": "code",
   "execution_count": 125,
   "metadata": {},
   "outputs": [],
   "source": [
    "# Importing Required Packages\n",
    "from sklearn.linear_model import Ridge,Lasso"
   ]
  },
  {
   "cell_type": "code",
   "execution_count": 126,
   "metadata": {},
   "outputs": [],
   "source": [
    "# Ridge Regression"
   ]
  },
  {
   "cell_type": "code",
   "execution_count": 127,
   "metadata": {},
   "outputs": [
    {
     "data": {
      "text/plain": [
       "Ridge(alpha=0.0001, copy_X=True, fit_intercept=True, max_iter=None,\n",
       "      normalize=True, random_state=None, solver='auto', tol=0.001)"
      ]
     },
     "execution_count": 127,
     "metadata": {},
     "output_type": "execute_result"
    }
   ],
   "source": [
    "Ridge_Reg = Ridge(alpha=0.0001,normalize=True)\n",
    "Ridge_Reg.fit(train_x,train_y)"
   ]
  },
  {
   "cell_type": "code",
   "execution_count": 128,
   "metadata": {
    "scrolled": true
   },
   "outputs": [
    {
     "name": "stdout",
     "output_type": "stream",
     "text": [
      "MAPE values for training and testing data :\n",
      "0.0728326582518857\n",
      "0.06974558341102403\n",
      "\n",
      "RMSE values for training and testing data :\n",
      "0.5344870111997305\n",
      "0.5120465741950073\n"
     ]
    }
   ],
   "source": [
    "#Metrics for both training and testing data \n",
    "\n",
    "#Mean Absolute Percentage Error \n",
    "print(\"MAPE values for training and testing data :\")\n",
    "MAPE_train = np.mean(np.abs(train_y -Ridge_Reg.predict(train_x))/train_y)\n",
    "print(MAPE_train)\n",
    "MAPE_test = np.mean(np.abs(test_y- Ridge_Reg.predict(test_x))/test_y)\n",
    "print(MAPE_test)\n",
    "\n",
    "#Root Mean Squared error\n",
    "print(\"\\nRMSE values for training and testing data :\")\n",
    "RMSE_test = np.sqrt(mean_squared_error(train_y,Ridge_Reg.predict(train_x)))\n",
    "print(RMSE_test)\n",
    "RMSE_test =np.sqrt(mean_squared_error(test_y,Ridge_Reg.predict(test_x)))\n",
    "print(RMSE_test)"
   ]
  },
  {
   "cell_type": "code",
   "execution_count": 129,
   "metadata": {},
   "outputs": [],
   "source": [
    "# Lasso Regression :"
   ]
  },
  {
   "cell_type": "code",
   "execution_count": 130,
   "metadata": {},
   "outputs": [
    {
     "data": {
      "text/plain": [
       "Lasso(alpha=0.0001, copy_X=True, fit_intercept=True, max_iter=1000,\n",
       "      normalize=True, positive=False, precompute=False, random_state=None,\n",
       "      selection='cyclic', tol=0.0001, warm_start=False)"
      ]
     },
     "execution_count": 130,
     "metadata": {},
     "output_type": "execute_result"
    }
   ],
   "source": [
    "Lasso_Reg = Lasso(alpha=0.0001,normalize=True)\n",
    "Lasso_Reg.fit(train_x,train_y)"
   ]
  },
  {
   "cell_type": "code",
   "execution_count": 131,
   "metadata": {},
   "outputs": [
    {
     "name": "stdout",
     "output_type": "stream",
     "text": [
      "MAPE values for training and testing data :\n",
      "0.07292261526808502\n",
      "0.06977960611040418\n",
      "\n",
      "RMSE values for training and testing data :\n",
      "0.5363559234006008\n",
      "0.5130916481297241\n"
     ]
    }
   ],
   "source": [
    "#Metrics for both training and testing data \n",
    "\n",
    "#Mean Absolute Percentage Error \n",
    "print(\"MAPE values for training and testing data :\")\n",
    "MAPE_train = np.mean(np.abs(train_y -Lasso_Reg.predict(train_x))/train_y)\n",
    "print(MAPE_train)\n",
    "MAPE_test = np.mean(np.abs(test_y- Lasso_Reg.predict(test_x))/test_y)\n",
    "print(MAPE_test)\n",
    "\n",
    "#Root Mean Squared error\n",
    "print(\"\\nRMSE values for training and testing data :\")\n",
    "RMSE_test = np.sqrt(mean_squared_error(train_y,Lasso_Reg.predict(train_x)))\n",
    "print(RMSE_test)\n",
    "RMSE_test =np.sqrt(mean_squared_error(test_y,Lasso_Reg.predict(test_x)))\n",
    "print(RMSE_test)"
   ]
  },
  {
   "cell_type": "markdown",
   "metadata": {},
   "source": [
    "### Decision Trees :"
   ]
  },
  {
   "cell_type": "code",
   "execution_count": 132,
   "metadata": {},
   "outputs": [],
   "source": [
    "#Importing packages\n",
    "from sklearn import metrics\n",
    "from sklearn.tree import DecisionTreeRegressor, export_graphviz, export\n",
    "from sklearn.model_selection import GridSearchCV"
   ]
  },
  {
   "cell_type": "code",
   "execution_count": 133,
   "metadata": {},
   "outputs": [
    {
     "data": {
      "text/plain": [
       "GridSearchCV(cv=5, error_score='raise-deprecating',\n",
       "             estimator=DecisionTreeRegressor(criterion='mse', max_depth=None,\n",
       "                                             max_features=None,\n",
       "                                             max_leaf_nodes=None,\n",
       "                                             min_impurity_decrease=0.0,\n",
       "                                             min_impurity_split=None,\n",
       "                                             min_samples_leaf=1,\n",
       "                                             min_samples_split=2,\n",
       "                                             min_weight_fraction_leaf=0.0,\n",
       "                                             presort=False, random_state=None,\n",
       "                                             splitter='best'),\n",
       "             iid='warn', n_jobs=None,\n",
       "             param_grid={'max_depth': [5, 6, 7, 8, 9, 10]},\n",
       "             pre_dispatch='2*n_jobs', refit=True, return_train_score=False,\n",
       "             scoring=None, verbose=0)"
      ]
     },
     "execution_count": 133,
     "metadata": {},
     "output_type": "execute_result"
    }
   ],
   "source": [
    "#Model building\n",
    "param_grid = {'max_depth': [5,6,7,8,9,10]}\n",
    "data_tree = GridSearchCV(DecisionTreeRegressor(), param_grid, cv = 5)\n",
    "data_tree.fit(train_x,train_y)"
   ]
  },
  {
   "cell_type": "code",
   "execution_count": 134,
   "metadata": {},
   "outputs": [],
   "source": [
    "#Predicting values for both training and testing data sets\n",
    "tree_train_pred= data_tree.predict(train_x)\n",
    "tree_test_pred=data_tree.predict(test_x)"
   ]
  },
  {
   "cell_type": "code",
   "execution_count": 135,
   "metadata": {},
   "outputs": [
    {
     "name": "stdout",
     "output_type": "stream",
     "text": [
      "MAPE values for training and testing data :\n",
      "0.07633270035439539\n",
      "0.07723734030429003\n",
      "\n",
      "RMSE values for training and testing data :\n",
      "0.5644236509661783\n",
      "0.5723059870207137\n",
      "\n",
      "correlation for training and testing data sets:\n",
      "(0.49779577894212224, 1.376958492035724e-218)\n",
      "(0.4369187252374954, 5.847311497734329e-71)\n"
     ]
    }
   ],
   "source": [
    "#Metrics for both training and testing data \n",
    "\n",
    "#Mean Absolute Percentage Error \n",
    "print(\"MAPE values for training and testing data :\")\n",
    "MAPE_train = np.mean(np.abs(train_y -tree_train_pred)/train_y)\n",
    "print(MAPE_train)\n",
    "MAPE_test = np.mean(np.abs(test_y- tree_test_pred)/test_y)\n",
    "print(MAPE_test)\n",
    "\n",
    "#Root Mean Squared error\n",
    "print(\"\\nRMSE values for training and testing data :\")\n",
    "RMSE_test = np.sqrt(mean_squared_error(train_y,tree_train_pred))\n",
    "print(RMSE_test)\n",
    "RMSE_test =np.sqrt(mean_squared_error(test_y,tree_test_pred))\n",
    "print(RMSE_test)\n",
    "\n",
    "#correlation for training and testing sets\n",
    "print(\"\\ncorrelation for training and testing data sets:\")\n",
    "print(stats.stats.pearsonr(train_y,tree_train_pred))\n",
    "print(stats.stats.pearsonr(test_y,tree_test_pred))\n"
   ]
  },
  {
   "cell_type": "markdown",
   "metadata": {},
   "source": [
    "## 2.Ensemble Learning"
   ]
  },
  {
   "cell_type": "markdown",
   "metadata": {},
   "source": [
    "### 2.1 Bagging"
   ]
  },
  {
   "cell_type": "code",
   "execution_count": 136,
   "metadata": {},
   "outputs": [],
   "source": [
    "#Importing required packages\n",
    "from sklearn.ensemble import BaggingRegressor\n",
    "from sklearn.ensemble import AdaBoostRegressor\n",
    "from sklearn.ensemble import RandomForestRegressor\n",
    "from sklearn.ensemble import GradientBoostingRegressor"
   ]
  },
  {
   "cell_type": "code",
   "execution_count": 137,
   "metadata": {},
   "outputs": [],
   "source": [
    "#Model building\n",
    "pargrid_ada = {'n_estimators': [50,60,70,80,100]}\n",
    "\n",
    "gscv_bagging = GridSearchCV(estimator=BaggingRegressor(), \n",
    "                        param_grid=pargrid_ada, \n",
    "                        cv=3,n_jobs=-1)\n",
    "\n",
    "data_bagg =gscv_bagging.fit(train_x, train_y)"
   ]
  },
  {
   "cell_type": "code",
   "execution_count": 138,
   "metadata": {},
   "outputs": [],
   "source": [
    "#Predicting values for both training and testing data sets\n",
    "bagg_train_pred=data_bagg.predict(train_x)\n",
    "bagg_test_pred=data_bagg.predict(test_x)"
   ]
  },
  {
   "cell_type": "code",
   "execution_count": 139,
   "metadata": {},
   "outputs": [
    {
     "name": "stdout",
     "output_type": "stream",
     "text": [
      "MAPE values for training and testing data :\n",
      "0.028885978296159635\n",
      "0.07419389901730215\n",
      "\n",
      "MSE values for training and testing data :\n",
      "0.04623977203198873\n",
      "0.3013636680853827\n",
      "\n",
      "RMSE values for training and testing data :\n",
      "0.21503435081862787\n",
      "0.5489659990248783\n",
      "\n",
      "correlation for training and testing data sets:\n",
      "(0.9666500048585467, 0.0)\n",
      "(0.4987733956006545, 3.690931067512148e-95)\n"
     ]
    }
   ],
   "source": [
    "#Metrics for both training and testing data \n",
    "\n",
    "#Mean Absolute Percentage Error \n",
    "print(\"MAPE values for training and testing data :\")\n",
    "MAPE_train = np.mean(np.abs(train_y - bagg_train_pred)/train_y)\n",
    "print(MAPE_train)\n",
    "MAPE_test = np.mean(np.abs(test_y- bagg_test_pred)/test_y)\n",
    "print(MAPE_test)\n",
    "\n",
    "\n",
    "#Root Mean Squared error\n",
    "print(\"\\nMSE values for training and testing data :\")\n",
    "print(mean_squared_error(train_y,bagg_train_pred))\n",
    "print(mean_squared_error(test_y,bagg_test_pred))\n",
    "\n",
    "#Root Mean Squared error\n",
    "print(\"\\nRMSE values for training and testing data :\")\n",
    "RMSE_test = np.sqrt(mean_squared_error(train_y,bagg_train_pred))\n",
    "print(RMSE_test)\n",
    "RMSE_test =np.sqrt(mean_squared_error(test_y,bagg_test_pred))\n",
    "print(RMSE_test)\n",
    "\n",
    "#correlation for training and testing sets\n",
    "print(\"\\ncorrelation for training and testing data sets:\")\n",
    "print(stats.stats.pearsonr(train_y,bagg_train_pred))\n",
    "print(stats.stats.pearsonr(test_y,bagg_test_pred))\n"
   ]
  },
  {
   "cell_type": "markdown",
   "metadata": {},
   "source": [
    "### 2.2 Random Forest"
   ]
  },
  {
   "cell_type": "code",
   "execution_count": 140,
   "metadata": {},
   "outputs": [
    {
     "data": {
      "text/plain": [
       "GridSearchCV(cv=3, error_score='raise-deprecating',\n",
       "             estimator=RandomForestRegressor(bootstrap=True, criterion='mse',\n",
       "                                             max_depth=None,\n",
       "                                             max_features='auto',\n",
       "                                             max_leaf_nodes=None,\n",
       "                                             min_impurity_decrease=0.0,\n",
       "                                             min_impurity_split=None,\n",
       "                                             min_samples_leaf=1,\n",
       "                                             min_samples_split=2,\n",
       "                                             min_weight_fraction_leaf=0.0,\n",
       "                                             n_estimators='warn', n_jobs=None,\n",
       "                                             oob_score=False, random_state=None,\n",
       "                                             verbose=0, warm_start=False),\n",
       "             iid='warn', n_jobs=-1,\n",
       "             param_grid={'max_depth': [2, 3, 4],\n",
       "                         'n_estimators': [50, 60, 70, 80, 100]},\n",
       "             pre_dispatch='2*n_jobs', refit=True, return_train_score=False,\n",
       "             scoring=None, verbose=0)"
      ]
     },
     "execution_count": 140,
     "metadata": {},
     "output_type": "execute_result"
    }
   ],
   "source": [
    "pargrid_ada = {'n_estimators': [50,60,70,80,100],\n",
    "               'max_depth':[2,3,4]}\n",
    "\n",
    "data_rf = GridSearchCV(estimator=RandomForestRegressor(), \n",
    "                        param_grid=pargrid_ada, \n",
    "                        cv=3,n_jobs=-1)\n",
    "data_rf.fit(train_x,train_y)"
   ]
  },
  {
   "cell_type": "code",
   "execution_count": 141,
   "metadata": {},
   "outputs": [],
   "source": [
    "#Predicting values for both training and testing data sets\n",
    "rf_train_pred=data_rf.predict(train_x)\n",
    "rf_test_pred=data_rf.predict(test_x)"
   ]
  },
  {
   "cell_type": "code",
   "execution_count": 142,
   "metadata": {
    "scrolled": true
   },
   "outputs": [
    {
     "data": {
      "text/plain": [
       "{'max_depth': 4, 'n_estimators': 80}"
      ]
     },
     "execution_count": 142,
     "metadata": {},
     "output_type": "execute_result"
    }
   ],
   "source": [
    "data_rf.best_params_"
   ]
  },
  {
   "cell_type": "code",
   "execution_count": 143,
   "metadata": {},
   "outputs": [],
   "source": [
    "rf_model = RandomForestRegressor(max_depth=5,n_estimators = 100).fit(train_x,train_y)"
   ]
  },
  {
   "cell_type": "code",
   "execution_count": 144,
   "metadata": {},
   "outputs": [
    {
     "data": {
      "text/plain": [
       "Index(['birthmonth_August', 'birthmonth_May', 'carcatvalue', 'card2_2',\n",
       "       'card2_3', 'card2_4', 'card2_5', 'card_2', 'card_3', 'card_4', 'card_5',\n",
       "       'carvalue', 'commutebike_1', 'commutemotorcycle_1', 'commutenonmotor_1',\n",
       "       'commutepublic_1', 'creddebt', 'default_1', 'hometype_4', 'inccat',\n",
       "       'income', 'lncardten', 'lncreddebt', 'lnothdebt', 'othdebt', 'owndvd_1',\n",
       "       'pets_saltfish', 'reason_2', 'reason_3', 'response_01_1',\n",
       "       'response_02_1', 'response_03_1', 'retire_1', 'union_1'],\n",
       "      dtype='object')"
      ]
     },
     "execution_count": 144,
     "metadata": {},
     "output_type": "execute_result"
    }
   ],
   "source": [
    "train_x.columns"
   ]
  },
  {
   "cell_type": "code",
   "execution_count": 145,
   "metadata": {},
   "outputs": [],
   "source": [
    "rf_feature = [(i,v) for i, v in itertools.zip_longest(train_x.columns,rf_model.feature_importances_)]"
   ]
  },
  {
   "cell_type": "code",
   "execution_count": 146,
   "metadata": {
    "scrolled": true
   },
   "outputs": [
    {
     "data": {
      "text/plain": [
       "[('birthmonth_August', 0.000884840432531035),\n",
       " ('birthmonth_May', 0.0041874167334932004),\n",
       " ('carcatvalue', 0.0005889897613611141),\n",
       " ('card2_2', 0.013270337398270599),\n",
       " ('card2_3', 0.01258703370565545),\n",
       " ('card2_4', 0.004558180073550965),\n",
       " ('card2_5', 0.0017432100858003458),\n",
       " ('card_2', 0.0431490112302557),\n",
       " ('card_3', 0.05106163561092206),\n",
       " ('card_4', 0.06245271935278418),\n",
       " ('card_5', 0.0009785069289326828),\n",
       " ('carvalue', 0.028647506061685278),\n",
       " ('commutebike_1', 0.0008081829340939986),\n",
       " ('commutemotorcycle_1', 0.0015893361488244892),\n",
       " ('commutenonmotor_1', 0.001196647627270797),\n",
       " ('commutepublic_1', 0.0004548634967370893),\n",
       " ('creddebt', 0.019964518134022658),\n",
       " ('default_1', 0.0010854662864960866),\n",
       " ('hometype_4', 0.0013250361407397251),\n",
       " ('inccat', 0.027725570908129344),\n",
       " ('income', 0.5785042550417225),\n",
       " ('lncardten', 0.03406316994863967),\n",
       " ('lncreddebt', 0.021877936630377376),\n",
       " ('lnothdebt', 0.012574748011216177),\n",
       " ('othdebt', 0.012857887859162203),\n",
       " ('owndvd_1', 0.001097812072296686),\n",
       " ('pets_saltfish', 6.792433938129518e-05),\n",
       " ('reason_2', 0.05218477848827004),\n",
       " ('reason_3', 0.0011974848608158808),\n",
       " ('response_01_1', 0.0009982193568957736),\n",
       " ('response_02_1', 0.0009411981937034404),\n",
       " ('response_03_1', 0.002335607314249114),\n",
       " ('retire_1', 0.0011430218756206794),\n",
       " ('union_1', 0.0018969469560925329)]"
      ]
     },
     "execution_count": 146,
     "metadata": {},
     "output_type": "execute_result"
    }
   ],
   "source": [
    "rf_feature"
   ]
  },
  {
   "cell_type": "code",
   "execution_count": 147,
   "metadata": {
    "scrolled": true
   },
   "outputs": [
    {
     "data": {
      "text/html": [
       "<div>\n",
       "<style scoped>\n",
       "    .dataframe tbody tr th:only-of-type {\n",
       "        vertical-align: middle;\n",
       "    }\n",
       "\n",
       "    .dataframe tbody tr th {\n",
       "        vertical-align: top;\n",
       "    }\n",
       "\n",
       "    .dataframe thead th {\n",
       "        text-align: right;\n",
       "    }\n",
       "</style>\n",
       "<table border=\"1\" class=\"dataframe\">\n",
       "  <thead>\n",
       "    <tr style=\"text-align: right;\">\n",
       "      <th></th>\n",
       "      <th>feature</th>\n",
       "      <th>importance</th>\n",
       "    </tr>\n",
       "  </thead>\n",
       "  <tbody>\n",
       "    <tr>\n",
       "      <td>20</td>\n",
       "      <td>income</td>\n",
       "      <td>0.578504</td>\n",
       "    </tr>\n",
       "    <tr>\n",
       "      <td>9</td>\n",
       "      <td>card_4</td>\n",
       "      <td>0.062453</td>\n",
       "    </tr>\n",
       "    <tr>\n",
       "      <td>27</td>\n",
       "      <td>reason_2</td>\n",
       "      <td>0.052185</td>\n",
       "    </tr>\n",
       "    <tr>\n",
       "      <td>8</td>\n",
       "      <td>card_3</td>\n",
       "      <td>0.051062</td>\n",
       "    </tr>\n",
       "    <tr>\n",
       "      <td>7</td>\n",
       "      <td>card_2</td>\n",
       "      <td>0.043149</td>\n",
       "    </tr>\n",
       "    <tr>\n",
       "      <td>21</td>\n",
       "      <td>lncardten</td>\n",
       "      <td>0.034063</td>\n",
       "    </tr>\n",
       "    <tr>\n",
       "      <td>11</td>\n",
       "      <td>carvalue</td>\n",
       "      <td>0.028648</td>\n",
       "    </tr>\n",
       "    <tr>\n",
       "      <td>19</td>\n",
       "      <td>inccat</td>\n",
       "      <td>0.027726</td>\n",
       "    </tr>\n",
       "    <tr>\n",
       "      <td>22</td>\n",
       "      <td>lncreddebt</td>\n",
       "      <td>0.021878</td>\n",
       "    </tr>\n",
       "    <tr>\n",
       "      <td>16</td>\n",
       "      <td>creddebt</td>\n",
       "      <td>0.019965</td>\n",
       "    </tr>\n",
       "    <tr>\n",
       "      <td>3</td>\n",
       "      <td>card2_2</td>\n",
       "      <td>0.013270</td>\n",
       "    </tr>\n",
       "    <tr>\n",
       "      <td>24</td>\n",
       "      <td>othdebt</td>\n",
       "      <td>0.012858</td>\n",
       "    </tr>\n",
       "    <tr>\n",
       "      <td>4</td>\n",
       "      <td>card2_3</td>\n",
       "      <td>0.012587</td>\n",
       "    </tr>\n",
       "    <tr>\n",
       "      <td>23</td>\n",
       "      <td>lnothdebt</td>\n",
       "      <td>0.012575</td>\n",
       "    </tr>\n",
       "    <tr>\n",
       "      <td>5</td>\n",
       "      <td>card2_4</td>\n",
       "      <td>0.004558</td>\n",
       "    </tr>\n",
       "  </tbody>\n",
       "</table>\n",
       "</div>"
      ],
      "text/plain": [
       "       feature  importance\n",
       "20      income    0.578504\n",
       "9       card_4    0.062453\n",
       "27    reason_2    0.052185\n",
       "8       card_3    0.051062\n",
       "7       card_2    0.043149\n",
       "21   lncardten    0.034063\n",
       "11    carvalue    0.028648\n",
       "19      inccat    0.027726\n",
       "22  lncreddebt    0.021878\n",
       "16    creddebt    0.019965\n",
       "3      card2_2    0.013270\n",
       "24     othdebt    0.012858\n",
       "4      card2_3    0.012587\n",
       "23   lnothdebt    0.012575\n",
       "5      card2_4    0.004558"
      ]
     },
     "execution_count": 147,
     "metadata": {},
     "output_type": "execute_result"
    }
   ],
   "source": [
    "rf_feature_import = pd.DataFrame(rf_feature, columns=['feature','importance'])\n",
    "rf_feature_import.sort_values('importance',inplace = True,ascending=False)\n",
    "rf_feature_import.head(15)"
   ]
  },
  {
   "cell_type": "code",
   "execution_count": 148,
   "metadata": {
    "scrolled": true
   },
   "outputs": [
    {
     "name": "stdout",
     "output_type": "stream",
     "text": [
      "MAPE values for training and testing data :\n",
      "0.07723276463410478\n",
      "0.07500128710509142\n",
      "\n",
      "RMSE values for training and testing data :\n",
      "0.57038048212461\n",
      "0.5547687652145055\n",
      "\n",
      "correlation for training and testing data sets:\n",
      "(0.4896064762104225, 1.853615674986779e-210)\n",
      "(0.4803153809815366, 2.0706996324081983e-87)\n"
     ]
    }
   ],
   "source": [
    "#Metrics for both training and testing data \n",
    "\n",
    "#Mean Absolute Percentage Error \n",
    "print(\"MAPE values for training and testing data :\")\n",
    "MAPE_train = np.mean(np.abs(train_y - rf_train_pred)/train_y)\n",
    "print(MAPE_train)\n",
    "MAPE_test = np.mean(np.abs(test_y- rf_test_pred)/test_y)\n",
    "print(MAPE_test)\n",
    "\n",
    "#Root Mean Squared error\n",
    "print(\"\\nRMSE values for training and testing data :\")\n",
    "RMSE_test = np.sqrt(mean_squared_error(train_y,rf_train_pred))\n",
    "print(RMSE_test)\n",
    "RMSE_test =np.sqrt(mean_squared_error(test_y,rf_test_pred))\n",
    "print(RMSE_test)\n",
    "\n",
    "#correlation for training and testing sets\n",
    "print(\"\\ncorrelation for training and testing data sets:\")\n",
    "print(stats.stats.pearsonr(train_y,rf_train_pred))\n",
    "print(stats.stats.pearsonr(test_y,rf_test_pred))"
   ]
  },
  {
   "cell_type": "code",
   "execution_count": null,
   "metadata": {},
   "outputs": [],
   "source": []
  },
  {
   "cell_type": "raw",
   "metadata": {},
   "source": []
  },
  {
   "cell_type": "markdown",
   "metadata": {},
   "source": [
    "### 2.3 Boosting"
   ]
  },
  {
   "cell_type": "markdown",
   "metadata": {},
   "source": [
    "#### Ada Boost"
   ]
  },
  {
   "cell_type": "code",
   "execution_count": 149,
   "metadata": {},
   "outputs": [
    {
     "name": "stdout",
     "output_type": "stream",
     "text": [
      "Fitting 3 folds for each of 24 candidates, totalling 72 fits\n"
     ]
    },
    {
     "name": "stderr",
     "output_type": "stream",
     "text": [
      "[Parallel(n_jobs=-1)]: Using backend LokyBackend with 4 concurrent workers.\n",
      "[Parallel(n_jobs=-1)]: Done  42 tasks      | elapsed:   17.8s\n",
      "[Parallel(n_jobs=-1)]: Done  72 out of  72 | elapsed:   23.7s finished\n",
      "C:\\ProgramData\\Anaconda3\\lib\\site-packages\\sklearn\\model_selection\\_search.py:814: DeprecationWarning: The default of the `iid` parameter will change from True to False in version 0.22 and will be removed in 0.24. This will change numeric results when test-set sizes are unequal.\n",
      "  DeprecationWarning)\n"
     ]
    }
   ],
   "source": [
    "pargrid_ada = {'n_estimators': [60,70,80,100],\n",
    "               'learning_rate': [10 ** x for x in range(-4, 2)]}\n",
    "\n",
    "gscv_ada = GridSearchCV(estimator=AdaBoostRegressor(), \n",
    "                        param_grid=pargrid_ada, \n",
    "                        cv=3,\n",
    "                        verbose=True, n_jobs=-1)\n",
    "\n",
    "data_boost=gscv_ada.fit(train_x, train_y)"
   ]
  },
  {
   "cell_type": "code",
   "execution_count": 150,
   "metadata": {},
   "outputs": [],
   "source": [
    "#Predicting values for both training and testing data sets\n",
    "boost_train_pred=data_boost.predict(train_x)\n",
    "boost_test_pred=data_boost.predict(test_x)"
   ]
  },
  {
   "cell_type": "code",
   "execution_count": 151,
   "metadata": {},
   "outputs": [
    {
     "name": "stdout",
     "output_type": "stream",
     "text": [
      "MAPE values for training and testing data :\n",
      "0.0782438810566021\n",
      "0.0756853647524054\n",
      "\n",
      "RMSE values for training and testing data :\n",
      "0.5798544773121205\n",
      "0.5615723247783012\n",
      "\n",
      "correlation for training and testing data sets:\n",
      "(0.4768974089494479, 2.839985109241322e-198)\n",
      "(0.46705024758032715, 3.9721489748374786e-82)\n"
     ]
    }
   ],
   "source": [
    "#Metrics for both training and testing data \n",
    "\n",
    "#Mean Absolute Percentage Error \n",
    "print(\"MAPE values for training and testing data :\")\n",
    "MAPE_train = np.mean(np.abs(train_y - boost_train_pred)/train_y)\n",
    "print(MAPE_train)\n",
    "MAPE_test = np.mean(np.abs(test_y- boost_test_pred)/test_y)\n",
    "print(MAPE_test)\n",
    "\n",
    "#Root Mean Squared error\n",
    "print(\"\\nRMSE values for training and testing data :\")\n",
    "RMSE_test = np.sqrt(mean_squared_error(train_y,boost_train_pred))\n",
    "print(RMSE_test)\n",
    "RMSE_test =np.sqrt(mean_squared_error(test_y,boost_test_pred))\n",
    "print(RMSE_test)\n",
    "\n",
    "#correlation for training and testing sets\n",
    "print(\"\\ncorrelation for training and testing data sets:\")\n",
    "print(stats.stats.pearsonr(train_y,boost_train_pred))\n",
    "print(stats.stats.pearsonr(test_y,boost_test_pred))"
   ]
  },
  {
   "cell_type": "markdown",
   "metadata": {},
   "source": [
    "#### Gradient boost"
   ]
  },
  {
   "cell_type": "code",
   "execution_count": 152,
   "metadata": {},
   "outputs": [
    {
     "name": "stdout",
     "output_type": "stream",
     "text": [
      "Fitting 3 folds for each of 96 candidates, totalling 288 fits\n"
     ]
    },
    {
     "name": "stderr",
     "output_type": "stream",
     "text": [
      "[Parallel(n_jobs=-1)]: Using backend LokyBackend with 4 concurrent workers.\n",
      "[Parallel(n_jobs=-1)]: Done  42 tasks      | elapsed:    9.9s\n",
      "[Parallel(n_jobs=-1)]: Done 192 tasks      | elapsed:   48.9s\n",
      "[Parallel(n_jobs=-1)]: Done 288 out of 288 | elapsed:  1.2min finished\n"
     ]
    }
   ],
   "source": [
    "pargrid_ada = {'n_estimators': [60,70,80,100],\n",
    "               'max_depth':[2,3,4,5],\n",
    "               'learning_rate': [10 ** x for x in range(-4, 2)]}\n",
    "\n",
    "gscv_ada = GridSearchCV(estimator=GradientBoostingRegressor(), \n",
    "                        param_grid=pargrid_ada, \n",
    "                        cv=3,\n",
    "                        verbose=True, n_jobs=-1)\n",
    "\n",
    "data_gbm=gscv_ada.fit(train_x, train_y)"
   ]
  },
  {
   "cell_type": "code",
   "execution_count": 153,
   "metadata": {},
   "outputs": [],
   "source": [
    "#Predicting values for both training and testing data sets\n",
    "gbm_train_pred=data_gbm.predict(train_x)\n",
    "gbm_test_pred=data_gbm.predict(test_x)"
   ]
  },
  {
   "cell_type": "code",
   "execution_count": 154,
   "metadata": {},
   "outputs": [
    {
     "name": "stdout",
     "output_type": "stream",
     "text": [
      "MAPE values for training and testing data :\n",
      "0.06921489201360473\n",
      "0.07066318653980126\n",
      "\n",
      "RMSE values for training and testing data :\n",
      "0.5093636570998414\n",
      "0.51994595422943\n",
      "\n",
      "correlation for training and testing data sets:\n",
      "(0.6317358949093432, 0.0)\n",
      "(0.5681501275804464, 5.870131601738797e-129)\n"
     ]
    }
   ],
   "source": [
    "#Metrics for both training and testing data \n",
    "\n",
    "#Mean Absolute Percentage Error \n",
    "print(\"MAPE values for training and testing data :\")\n",
    "MAPE_train = np.mean(np.abs(train_y - gbm_train_pred)/train_y)\n",
    "print(MAPE_train)\n",
    "MAPE_test = np.mean(np.abs(test_y- gbm_test_pred)/test_y)\n",
    "print(MAPE_test)\n",
    "\n",
    "#Root Mean Squared error\n",
    "print(\"\\nRMSE values for training and testing data :\")\n",
    "RMSE_test = np.sqrt(mean_squared_error(train_y,gbm_train_pred))\n",
    "print(RMSE_test)\n",
    "RMSE_test =np.sqrt(mean_squared_error(test_y,gbm_test_pred))\n",
    "print(RMSE_test)\n",
    "\n",
    "#correlation for training and testing sets\n",
    "print(\"\\ncorrelation for training and testing data sets:\")\n",
    "print(stats.stats.pearsonr(train_y,gbm_train_pred))\n",
    "print(stats.stats.pearsonr(test_y,gbm_test_pred))"
   ]
  },
  {
   "cell_type": "markdown",
   "metadata": {},
   "source": [
    "#### XGBoost"
   ]
  },
  {
   "cell_type": "code",
   "execution_count": 155,
   "metadata": {},
   "outputs": [],
   "source": [
    "#pip install xgboost"
   ]
  },
  {
   "cell_type": "code",
   "execution_count": 156,
   "metadata": {},
   "outputs": [],
   "source": [
    "#Importing Required packages\n",
    "import xgboost\n",
    "from sklearn.model_selection import GridSearchCV, train_test_split\n",
    "from xgboost import XGBRegressor"
   ]
  },
  {
   "cell_type": "code",
   "execution_count": 157,
   "metadata": {},
   "outputs": [
    {
     "name": "stdout",
     "output_type": "stream",
     "text": [
      "[14:35:09] WARNING: C:/Jenkins/workspace/xgboost-win64_release_0.90/src/objective/regression_obj.cu:152: reg:linear is now deprecated in favor of reg:squarederror.\n"
     ]
    }
   ],
   "source": [
    "pargrid_xg = {'n_estimators': [60,70,80,100,120],\n",
    "               'max_depth':[2,3,4,5]}\n",
    "\n",
    "gscv_xg = GridSearchCV(estimator=xgboost.XGBRegressor(), \n",
    "                        param_grid=pargrid_xg, \n",
    "                        cv=3,n_jobs=-1)\n",
    "\n",
    "data_xg=gscv_xg.fit(train_x, train_y)"
   ]
  },
  {
   "cell_type": "code",
   "execution_count": 158,
   "metadata": {},
   "outputs": [],
   "source": [
    "#Predicting values for both training and testing data sets\n",
    "xg_train_pred=data_xg.predict(train_x)\n",
    "xg_test_pred=data_xg.predict(test_x)"
   ]
  },
  {
   "cell_type": "code",
   "execution_count": 159,
   "metadata": {
    "scrolled": true
   },
   "outputs": [
    {
     "data": {
      "text/plain": [
       "{'max_depth': 3, 'n_estimators': 100}"
      ]
     },
     "execution_count": 159,
     "metadata": {},
     "output_type": "execute_result"
    }
   ],
   "source": [
    "data_xg.best_params_"
   ]
  },
  {
   "cell_type": "code",
   "execution_count": 160,
   "metadata": {},
   "outputs": [
    {
     "name": "stdout",
     "output_type": "stream",
     "text": [
      "[14:35:11] WARNING: C:/Jenkins/workspace/xgboost-win64_release_0.90/src/objective/regression_obj.cu:152: reg:linear is now deprecated in favor of reg:squarederror.\n"
     ]
    }
   ],
   "source": [
    "xg_model = xgboost.XGBRegressor(max_depth=5,n_estimators = 100).fit(train_x,train_y)"
   ]
  },
  {
   "cell_type": "code",
   "execution_count": 161,
   "metadata": {},
   "outputs": [
    {
     "data": {
      "text/plain": [
       "Index(['birthmonth_August', 'birthmonth_May', 'carcatvalue', 'card2_2',\n",
       "       'card2_3', 'card2_4', 'card2_5', 'card_2', 'card_3', 'card_4', 'card_5',\n",
       "       'carvalue', 'commutebike_1', 'commutemotorcycle_1', 'commutenonmotor_1',\n",
       "       'commutepublic_1', 'creddebt', 'default_1', 'hometype_4', 'inccat',\n",
       "       'income', 'lncardten', 'lncreddebt', 'lnothdebt', 'othdebt', 'owndvd_1',\n",
       "       'pets_saltfish', 'reason_2', 'reason_3', 'response_01_1',\n",
       "       'response_02_1', 'response_03_1', 'retire_1', 'union_1'],\n",
       "      dtype='object')"
      ]
     },
     "execution_count": 161,
     "metadata": {},
     "output_type": "execute_result"
    }
   ],
   "source": [
    "train_x.columns"
   ]
  },
  {
   "cell_type": "code",
   "execution_count": 162,
   "metadata": {},
   "outputs": [],
   "source": [
    "xg_feature = [(i,v) for i, v in itertools.zip_longest(train_x.columns,xg_model.feature_importances_)]"
   ]
  },
  {
   "cell_type": "code",
   "execution_count": 163,
   "metadata": {
    "scrolled": true
   },
   "outputs": [
    {
     "data": {
      "text/plain": [
       "[('birthmonth_August', 0.006756091),\n",
       " ('birthmonth_May', 0.013714263),\n",
       " ('carcatvalue', 0.003855887),\n",
       " ('card2_2', 0.02796999),\n",
       " ('card2_3', 0.03218152),\n",
       " ('card2_4', 0.01944014),\n",
       " ('card2_5', 0.040935665),\n",
       " ('card_2', 0.05004687),\n",
       " ('card_3', 0.06151594),\n",
       " ('card_4', 0.05831902),\n",
       " ('card_5', 0.07649438),\n",
       " ('carvalue', 0.016272329),\n",
       " ('commutebike_1', 0.014466814),\n",
       " ('commutemotorcycle_1', 0.017691862),\n",
       " ('commutenonmotor_1', 0.0158466),\n",
       " ('commutepublic_1', 0.018845268),\n",
       " ('creddebt', 0.018433321),\n",
       " ('default_1', 0.0128083965),\n",
       " ('hometype_4', 0.018561978),\n",
       " ('inccat', 0.14896171),\n",
       " ('income', 0.07875209),\n",
       " ('lncardten', 0.016238684),\n",
       " ('lncreddebt', 0.0),\n",
       " ('lnothdebt', 0.019060623),\n",
       " ('othdebt', 0.0),\n",
       " ('owndvd_1', 0.017508728),\n",
       " ('pets_saltfish', 0.009286739),\n",
       " ('reason_2', 0.048196267),\n",
       " ('reason_3', 0.0632111),\n",
       " ('response_01_1', 0.016955117),\n",
       " ('response_02_1', 0.017132992),\n",
       " ('response_03_1', 0.013135455),\n",
       " ('retire_1', 0.014145731),\n",
       " ('union_1', 0.013258428)]"
      ]
     },
     "execution_count": 163,
     "metadata": {},
     "output_type": "execute_result"
    }
   ],
   "source": [
    "xg_feature"
   ]
  },
  {
   "cell_type": "code",
   "execution_count": 164,
   "metadata": {
    "scrolled": true
   },
   "outputs": [
    {
     "data": {
      "text/html": [
       "<div>\n",
       "<style scoped>\n",
       "    .dataframe tbody tr th:only-of-type {\n",
       "        vertical-align: middle;\n",
       "    }\n",
       "\n",
       "    .dataframe tbody tr th {\n",
       "        vertical-align: top;\n",
       "    }\n",
       "\n",
       "    .dataframe thead th {\n",
       "        text-align: right;\n",
       "    }\n",
       "</style>\n",
       "<table border=\"1\" class=\"dataframe\">\n",
       "  <thead>\n",
       "    <tr style=\"text-align: right;\">\n",
       "      <th></th>\n",
       "      <th>feature</th>\n",
       "      <th>importance</th>\n",
       "    </tr>\n",
       "  </thead>\n",
       "  <tbody>\n",
       "    <tr>\n",
       "      <td>19</td>\n",
       "      <td>inccat</td>\n",
       "      <td>0.148962</td>\n",
       "    </tr>\n",
       "    <tr>\n",
       "      <td>20</td>\n",
       "      <td>income</td>\n",
       "      <td>0.078752</td>\n",
       "    </tr>\n",
       "    <tr>\n",
       "      <td>10</td>\n",
       "      <td>card_5</td>\n",
       "      <td>0.076494</td>\n",
       "    </tr>\n",
       "    <tr>\n",
       "      <td>28</td>\n",
       "      <td>reason_3</td>\n",
       "      <td>0.063211</td>\n",
       "    </tr>\n",
       "    <tr>\n",
       "      <td>8</td>\n",
       "      <td>card_3</td>\n",
       "      <td>0.061516</td>\n",
       "    </tr>\n",
       "    <tr>\n",
       "      <td>9</td>\n",
       "      <td>card_4</td>\n",
       "      <td>0.058319</td>\n",
       "    </tr>\n",
       "    <tr>\n",
       "      <td>7</td>\n",
       "      <td>card_2</td>\n",
       "      <td>0.050047</td>\n",
       "    </tr>\n",
       "    <tr>\n",
       "      <td>27</td>\n",
       "      <td>reason_2</td>\n",
       "      <td>0.048196</td>\n",
       "    </tr>\n",
       "    <tr>\n",
       "      <td>6</td>\n",
       "      <td>card2_5</td>\n",
       "      <td>0.040936</td>\n",
       "    </tr>\n",
       "    <tr>\n",
       "      <td>4</td>\n",
       "      <td>card2_3</td>\n",
       "      <td>0.032182</td>\n",
       "    </tr>\n",
       "    <tr>\n",
       "      <td>3</td>\n",
       "      <td>card2_2</td>\n",
       "      <td>0.027970</td>\n",
       "    </tr>\n",
       "    <tr>\n",
       "      <td>5</td>\n",
       "      <td>card2_4</td>\n",
       "      <td>0.019440</td>\n",
       "    </tr>\n",
       "    <tr>\n",
       "      <td>23</td>\n",
       "      <td>lnothdebt</td>\n",
       "      <td>0.019061</td>\n",
       "    </tr>\n",
       "    <tr>\n",
       "      <td>15</td>\n",
       "      <td>commutepublic_1</td>\n",
       "      <td>0.018845</td>\n",
       "    </tr>\n",
       "    <tr>\n",
       "      <td>18</td>\n",
       "      <td>hometype_4</td>\n",
       "      <td>0.018562</td>\n",
       "    </tr>\n",
       "  </tbody>\n",
       "</table>\n",
       "</div>"
      ],
      "text/plain": [
       "            feature  importance\n",
       "19           inccat    0.148962\n",
       "20           income    0.078752\n",
       "10           card_5    0.076494\n",
       "28         reason_3    0.063211\n",
       "8            card_3    0.061516\n",
       "9            card_4    0.058319\n",
       "7            card_2    0.050047\n",
       "27         reason_2    0.048196\n",
       "6           card2_5    0.040936\n",
       "4           card2_3    0.032182\n",
       "3           card2_2    0.027970\n",
       "5           card2_4    0.019440\n",
       "23        lnothdebt    0.019061\n",
       "15  commutepublic_1    0.018845\n",
       "18       hometype_4    0.018562"
      ]
     },
     "execution_count": 164,
     "metadata": {},
     "output_type": "execute_result"
    }
   ],
   "source": [
    "xg_feature_import = pd.DataFrame(xg_feature, columns=['feature','importance'])\n",
    "xg_feature_import.sort_values('importance',inplace = True,ascending=False)\n",
    "xg_feature_import.head(15)"
   ]
  },
  {
   "cell_type": "code",
   "execution_count": 165,
   "metadata": {},
   "outputs": [
    {
     "name": "stdout",
     "output_type": "stream",
     "text": [
      "MAPE values for training and testing data :\n",
      "0.06961914589968349\n",
      "0.0703970318068836\n",
      "\n",
      "RMSE values for training and testing data :\n",
      "0.5128223183906281\n",
      "0.5188675501145322\n",
      "\n",
      "correlation for training and testing data sets:\n",
      "(0.6242454830950462, 0.0)\n",
      "(0.5712436362339093, 1.1717193562849315e-130)\n"
     ]
    }
   ],
   "source": [
    "#Metrics for both training and testing data \n",
    "\n",
    "#Mean Absolute Percentage Error \n",
    "print(\"MAPE values for training and testing data :\")\n",
    "MAPE_train = np.mean(np.abs(train_y - xg_train_pred)/train_y)\n",
    "print(MAPE_train)\n",
    "MAPE_test = np.mean(np.abs(test_y- xg_test_pred)/test_y)\n",
    "print(MAPE_test)\n",
    "\n",
    "#Root Mean Squared error\n",
    "print(\"\\nRMSE values for training and testing data :\")\n",
    "RMSE_test = np.sqrt(mean_squared_error(train_y,xg_train_pred))\n",
    "print(RMSE_test)\n",
    "RMSE_test =np.sqrt(mean_squared_error(test_y,xg_test_pred))\n",
    "print(RMSE_test)\n",
    "\n",
    "#correlation for training and testing sets\n",
    "print(\"\\ncorrelation for training and testing data sets:\")\n",
    "print(stats.stats.pearsonr(train_y,xg_train_pred))\n",
    "print(stats.stats.pearsonr(test_y,xg_test_pred))\n",
    "\n"
   ]
  },
  {
   "cell_type": "markdown",
   "metadata": {},
   "source": [
    "### K - Nearest Neighbours"
   ]
  },
  {
   "cell_type": "code",
   "execution_count": 166,
   "metadata": {},
   "outputs": [],
   "source": [
    "#Importing required modules\n",
    "from sklearn.neighbors import KNeighborsRegressor\n",
    "from sklearn.preprocessing import StandardScaler"
   ]
  },
  {
   "cell_type": "code",
   "execution_count": 167,
   "metadata": {},
   "outputs": [],
   "source": [
    "#Standardising the data because KNN is distance based algorithm \n",
    "scaler = StandardScaler()\n",
    "train_X = scaler.fit_transform(train_x)\n",
    "test_X = scaler.fit_transform(test_x)"
   ]
  },
  {
   "cell_type": "code",
   "execution_count": 168,
   "metadata": {},
   "outputs": [],
   "source": [
    "#Model Building using different tuning parameters\n",
    "tuned_parameters = [{'n_neighbors': [5, 7, 9,10,],\n",
    "                    'leaf_size':[30,40,50,60]}]\n",
    "\n",
    "knn_reg = GridSearchCV(KNeighborsRegressor(),\n",
    "                   tuned_parameters,\n",
    "                   cv=3)\n",
    "\n",
    "data_knn = knn_reg.fit(train_X,train_y)"
   ]
  },
  {
   "cell_type": "code",
   "execution_count": 169,
   "metadata": {},
   "outputs": [],
   "source": [
    "#Predicting values for both training and testing data sets\n",
    "knn_train_pred=data_knn.predict(train_X)\n",
    "knn_test_pred=data_knn.predict(test_X)"
   ]
  },
  {
   "cell_type": "code",
   "execution_count": 170,
   "metadata": {},
   "outputs": [
    {
     "name": "stdout",
     "output_type": "stream",
     "text": [
      "MAPE values for training and testing data :\n",
      "0.0732949329554268\n",
      "0.07897207969624179\n",
      "\n",
      "RMSE values for training and testing data :\n",
      "0.5402130243018074\n",
      "0.5811199896822129\n",
      "\n",
      "correlation for training and testing data sets:\n",
      "(0.5614874077967638, 5.079736806518428e-290)\n",
      "(0.4019872534359208, 2.375937836072549e-59)\n"
     ]
    }
   ],
   "source": [
    "#Metrics for both training and testing data \n",
    "\n",
    "#Mean Absolute Percentage Error \n",
    "print(\"MAPE values for training and testing data :\")\n",
    "MAPE_train = np.mean(np.abs(train_y - knn_train_pred)/train_y)\n",
    "print(MAPE_train)\n",
    "MAPE_test = np.mean(np.abs(test_y- knn_test_pred)/test_y)\n",
    "print(MAPE_test)\n",
    "\n",
    "#Root Mean Squared error\n",
    "print(\"\\nRMSE values for training and testing data :\")\n",
    "RMSE_test = np.sqrt(mean_squared_error(train_y,knn_train_pred))\n",
    "print(RMSE_test)\n",
    "RMSE_test =np.sqrt(mean_squared_error(test_y,knn_test_pred))\n",
    "print(RMSE_test)\n",
    "\n",
    "#correlation for training and testing sets\n",
    "print(\"\\ncorrelation for training and testing data sets:\")\n",
    "print(stats.stats.pearsonr(train_y,knn_train_pred))\n",
    "print(stats.stats.pearsonr(test_y,knn_test_pred))"
   ]
  },
  {
   "cell_type": "markdown",
   "metadata": {},
   "source": [
    "## ANN(Artificial Neural Network)"
   ]
  },
  {
   "cell_type": "code",
   "execution_count": 173,
   "metadata": {},
   "outputs": [],
   "source": [
    "#Importing required Module\n",
    "from sklearn.neural_network import MLPRegressor"
   ]
  },
  {
   "cell_type": "code",
   "execution_count": 174,
   "metadata": {},
   "outputs": [],
   "source": [
    "pargrid_ann = {'activation': ['relu','tanh','logistic','identity'],\n",
    "               'alpha':[0.0001,0.001,0.01,1,10,100,1000]}\n",
    "\n",
    "ann_reg = GridSearchCV(MLPRegressor(),pargrid_ann,cv=3)\n",
    "\n",
    "data_ann = ann_reg.fit(train_X,train_y)"
   ]
  },
  {
   "cell_type": "code",
   "execution_count": 175,
   "metadata": {},
   "outputs": [],
   "source": [
    "#Predicting values for both training and testing data sets\n",
    "ann_train_pred=data_ann.predict(train_X)\n",
    "ann_test_pred=data_ann.predict(test_X)"
   ]
  },
  {
   "cell_type": "code",
   "execution_count": 176,
   "metadata": {},
   "outputs": [
    {
     "name": "stdout",
     "output_type": "stream",
     "text": [
      "MAPE values for training and testing data :\n",
      "0.0727623274919518\n",
      "0.06984921771328176\n",
      "\n",
      "RMSE values for training and testing data :\n",
      "0.533765244712023\n",
      "0.512465973105041\n"
     ]
    }
   ],
   "source": [
    "#Metrics for both training and testing data \n",
    "\n",
    "#Mean Absolute Percentage Error \n",
    "print(\"MAPE values for training and testing data :\")\n",
    "MAPE_train = np.mean(np.abs(train_y - ann_train_pred)/train_y)\n",
    "print(MAPE_train)\n",
    "MAPE_test = np.mean(np.abs(test_y- ann_test_pred)/test_y)\n",
    "print(MAPE_test)\n",
    "\n",
    "#Root Mean Squared error\n",
    "print(\"\\nRMSE values for training and testing data :\")\n",
    "RMSE_test = np.sqrt(mean_squared_error(train_y,ann_train_pred))\n",
    "print(RMSE_test)\n",
    "RMSE_test =np.sqrt(mean_squared_error(test_y,ann_test_pred))\n",
    "print(RMSE_test)"
   ]
  },
  {
   "cell_type": "code",
   "execution_count": null,
   "metadata": {},
   "outputs": [],
   "source": []
  },
  {
   "cell_type": "markdown",
   "metadata": {},
   "source": [
    "## SVM(Support Vector Machine) "
   ]
  },
  {
   "cell_type": "code",
   "execution_count": 171,
   "metadata": {},
   "outputs": [],
   "source": [
    "#Importing required modules\n",
    "from sklearn.svm import SVR\n",
    "from sklearn.svm import LinearSVR "
   ]
  },
  {
   "cell_type": "code",
   "execution_count": null,
   "metadata": {},
   "outputs": [],
   "source": [
    "#Model building using Linear svm \n",
    "tuned_parameters = [{'C': [1,0.1,0.001,10,100],\n",
    "                    'gamma':[0.0001, 0.001, 0.01, 0.1],\n",
    "                    'kernel':['linear','rbf','poly']}]\n",
    "\n",
    "svr_reg = GridSearchCV(SVR(),\n",
    "                   tuned_parameters,\n",
    "                   cv=3)\n",
    "\n",
    "data_svr = svr_reg.fit(train_X,train_y)"
   ]
  },
  {
   "cell_type": "code",
   "execution_count": null,
   "metadata": {},
   "outputs": [],
   "source": [
    "#Predicting values for both training and testing data sets\n",
    "L_svr_train_pred=data_svr.predict(train_x)\n",
    "L_svr_test_pred=data_svr.predict(test_x)"
   ]
  },
  {
   "cell_type": "code",
   "execution_count": null,
   "metadata": {},
   "outputs": [],
   "source": [
    "#Metrics for both training and testing data \n",
    "\n",
    "#Mean Absolute Percentage Error \n",
    "print(\"MAPE values for training and testing data :\")\n",
    "MAPE_train = np.mean(np.abs(train_y - L_svr_train_pred)/train_y)\n",
    "print(MAPE_train)\n",
    "MAPE_test = np.mean(np.abs(test_y- L_svr_test_pred)/test_y)\n",
    "print(MAPE_test)\n",
    "\n",
    "#Root Mean Squared error\n",
    "print(\"\\nRMSE values for training and testing data :\")\n",
    "RMSE_test = np.sqrt(mean_squared_error(train_y,L_svr_train_pred))\n",
    "print(RMSE_test)\n",
    "RMSE_test =np.sqrt(mean_squared_error(test_y,L_svr_test_pred))\n",
    "print(RMSE_test)"
   ]
  },
  {
   "cell_type": "raw",
   "metadata": {},
   "source": [
    "--------------------------------------------------------------------------------------"
   ]
  },
  {
   "cell_type": "code",
   "execution_count": null,
   "metadata": {},
   "outputs": [],
   "source": []
  }
 ],
 "metadata": {
  "kernelspec": {
   "display_name": "Python 3",
   "language": "python",
   "name": "python3"
  },
  "language_info": {
   "codemirror_mode": {
    "name": "ipython",
    "version": 3
   },
   "file_extension": ".py",
   "mimetype": "text/x-python",
   "name": "python",
   "nbconvert_exporter": "python",
   "pygments_lexer": "ipython3",
   "version": "3.7.4"
  }
 },
 "nbformat": 4,
 "nbformat_minor": 2
}
